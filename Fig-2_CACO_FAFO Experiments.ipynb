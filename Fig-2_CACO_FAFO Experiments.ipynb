{
 "cells": [
  {
   "cell_type": "code",
   "execution_count": 1,
   "id": "7ed13b1f",
   "metadata": {},
   "outputs": [
    {
     "name": "stdout",
     "output_type": "stream",
     "text": [
      "cuda\n"
     ]
    }
   ],
   "source": [
    "import numpy as np\n",
    "import torch\n",
    "import torch.nn as nn\n",
    "import torch.optim as optim\n",
    "from torch.nn import functional as F\n",
    "\n",
    "from matplotlib import pyplot as plt\n",
    "from tqdm import tqdm as tqdm\n",
    "import math\n",
    "from matplotlib.colors import ListedColormap\n",
    "import seaborn as sns\n",
    "\n",
    "%matplotlib inline\n",
    "device = torch.device(\"cuda\" if torch.cuda.is_available() else \"cpu\")\n",
    "print(device)"
   ]
  },
  {
   "cell_type": "code",
   "execution_count": 2,
   "id": "ba437766",
   "metadata": {},
   "outputs": [
    {
     "data": {
      "image/png": "[encoded data removed]",
      "text/plain": [
       "<Figure size 3500x1000 with 1 Axes>"
      ]
     },
     "metadata": {},
     "output_type": "display_data"
    }
   ],
   "source": [
    "seq_class = []\n",
    "total_tokens = 50\n",
    "offset = 10 \n",
    "\n",
    "for i in range(4):\n",
    "    temp = np.zeros(total_tokens)\n",
    "    temp[:offset] = 1\n",
    "    temp[(i+1)*offset:((i+2)*offset)] = np.arange(0.1,1.1,0.1)\n",
    "    temp = temp/sum(temp)\n",
    "    seq_class.append(temp)\n",
    "    assert(sum(seq_class[i])==1)\n",
    "plt.figure(figsize=(35,10))\n",
    "plt.imshow(np.vstack(seq_class))\n",
    "    \n",
    "def sample_sequence(next_token,seq_len):\n",
    "    '''\n",
    "    function to sample a sequence based on p(l|m,n) for given m and n.\n",
    "    '''\n",
    "    query_tokens = [5,6,7,8]\n",
    "    next_tokens = [1,2,3,4]\n",
    "    if next_token==next_tokens[0]:\n",
    "        context_tokens = np.random.choice(np.arange(50),p=seq_class[0],size=seq_len-2)\n",
    "        seq = np.append(context_tokens,[query_tokens[0],next_token])\n",
    "    if next_token==next_tokens[1]:\n",
    "        context_tokens = np.random.choice(np.arange(50),p=seq_class[1],size=seq_len-2)\n",
    "        seq = np.append(context_tokens,[query_tokens[1],next_token])\n",
    "    if next_token==next_tokens[2]:\n",
    "        context_tokens = np.random.choice(np.arange(50),p=seq_class[2],size=seq_len-2)\n",
    "        seq = np.append(context_tokens,[query_tokens[2],next_token])\n",
    "    if next_token==next_tokens[3]:\n",
    "        context_tokens = np.random.choice(np.arange(50),p=seq_class[3],size=seq_len-2)\n",
    "        seq = np.append(context_tokens,[query_tokens[3],next_token])\n",
    "    return seq\n",
    "\n",
    "def generate_data(batch_size,seq_len):\n",
    "    batch_of_seq = []\n",
    "    next_tokens = [1,2,3,4]\n",
    "    for i in range(batch_size):\n",
    "        next_token = np.random.choice(next_tokens,p=[0.25]*4)\n",
    "        generated_seq = sample_sequence(next_token,seq_len)\n",
    "        batch_of_seq.append(torch.tensor(generated_seq))\n",
    "    return torch.vstack(batch_of_seq)\n",
    "\n",
    "\n",
    "def analyse_model(model,batch_size,seq_len):\n",
    "    test_inputs = generate_data(batch_size,seq_len)\n",
    "    tinputs,tlabels  = test_inputs[:,:-1].to(device),test_inputs[:,-1].to(device)\n",
    "    \n",
    "    model.eval()\n",
    "    with torch.no_grad():\n",
    "        model_output,model_attention = model(tinputs)\n",
    "    #model_output = nn.Softmax(dim=1)(model_output)\n",
    "\n",
    "    common_tokens_attn = []\n",
    "    distinct_tokens_attn = []\n",
    "    for i in range(batch_size):\n",
    "        indices_1 = torch.logical_and(tinputs[i]>=0,tinputs[i]<10)\n",
    "        indices_2 = torch.logical_and(tinputs[i]>=10,tinputs[i]<50)\n",
    "        common_tokens_attn.append(sum(model_attention[i][indices_1]).item())\n",
    "        distinct_tokens_attn.append(sum(model_attention[i][indices_2]).item())\n",
    "    return np.mean(common_tokens_attn),np.mean(distinct_tokens_attn)\n",
    "\n",
    "\n",
    "class Net_p1(nn.Module):\n",
    "    def __init__(self):\n",
    "        super(Net_p1,self).__init__()\n",
    "        self.key_layer = nn.Linear(50,50,bias=False)\n",
    "        self.query_layer = nn.Linear(50,50,bias=False)\n",
    "        self.value_layer = nn.Linear(50,50,bias=False)\n",
    "        self.prediction_layer = nn.Linear(50,50,bias=False)\n",
    "        \n",
    "        #self.key_query_layer.weight = nn.Parameter(torch.zeros(50,50))\n",
    "        self.key_layer.weight = nn.Parameter(torch.eye(50,50)*0.000001)\n",
    "        self.query_layer.weight = nn.Parameter(torch.eye(50,50)*0.000001)\n",
    "        self.value_layer.weight = nn.Parameter(torch.eye(50,50)*0.000001)\n",
    "        self.prediction_layer.weight = nn.Parameter(torch.eye(50,50)*0.000001)\n",
    "    def forward(self,x):\n",
    "        batch,seq_len,vocab_size = x.shape\n",
    "        \n",
    "        key = self.key_layer(x)\n",
    "        query = torch.unsqueeze(self.query_layer(x[:,-1]),dim=1)\n",
    "        \n",
    "        #print(key.shape,query.shape)\n",
    "        scores = (query@key.transpose(-2,-1))*(1/math.sqrt(key.size(-1)))\n",
    "        \n",
    "        \n",
    "        \n",
    "        \n",
    "        attn = nn.Softmax(dim=-1)(scores)\n",
    "        x1 = self.value_layer(x)\n",
    "        context =torch.matmul(attn,x1)\n",
    "    \n",
    "        output = self.prediction_layer(context)\n",
    "        #print(output.shape)\n",
    "        return output[:,0,:],attn[:,0,:]\n",
    "\n"
   ]
  },
  {
   "cell_type": "code",
   "execution_count": 3,
   "id": "44b35df4",
   "metadata": {},
   "outputs": [],
   "source": [
    "def generate_heatmap(model,epoch_no):\n",
    "    model.eval()\n",
    "    attn_values = []\n",
    "    prediction  = []\n",
    "    with torch.no_grad():\n",
    "        running_loss = 0.0\n",
    "        for j in range(200):\n",
    "            data = generate_data(batch_size,seq_len)\n",
    "            inputs,labels = data[:,:-1].to(device),data[:,-1].to(device)\n",
    "            indices = inputs>9\n",
    "            inputs = F.one_hot(inputs,num_classes=50).float()\n",
    "            outputs,attn  = model(inputs)\n",
    "            #print(outputs.shape)\n",
    "            outputs = nn.Softmax(dim=1)(outputs)\n",
    "            #print(outputs[np.arange(128),labels])\n",
    "            #print(outputs.shape)\n",
    "\n",
    "            for i in range(outputs.shape[0]):\n",
    "                attn_values.append(sum(attn[i][indices[i]]).item())\n",
    "                prediction.append(outputs[i,labels[i]].item())\n",
    "    return attn_values,prediction"
   ]
  },
  {
   "cell_type": "code",
   "execution_count": null,
   "id": "3ebf58ed",
   "metadata": {},
   "outputs": [],
   "source": [
    "n_epochs = 1000\n",
    "n_batches = 100\n",
    "\n",
    "batch_size= 32 # actual batch size is times 4 here 128\n",
    "seq_len = 64\n",
    "\n",
    "n_seeds = [1234,1235,1236,1237,1238]\n",
    "\n",
    "Attn_Values  = []\n",
    "Prediction_Values = []\n",
    "#deltas_list = []\n",
    "for seed in n_seeds:\n",
    "    torch.manual_seed(seed)\n",
    "    model = Net_p1().to(device)\n",
    "    criterion = nn.CrossEntropyLoss()\n",
    "    # Define parameter groups\n",
    "    optimizer = torch.optim.SGD([\n",
    "        {'params': model.key_layer.parameters(), 'lr': 2e-1},\n",
    "        {'params': model.query_layer.parameters(), 'lr': 2e-1},\n",
    "        {'params': model.value_layer.parameters(), 'lr': 1e-2},\n",
    "        {'params': model.prediction_layer.parameters(), 'lr': 1e-2}])\n",
    "\n",
    "    running_loss = 0.0\n",
    "\n",
    "    common_token_attn = []\n",
    "    distinct_token_attn = []\n",
    "    #deltas = []\n",
    "    epsilon = 1e-8\n",
    "    #generate_heatmap(model,0)\n",
    "    for epoch in tqdm(range(n_epochs)):\n",
    "        model.train()\n",
    "        for j in range(n_batches):\n",
    "            data = generate_data(batch_size,seq_len)\n",
    "\n",
    "            inputs,labels = data[:,:-1].to(device),data[:,-1].to(device)\n",
    "            inputs = F.one_hot(inputs,num_classes=50).float()\n",
    "\n",
    "            optimizer.zero_grad()\n",
    "\n",
    "            outputs,_ = model(inputs)\n",
    "            loss = criterion(outputs,labels)\n",
    "            loss.backward()\n",
    "            optimizer.step()\n",
    "            running_loss +=loss.item()\n",
    "        if (running_loss/n_batches)<=0.001:\n",
    "            break\n",
    "        if (epoch+1)%100 ==0:\n",
    "            print(f'[{epoch+1},{j+1:5d}] loss:{running_loss/(100*n_batches):.3f}')\n",
    "            running_loss = 0.0\n",
    "            #generate_heatmap(model,epoch+1)\n",
    "    print(\"Finished Training\")\n",
    "    #deltas_list.append(deltas)\n",
    "    attn,preds = generate_heatmap(model,epoch+1)\n",
    "    Attn_Values.append(attn)\n",
    "    Prediction_Values.append(preds)"
   ]
  },
  {
   "cell_type": "code",
   "execution_count": null,
   "id": "6c9cd219",
   "metadata": {},
   "outputs": [],
   "source": [
    "correct = 0 \n",
    "total = 0\n",
    "model.eval()\n",
    "with torch.no_grad():\n",
    "    running_loss = 0.0 \n",
    "    for j in range(500):\n",
    "        data = generate_data(batch_size,seq_len)\n",
    "        inputs,labels = data[:,:-1].to(device),data[:,-1].to(device)\n",
    "        inputs = F.one_hot(inputs,num_classes=50).float()\n",
    "        outputs,attn  = model(inputs)\n",
    "        loss = criterion(outputs,labels)\n",
    "        running_loss +=loss.item()\n",
    "        correct += sum(outputs.max(1)[1]==labels).item()\n",
    "        total += len(labels)\n",
    "print(f'loss:{running_loss/(j+1):.3f}')\n",
    "print(f'accuracy:{correct/total:.3f}')"
   ]
  },
  {
   "cell_type": "code",
   "execution_count": null,
   "id": "11f84eae",
   "metadata": {},
   "outputs": [],
   "source": [
    "attn_values_1 = np.mean(Attn_Values,axis=0)\n",
    "prediction_1 = np.mean(Prediction_Values,axis=0)"
   ]
  },
  {
   "cell_type": "code",
   "execution_count": null,
   "id": "1e9de6ea",
   "metadata": {},
   "outputs": [],
   "source": [
    "bin_edges = [np.array([0, 0.2, 0.4, 0.6, 0.8, 1]), np.array([0, 0.2, 0.4, 0.6, 0.8, 1])]\n",
    "\n",
    "num = 64\n",
    "histograms = []\n",
    "for attn_values, prediction in zip(Attn_Values, Prediction_Values):\n",
    "    hist, _, _ = np.histogram2d(attn_values, prediction, bins=bin_edges)\n",
    "    histograms.append(hist)\n",
    "    \n",
    "# Stack and compute mean and variance\n",
    "histograms = np.stack(histograms)\n",
    "mean_hist = np.mean(histograms, axis=0)\n",
    "var_hist = np.var(histograms, axis=0)\n",
    "\n",
    "\n",
    "mean_hist_norm = np.round(mean_hist/num,1)\n",
    "\n",
    "\n",
    "# Assuming `mean_hist_norm` and `var_hist_norm` are your 2D arrays of the same shape\n",
    "# If you prefer to show std instead of variance in the annotation, convert variance to std:\n",
    "std_hist_norm = np.round(np.sqrt(var_hist/num), 1)  # If you want std, otherwise use var_hist for variance.\n",
    "\n",
    "# Create annotation labels with both mean and std (formatted as strings)\n",
    "annot_array = np.empty_like(mean_hist_norm, dtype=object)\n",
    "for i in range(mean_hist_norm.shape[0]):\n",
    "    for j in range(mean_hist_norm.shape[1]):\n",
    "        annot_array[i, j] = f\"{mean_hist_norm[i, j]:.1f}\"#\\n(±{std_hist_norm[i, j]:.1f})\"  # mean ± std\n",
    "\n",
    "# Define tick positions for edges of bins (for correct labeling)\n",
    "x_edges = np.array([0, 0.2, 0.4, 0.6, 0.8, 1])\n",
    "y_edges = np.array([0, 0.2, 0.4, 0.6, 0.8, 1])\n",
    "xtick_positions = np.arange(len(x_edges) - 1) + 1.0  # Right edges\n",
    "ytick_positions = np.arange(len(y_edges) - 1) + 1.0  # Top edges\n",
    "\n",
    "# Plot heatmap for mean values (color intensity)\n",
    "plt.figure(figsize=(6, 6))\n",
    "ax = sns.heatmap(mean_hist_norm.T, annot=annot_array.T, cmap=sns.color_palette(\"coolwarm\"), \n",
    "                 annot_kws={\"size\":18}, cbar=False, vmin=5, vmax=70,fmt=\"\")\n",
    "\n",
    "# Adjust tick positions for x and y axes (move them to the edges)\n",
    "ax.set_xticks(xtick_positions)\n",
    "ax.set_yticks(ytick_positions)\n",
    "\n",
    "# Set the labels for ticks (x and y edges)\n",
    "ax.set_xticklabels(x_edges[1:])\n",
    "ax.set_yticklabels(y_edges[1:])\n",
    "\n",
    "# Make the tick labels bold\n",
    "ax.tick_params(axis='x', labelsize=14)  # Bold x-axis labels\n",
    "ax.tick_params(axis='y', labelsize=14)  # Bold y-axis labels\n",
    "\n",
    "\n",
    "# Invert y-axis to align with typical heatmap style\n",
    "ax.invert_yaxis()\n",
    "\n",
    "# Labels and title\n",
    "plt.xlabel(r\"Distinct Token Attention\", fontweight=\"bold\", fontsize=16)\n",
    "plt.ylabel(r\"Relevant Token Probability\", fontweight=\"bold\", fontsize=16)\n",
    "#plt.title(\"Mean (±Std Dev) Heatmap\")\n",
    "\n",
    "# Save the figure\n",
    "plt.savefig(\"params_increased_fafo_2.pdf\", bbox_inches='tight')\n",
    "plt.show()\n"
   ]
  },
  {
   "cell_type": "code",
   "execution_count": null,
   "id": "d099580c",
   "metadata": {},
   "outputs": [],
   "source": [
    "# Create annotation labels with both mean and std (formatted as strings)\n",
    "annot_array = np.empty_like(std_hist_norm, dtype=object)\n",
    "for i in range(std_hist_norm.shape[0]):\n",
    "    for j in range(std_hist_norm.shape[1]):\n",
    "        annot_array[i, j] = f\"±{std_hist_norm[i, j]:.1f}\"  # mean ± std\n",
    "\n",
    "# Define tick positions for edges of bins (for correct labeling)\n",
    "x_edges = np.array([0, 0.2, 0.4, 0.6, 0.8, 1])\n",
    "y_edges = np.array([0, 0.2, 0.4, 0.6, 0.8, 1])\n",
    "xtick_positions = np.arange(len(x_edges) - 1) + 1.0  # Right edges\n",
    "ytick_positions = np.arange(len(y_edges) - 1) + 1.0  # Top edges\n",
    "\n",
    "# Plot heatmap for mean values (color intensity)\n",
    "plt.figure(figsize=(6, 6))\n",
    "ax = sns.heatmap(std_hist_norm.T, annot=annot_array.T, cmap=sns.color_palette(\"coolwarm\"), \n",
    "                 annot_kws={\"size\":18}, cbar=False, vmin=5, vmax=70,fmt=\"\")\n",
    "\n",
    "# Adjust tick positions for x and y axes (move them to the edges)\n",
    "ax.set_xticks(xtick_positions)\n",
    "ax.set_yticks(ytick_positions)\n",
    "\n",
    "# Set the labels for ticks (x and y edges)\n",
    "ax.set_xticklabels(x_edges[1:])\n",
    "ax.set_yticklabels(y_edges[1:])\n",
    "\n",
    "# Make the tick labels bold\n",
    "ax.tick_params(axis='x', labelsize=14)  # Bold x-axis labels\n",
    "ax.tick_params(axis='y', labelsize=14)  # Bold y-axis labels\n",
    "\n",
    "\n",
    "# Invert y-axis to align with typical heatmap style\n",
    "ax.invert_yaxis()\n",
    "\n",
    "# Labels and title\n",
    "plt.xlabel(r\"Distinct Token Attention\", fontweight=\"bold\", fontsize=16)\n",
    "plt.ylabel(r\"Relevant Token Probability\", fontweight=\"bold\", fontsize=16)\n",
    "#plt.title(\"Mean (±Std Dev) Heatmap\")\n",
    "\n",
    "# Save the figure\n",
    "plt.savefig(\"Params1_increased_lr_qk_std.pdf\", bbox_inches='tight')\n",
    "plt.show()\n"
   ]
  },
  {
   "cell_type": "code",
   "execution_count": null,
   "id": "bbfc4511",
   "metadata": {},
   "outputs": [],
   "source": [
    "# torch.manual_seed(1234)\n",
    "# model = Net_p1().to(device)\n",
    "model.eval()\n",
    "attn_values = []\n",
    "prediction  = []\n",
    "with torch.no_grad():\n",
    "    running_loss = 0.0\n",
    "    for j in range(500):\n",
    "        data = generate_data(batch_size,seq_len)\n",
    "        inputs,labels = data[:,:-1].to(device),data[:,-1].to(device)\n",
    "        indices = inputs>9\n",
    "        inputs = F.one_hot(inputs,num_classes=50).float()\n",
    "        outputs,attn  = model(inputs)\n",
    "        #print(outputs.shape)\n",
    "        outputs = nn.Softmax(dim=1)(outputs)\n",
    "        #print(outputs[np.arange(128),labels])\n",
    "        \n",
    "        for i in range(attn.shape[0]):\n",
    "            attn_values.append(sum(attn[i][indices[i]]).item())\n",
    "            prediction.append(outputs[i,labels[i]].item())"
   ]
  },
  {
   "cell_type": "code",
   "execution_count": null,
   "id": "8f1705d4",
   "metadata": {},
   "outputs": [],
   "source": [
    "attn_values = np.array(attn_values)[None,:]\n",
    "prediction = np.array(prediction)[None,:]"
   ]
  },
  {
   "cell_type": "code",
   "execution_count": null,
   "id": "29ac0946",
   "metadata": {},
   "outputs": [],
   "source": [
    "num = 160\n",
    "histograms = []\n",
    "for attn, pred in zip(attn_values, prediction):\n",
    "    hist, _, _ = np.histogram2d(attn, pred, bins=bin_edges)\n",
    "    histograms.append(hist)\n",
    "    \n",
    "# Stack and compute mean and variance\n",
    "histograms = np.stack(histograms)\n",
    "mean_hist = np.mean(histograms, axis=0)\n",
    "var_hist = np.var(histograms, axis=0)\n",
    "\n",
    "\n",
    "mean_hist_norm = np.round(mean_hist/num,1)\n",
    "\n",
    "\n",
    "# Assuming `mean_hist_norm` and `var_hist_norm` are your 2D arrays of the same shape\n",
    "# If you prefer to show std instead of variance in the annotation, convert variance to std:\n",
    "std_hist_norm = np.round(np.sqrt(var_hist/num), 1)  # If you want std, otherwise use var_hist for variance.\n",
    "\n",
    "# Create annotation labels with both mean and std (formatted as strings)\n",
    "annot_array = np.empty_like(mean_hist_norm, dtype=object)\n",
    "for i in range(mean_hist_norm.shape[0]):\n",
    "    for j in range(mean_hist_norm.shape[1]):\n",
    "        annot_array[i, j] = f\"{mean_hist_norm[i, j]:.1f}\" #\\n(±{std_hist_norm[i, j]:.1f})\"  # mean ± std\n",
    "\n",
    "# Define tick positions for edges of bins (for correct labeling)\n",
    "x_edges = np.array([0, 0.2, 0.4, 0.6, 0.8, 1])\n",
    "y_edges = np.array([0, 0.2, 0.4, 0.6, 0.8, 1])\n",
    "xtick_positions = np.arange(len(x_edges) - 1) + 1.0  # Right edges\n",
    "ytick_positions = np.arange(len(y_edges) - 1) + 1.0  # Top edges\n",
    "\n",
    "# Plot heatmap for mean values (color intensity)\n",
    "plt.figure(figsize=(6, 6))\n",
    "ax = sns.heatmap(mean_hist_norm.T, annot=annot_array.T, cmap=sns.color_palette(\"coolwarm\"), \n",
    "                 annot_kws={\"size\":18}, cbar=False, vmin=5, vmax=70,fmt=\"\")\n",
    "\n",
    "# Adjust tick positions for x and y axes (move them to the edges)\n",
    "ax.set_xticks(xtick_positions)\n",
    "ax.set_yticks(ytick_positions)\n",
    "\n",
    "# Set the labels for ticks (x and y edges)\n",
    "ax.set_xticklabels(x_edges[1:])\n",
    "ax.set_yticklabels(y_edges[1:])\n",
    "\n",
    "# Make the tick labels bold\n",
    "ax.tick_params(axis='x', labelsize=16)  # Bold x-axis labels\n",
    "ax.tick_params(axis='y', labelsize=16)  # Bold y-axis labels\n",
    "\n",
    "\n",
    "# Invert y-axis to align with typical heatmap style\n",
    "ax.invert_yaxis()\n",
    "\n",
    "# Labels and title\n",
    "plt.xlabel(r\"Distinct Token Attention\", fontweight=\"bold\", fontsize=16)\n",
    "plt.ylabel(r\"Relevant Token Probability\", fontweight=\"bold\", fontsize=16)\n",
    "#plt.title(\"Mean (±Std Dev) Heatmap\")\n",
    "\n",
    "# Save the figure\n",
    "plt.savefig(\"params_increased_fafo_test.pdf\", bbox_inches='tight')\n",
    "plt.show()\n"
   ]
  },
  {
   "cell_type": "code",
   "execution_count": null,
   "id": "15d82af3",
   "metadata": {},
   "outputs": [],
   "source": []
  },
  {
   "cell_type": "code",
   "execution_count": null,
   "id": "d22467f0",
   "metadata": {},
   "outputs": [],
   "source": []
  },
  {
   "cell_type": "markdown",
   "id": "26568dd3",
   "metadata": {},
   "source": [
    "# increasing lr\n"
   ]
  },
  {
   "cell_type": "code",
   "execution_count": null,
   "id": "66cf6754",
   "metadata": {},
   "outputs": [],
   "source": [
    "n_epochs = 2000\n",
    "n_batches = 100\n",
    "\n",
    "batch_size= 32 # actual batch size is times 4 here 128\n",
    "seq_len = 64\n",
    "\n",
    "n_seeds = [1234,1235,1236,1237,1238]\n",
    "\n",
    "Attn_Values  = []\n",
    "Prediction_Values = []\n",
    "#deltas_list = []\n",
    "\n",
    "\n",
    "\n",
    "# total number of training steps\n",
    "total_steps = n_epochs * n_batches\n",
    "\n",
    "# def increasing_lr_lambda(step):\n",
    "#     progress = step / total_steps\n",
    "#     scale = 1.0 + 9.0 * (progress ** 0.1) \n",
    "#     return scale\n",
    "\n",
    "\n",
    "for seed in n_seeds:\n",
    "    torch.manual_seed(seed)\n",
    "    model = Net_p1().to(device)\n",
    "    criterion = nn.CrossEntropyLoss()\n",
    "    # Define parameter groups\n",
    "    optimizer = torch.optim.SGD([\n",
    "        {'params': model.key_layer.parameters(), 'lr': 1e-2},\n",
    "        {'params': model.query_layer.parameters(), 'lr': 1e-2},\n",
    "        {'params': model.value_layer.parameters(), 'lr': 1e-2},\n",
    "        {'params': model.prediction_layer.parameters(), 'lr': 1e-2}])\n",
    "    \n",
    "    \n",
    "    scheduler = torch.optim.lr_scheduler.LambdaLR(\n",
    "        optimizer,\n",
    "        lr_lambda=[lambda step: 1 + (40 - 1) * step / total_steps,  # key_layer\n",
    "                   lambda step: 1 + (40 - 1) * step / total_steps, # query_layer\n",
    "                   lambda step: 1.0,      # value_layer\n",
    "                   lambda step: 1.0       # prediction_layer\n",
    "                  ])\n",
    "\n",
    "    running_loss = 0.0\n",
    "\n",
    "    common_token_attn = []\n",
    "    distinct_token_attn = []\n",
    "    #deltas = []\n",
    "    epsilon = 1e-8\n",
    "    #generate_heatmap(model,0)\n",
    "    for epoch in tqdm(range(n_epochs)):\n",
    "        model.train()\n",
    "        # Print current learning rates for debugging\n",
    "        #for i, param_group in enumerate(optimizer.param_groups):\n",
    "        #    print(f\"Group {i} LR: {param_group['lr']:.6f}\")\n",
    "        for j in range(n_batches):\n",
    "            data = generate_data(batch_size,seq_len)\n",
    "\n",
    "            inputs,labels = data[:,:-1].to(device),data[:,-1].to(device)\n",
    "            inputs = F.one_hot(inputs,num_classes=50).float()\n",
    "\n",
    "            optimizer.zero_grad()\n",
    "\n",
    "            outputs,_ = model(inputs)\n",
    "            loss = criterion(outputs,labels)\n",
    "            loss.backward()\n",
    "            optimizer.step()\n",
    "            scheduler.step()\n",
    "            running_loss +=loss.item()\n",
    "#         if (running_loss/n_batches)<=0.001:\n",
    "#             break\n",
    "        if (epoch+1)%100 ==0:\n",
    "            print(f'[{epoch+1},{j+1:5d}] loss:{running_loss/(100*n_batches):.3f}')\n",
    "            running_loss = 0.0\n",
    "            #generate_heatmap(model,epoch+1)\n",
    "    print(\"Finished Training\")\n",
    "    #deltas_list.append(deltas)\n",
    "    attn,preds = generate_heatmap(model,epoch+1)\n",
    "    Attn_Values.append(attn)\n",
    "    Prediction_Values.append(preds)"
   ]
  },
  {
   "cell_type": "code",
   "execution_count": null,
   "id": "7d40c649",
   "metadata": {},
   "outputs": [],
   "source": [
    "correct = 0 \n",
    "total = 0\n",
    "model.eval()\n",
    "with torch.no_grad():\n",
    "    running_loss = 0.0 \n",
    "    for j in range(500):\n",
    "        data = generate_data(batch_size,seq_len)\n",
    "        inputs,labels = data[:,:-1].to(device),data[:,-1].to(device)\n",
    "        inputs = F.one_hot(inputs,num_classes=50).float()\n",
    "        outputs,attn  = model(inputs)\n",
    "        loss = criterion(outputs,labels)\n",
    "        running_loss +=loss.item()\n",
    "        correct += sum(outputs.max(1)[1]==labels).item()\n",
    "        total += len(labels)\n",
    "print(f'loss:{running_loss/(j+1):.3f}')\n",
    "print(f'accuracy:{correct/total:.3f}')\n",
    "\n"
   ]
  },
  {
   "cell_type": "code",
   "execution_count": null,
   "id": "1782bc13",
   "metadata": {},
   "outputs": [],
   "source": [
    "attn_values_1 = np.mean(Attn_Values,axis=0)\n",
    "prediction_1 = np.mean(Prediction_Values,axis=0)"
   ]
  },
  {
   "cell_type": "code",
   "execution_count": null,
   "id": "514c1fe1",
   "metadata": {},
   "outputs": [],
   "source": [
    "bin_edges = [np.array([0, 0.2, 0.4, 0.6, 0.8, 1]), np.array([0, 0.2, 0.4, 0.6, 0.8, 1])]\n",
    "\n",
    "num = 64\n",
    "histograms = []\n",
    "for attn_values, prediction in zip(Attn_Values, Prediction_Values):\n",
    "    hist, _, _ = np.histogram2d(attn_values, prediction, bins=bin_edges)\n",
    "    histograms.append(hist)\n",
    "    \n",
    "# Stack and compute mean and variance\n",
    "histograms = np.stack(histograms)\n",
    "mean_hist = np.mean(histograms, axis=0)\n",
    "var_hist = np.var(histograms, axis=0)\n",
    "\n",
    "\n",
    "mean_hist_norm = np.round(mean_hist/num,1)\n",
    "\n",
    "\n",
    "# Assuming `mean_hist_norm` and `var_hist_norm` are your 2D arrays of the same shape\n",
    "# If you prefer to show std instead of variance in the annotation, convert variance to std:\n",
    "std_hist_norm = np.round(np.sqrt(var_hist/num), 1)  # If you want std, otherwise use var_hist for variance.\n",
    "\n",
    "# Create annotation labels with both mean and std (formatted as strings)\n",
    "annot_array = np.empty_like(mean_hist_norm, dtype=object)\n",
    "for i in range(mean_hist_norm.shape[0]):\n",
    "    for j in range(mean_hist_norm.shape[1]):\n",
    "        annot_array[i, j] = f\"{mean_hist_norm[i, j]:.1f}\"#\\n(±{std_hist_norm[i, j]:.1f})\"  # mean ± std\n",
    "\n",
    "# Define tick positions for edges of bins (for correct labeling)\n",
    "x_edges = np.array([0, 0.2, 0.4, 0.6, 0.8, 1])\n",
    "y_edges = np.array([0, 0.2, 0.4, 0.6, 0.8, 1])\n",
    "xtick_positions = np.arange(len(x_edges) - 1) + 1.0  # Right edges\n",
    "ytick_positions = np.arange(len(y_edges) - 1) + 1.0  # Top edges\n",
    "\n",
    "# Plot heatmap for mean values (color intensity)\n",
    "plt.figure(figsize=(6, 6))\n",
    "ax = sns.heatmap(mean_hist_norm.T, annot=annot_array.T, cmap=sns.color_palette(\"coolwarm\"), \n",
    "                 annot_kws={\"size\":18}, cbar=False, vmin=5, vmax=70,fmt=\"\")\n",
    "\n",
    "# Adjust tick positions for x and y axes (move them to the edges)\n",
    "ax.set_xticks(xtick_positions)\n",
    "ax.set_yticks(ytick_positions)\n",
    "\n",
    "# Set the labels for ticks (x and y edges)\n",
    "ax.set_xticklabels(x_edges[1:])\n",
    "ax.set_yticklabels(y_edges[1:])\n",
    "\n",
    "# Make the tick labels bold\n",
    "ax.tick_params(axis='x', labelsize=14)  # Bold x-axis labels\n",
    "ax.tick_params(axis='y', labelsize=14)  # Bold y-axis labels\n",
    "\n",
    "\n",
    "# Invert y-axis to align with typical heatmap style\n",
    "ax.invert_yaxis()\n",
    "\n",
    "# Labels and title\n",
    "plt.xlabel(r\"Distinct Token Attention\", fontweight=\"bold\", fontsize=16)\n",
    "plt.ylabel(r\"Relevant Token Probability\", fontweight=\"bold\", fontsize=16)\n",
    "#plt.title(\"Mean (±Std Dev) Heatmap\")\n",
    "\n",
    "# Save the figure\n",
    "plt.savefig(\"params_increasing_fafo.pdf\", bbox_inches='tight')\n",
    "plt.show()\n",
    "\n",
    "\n",
    "\n"
   ]
  },
  {
   "cell_type": "markdown",
   "id": "4e207933",
   "metadata": {},
   "source": [
    "# CACO Setting"
   ]
  },
  {
   "cell_type": "markdown",
   "id": "d6b7fd53",
   "metadata": {},
   "source": [
    "### Increased Learning Rate"
   ]
  },
  {
   "cell_type": "code",
   "execution_count": 13,
   "id": "b23aa0d2",
   "metadata": {},
   "outputs": [],
   "source": [
    "class Net_CACO(nn.Module):\n",
    "    def __init__(self):\n",
    "        super(Net_CACO, self).__init__()\n",
    "        self.key_layer = nn.Linear(50, 50, bias=False)\n",
    "        self.prediction_layer = nn.Linear(50, 50, bias=False)\n",
    "\n",
    "    def forward(self, x):\n",
    "        # x: (batch, seq_len, vocab_size)\n",
    "        key = self.key_layer(x)  # (B, T, D)\n",
    "        query = x[:, -1:, :]     # (B, 1, D)\n",
    "\n",
    "        # Attention scores: (B, 1, D) x (B, D, T) -> (B, 1, T)\n",
    "        scores = torch.matmul(query, key.transpose(-2, -1)) / math.sqrt(key.size(-1))\n",
    "        attn = F.softmax(scores, dim=-1)  # (B, 1, T)\n",
    "\n",
    "        # Context: (B, 1, T) x (B, T, D) -> (B, 1, D)\n",
    "        context = torch.matmul(attn, x)\n",
    "        output = self.prediction_layer(context)  # (B, 1, D)\n",
    "\n",
    "        return output.squeeze(1), attn.squeeze(1)\n"
   ]
  },
  {
   "cell_type": "code",
   "execution_count": 42,
   "id": "bafe74d6",
   "metadata": {},
   "outputs": [
    {
     "name": "stderr",
     "output_type": "stream",
     "text": [
      "  5%|██                                      | 100/2000 [00:35<09:57,  3.18it/s]"
     ]
    },
    {
     "name": "stdout",
     "output_type": "stream",
     "text": [
      "[100,  100] loss:3.284\n"
     ]
    },
    {
     "name": "stderr",
     "output_type": "stream",
     "text": [
      " 10%|████                                    | 200/2000 [01:09<09:52,  3.04it/s]"
     ]
    },
    {
     "name": "stdout",
     "output_type": "stream",
     "text": [
      "[200,  100] loss:2.212\n"
     ]
    },
    {
     "name": "stderr",
     "output_type": "stream",
     "text": [
      " 15%|██████                                  | 300/2000 [01:43<09:44,  2.91it/s]"
     ]
    },
    {
     "name": "stdout",
     "output_type": "stream",
     "text": [
      "[300,  100] loss:1.466\n"
     ]
    },
    {
     "name": "stderr",
     "output_type": "stream",
     "text": [
      " 20%|████████                                | 400/2000 [02:17<08:54,  2.99it/s]"
     ]
    },
    {
     "name": "stdout",
     "output_type": "stream",
     "text": [
      "[400,  100] loss:0.928\n"
     ]
    },
    {
     "name": "stderr",
     "output_type": "stream",
     "text": [
      " 25%|██████████                              | 500/2000 [02:50<08:28,  2.95it/s]"
     ]
    },
    {
     "name": "stdout",
     "output_type": "stream",
     "text": [
      "[500,  100] loss:0.493\n"
     ]
    },
    {
     "name": "stderr",
     "output_type": "stream",
     "text": [
      " 30%|████████████                            | 600/2000 [03:24<07:46,  3.00it/s]"
     ]
    },
    {
     "name": "stdout",
     "output_type": "stream",
     "text": [
      "[600,  100] loss:0.216\n"
     ]
    },
    {
     "name": "stderr",
     "output_type": "stream",
     "text": [
      " 35%|██████████████                          | 700/2000 [03:58<07:52,  2.75it/s]"
     ]
    },
    {
     "name": "stdout",
     "output_type": "stream",
     "text": [
      "[700,  100] loss:0.101\n"
     ]
    },
    {
     "name": "stderr",
     "output_type": "stream",
     "text": [
      " 40%|████████████████                        | 800/2000 [04:33<06:42,  2.98it/s]"
     ]
    },
    {
     "name": "stdout",
     "output_type": "stream",
     "text": [
      "[800,  100] loss:0.056\n"
     ]
    },
    {
     "name": "stderr",
     "output_type": "stream",
     "text": [
      " 45%|██████████████████                      | 900/2000 [05:07<06:12,  2.96it/s]"
     ]
    },
    {
     "name": "stdout",
     "output_type": "stream",
     "text": [
      "[900,  100] loss:0.036\n"
     ]
    },
    {
     "name": "stderr",
     "output_type": "stream",
     "text": [
      " 50%|███████████████████▌                   | 1000/2000 [05:41<05:39,  2.94it/s]"
     ]
    },
    {
     "name": "stdout",
     "output_type": "stream",
     "text": [
      "[1000,  100] loss:0.026\n"
     ]
    },
    {
     "name": "stderr",
     "output_type": "stream",
     "text": [
      " 55%|█████████████████████▍                 | 1100/2000 [06:14<04:54,  3.06it/s]"
     ]
    },
    {
     "name": "stdout",
     "output_type": "stream",
     "text": [
      "[1100,  100] loss:0.020\n"
     ]
    },
    {
     "name": "stderr",
     "output_type": "stream",
     "text": [
      " 60%|███████████████████████▍               | 1200/2000 [06:47<04:23,  3.03it/s]"
     ]
    },
    {
     "name": "stdout",
     "output_type": "stream",
     "text": [
      "[1200,  100] loss:0.016\n"
     ]
    },
    {
     "name": "stderr",
     "output_type": "stream",
     "text": [
      " 65%|█████████████████████████▎             | 1300/2000 [07:20<03:44,  3.12it/s]"
     ]
    },
    {
     "name": "stdout",
     "output_type": "stream",
     "text": [
      "[1300,  100] loss:0.013\n"
     ]
    },
    {
     "name": "stderr",
     "output_type": "stream",
     "text": [
      " 70%|███████████████████████████▎           | 1400/2000 [07:54<03:35,  2.78it/s]"
     ]
    },
    {
     "name": "stdout",
     "output_type": "stream",
     "text": [
      "[1400,  100] loss:0.011\n"
     ]
    },
    {
     "name": "stderr",
     "output_type": "stream",
     "text": [
      " 75%|█████████████████████████████▎         | 1500/2000 [08:28<02:49,  2.95it/s]"
     ]
    },
    {
     "name": "stdout",
     "output_type": "stream",
     "text": [
      "[1500,  100] loss:0.010\n"
     ]
    },
    {
     "name": "stderr",
     "output_type": "stream",
     "text": [
      " 80%|███████████████████████████████▏       | 1600/2000 [09:03<02:10,  3.06it/s]"
     ]
    },
    {
     "name": "stdout",
     "output_type": "stream",
     "text": [
      "[1600,  100] loss:0.008\n"
     ]
    },
    {
     "name": "stderr",
     "output_type": "stream",
     "text": [
      " 85%|█████████████████████████████████▏     | 1700/2000 [09:39<01:46,  2.81it/s]"
     ]
    },
    {
     "name": "stdout",
     "output_type": "stream",
     "text": [
      "[1700,  100] loss:0.008\n"
     ]
    },
    {
     "name": "stderr",
     "output_type": "stream",
     "text": [
      " 90%|███████████████████████████████████    | 1800/2000 [10:14<01:08,  2.92it/s]"
     ]
    },
    {
     "name": "stdout",
     "output_type": "stream",
     "text": [
      "[1800,  100] loss:0.007\n"
     ]
    },
    {
     "name": "stderr",
     "output_type": "stream",
     "text": [
      " 95%|█████████████████████████████████████  | 1900/2000 [10:50<00:32,  3.06it/s]"
     ]
    },
    {
     "name": "stdout",
     "output_type": "stream",
     "text": [
      "[1900,  100] loss:0.006\n"
     ]
    },
    {
     "name": "stderr",
     "output_type": "stream",
     "text": [
      "100%|███████████████████████████████████████| 2000/2000 [11:26<00:00,  2.91it/s]"
     ]
    },
    {
     "name": "stdout",
     "output_type": "stream",
     "text": [
      "[2000,  100] loss:0.006\n",
      "Finished Training\n"
     ]
    },
    {
     "name": "stderr",
     "output_type": "stream",
     "text": [
      "\n",
      "  5%|██                                      | 100/2000 [00:35<10:49,  2.92it/s]"
     ]
    },
    {
     "name": "stdout",
     "output_type": "stream",
     "text": [
      "[100,  100] loss:3.284\n"
     ]
    },
    {
     "name": "stderr",
     "output_type": "stream",
     "text": [
      " 10%|████                                    | 200/2000 [01:11<10:22,  2.89it/s]"
     ]
    },
    {
     "name": "stdout",
     "output_type": "stream",
     "text": [
      "[200,  100] loss:2.212\n"
     ]
    },
    {
     "name": "stderr",
     "output_type": "stream",
     "text": [
      " 15%|██████                                  | 300/2000 [01:48<11:54,  2.38it/s]"
     ]
    },
    {
     "name": "stdout",
     "output_type": "stream",
     "text": [
      "[300,  100] loss:1.469\n"
     ]
    },
    {
     "name": "stderr",
     "output_type": "stream",
     "text": [
      " 20%|████████                                | 400/2000 [02:23<09:37,  2.77it/s]"
     ]
    },
    {
     "name": "stdout",
     "output_type": "stream",
     "text": [
      "[400,  100] loss:0.946\n"
     ]
    },
    {
     "name": "stderr",
     "output_type": "stream",
     "text": [
      " 25%|██████████                              | 500/2000 [02:58<08:16,  3.02it/s]"
     ]
    },
    {
     "name": "stdout",
     "output_type": "stream",
     "text": [
      "[500,  100] loss:0.542\n"
     ]
    },
    {
     "name": "stderr",
     "output_type": "stream",
     "text": [
      " 30%|████████████                            | 600/2000 [03:34<08:04,  2.89it/s]"
     ]
    },
    {
     "name": "stdout",
     "output_type": "stream",
     "text": [
      "[600,  100] loss:0.269\n"
     ]
    },
    {
     "name": "stderr",
     "output_type": "stream",
     "text": [
      " 35%|██████████████                          | 700/2000 [04:10<07:51,  2.76it/s]"
     ]
    },
    {
     "name": "stdout",
     "output_type": "stream",
     "text": [
      "[700,  100] loss:0.133\n"
     ]
    },
    {
     "name": "stderr",
     "output_type": "stream",
     "text": [
      " 40%|████████████████                        | 800/2000 [04:45<06:51,  2.92it/s]"
     ]
    },
    {
     "name": "stdout",
     "output_type": "stream",
     "text": [
      "[800,  100] loss:0.074\n"
     ]
    },
    {
     "name": "stderr",
     "output_type": "stream",
     "text": [
      " 45%|██████████████████                      | 900/2000 [05:20<06:26,  2.85it/s]"
     ]
    },
    {
     "name": "stdout",
     "output_type": "stream",
     "text": [
      "[900,  100] loss:0.047\n"
     ]
    },
    {
     "name": "stderr",
     "output_type": "stream",
     "text": [
      " 50%|███████████████████▌                   | 1000/2000 [05:56<06:35,  2.53it/s]"
     ]
    },
    {
     "name": "stdout",
     "output_type": "stream",
     "text": [
      "[1000,  100] loss:0.033\n"
     ]
    },
    {
     "name": "stderr",
     "output_type": "stream",
     "text": [
      " 55%|█████████████████████▍                 | 1100/2000 [06:29<04:47,  3.14it/s]"
     ]
    },
    {
     "name": "stdout",
     "output_type": "stream",
     "text": [
      "[1100,  100] loss:0.024\n"
     ]
    },
    {
     "name": "stderr",
     "output_type": "stream",
     "text": [
      " 60%|███████████████████████▍               | 1200/2000 [07:01<04:23,  3.04it/s]"
     ]
    },
    {
     "name": "stdout",
     "output_type": "stream",
     "text": [
      "[1200,  100] loss:0.019\n"
     ]
    },
    {
     "name": "stderr",
     "output_type": "stream",
     "text": [
      " 65%|█████████████████████████▎             | 1300/2000 [07:36<03:49,  3.05it/s]"
     ]
    },
    {
     "name": "stdout",
     "output_type": "stream",
     "text": [
      "[1300,  100] loss:0.016\n"
     ]
    },
    {
     "name": "stderr",
     "output_type": "stream",
     "text": [
      " 70%|███████████████████████████▎           | 1400/2000 [08:09<03:20,  3.00it/s]"
     ]
    },
    {
     "name": "stdout",
     "output_type": "stream",
     "text": [
      "[1400,  100] loss:0.013\n"
     ]
    },
    {
     "name": "stderr",
     "output_type": "stream",
     "text": [
      " 75%|█████████████████████████████▎         | 1500/2000 [08:42<02:38,  3.15it/s]"
     ]
    },
    {
     "name": "stdout",
     "output_type": "stream",
     "text": [
      "[1500,  100] loss:0.011\n"
     ]
    },
    {
     "name": "stderr",
     "output_type": "stream",
     "text": [
      " 80%|███████████████████████████████▏       | 1600/2000 [09:15<02:05,  3.20it/s]"
     ]
    },
    {
     "name": "stdout",
     "output_type": "stream",
     "text": [
      "[1600,  100] loss:0.010\n"
     ]
    },
    {
     "name": "stderr",
     "output_type": "stream",
     "text": [
      " 85%|█████████████████████████████████▏     | 1700/2000 [09:48<01:40,  2.98it/s]"
     ]
    },
    {
     "name": "stdout",
     "output_type": "stream",
     "text": [
      "[1700,  100] loss:0.009\n"
     ]
    },
    {
     "name": "stderr",
     "output_type": "stream",
     "text": [
      " 90%|███████████████████████████████████    | 1800/2000 [10:21<01:08,  2.93it/s]"
     ]
    },
    {
     "name": "stdout",
     "output_type": "stream",
     "text": [
      "[1800,  100] loss:0.008\n"
     ]
    },
    {
     "name": "stderr",
     "output_type": "stream",
     "text": [
      " 95%|█████████████████████████████████████  | 1900/2000 [10:56<00:36,  2.74it/s]"
     ]
    },
    {
     "name": "stdout",
     "output_type": "stream",
     "text": [
      "[1900,  100] loss:0.007\n"
     ]
    },
    {
     "name": "stderr",
     "output_type": "stream",
     "text": [
      "100%|███████████████████████████████████████| 2000/2000 [11:30<00:00,  2.90it/s]"
     ]
    },
    {
     "name": "stdout",
     "output_type": "stream",
     "text": [
      "[2000,  100] loss:0.006\n",
      "Finished Training\n"
     ]
    },
    {
     "name": "stderr",
     "output_type": "stream",
     "text": [
      "\n",
      "  5%|██                                      | 100/2000 [00:35<10:38,  2.98it/s]"
     ]
    },
    {
     "name": "stdout",
     "output_type": "stream",
     "text": [
      "[100,  100] loss:3.286\n"
     ]
    },
    {
     "name": "stderr",
     "output_type": "stream",
     "text": [
      " 10%|████                                    | 200/2000 [01:10<10:25,  2.88it/s]"
     ]
    },
    {
     "name": "stdout",
     "output_type": "stream",
     "text": [
      "[200,  100] loss:2.214\n"
     ]
    },
    {
     "name": "stderr",
     "output_type": "stream",
     "text": [
      " 15%|██████                                  | 300/2000 [01:45<09:21,  3.03it/s]"
     ]
    },
    {
     "name": "stdout",
     "output_type": "stream",
     "text": [
      "[300,  100] loss:1.469\n"
     ]
    },
    {
     "name": "stderr",
     "output_type": "stream",
     "text": [
      " 20%|████████                                | 400/2000 [02:19<08:56,  2.98it/s]"
     ]
    },
    {
     "name": "stdout",
     "output_type": "stream",
     "text": [
      "[400,  100] loss:0.942\n"
     ]
    },
    {
     "name": "stderr",
     "output_type": "stream",
     "text": [
      " 25%|██████████                              | 500/2000 [02:53<08:06,  3.08it/s]"
     ]
    },
    {
     "name": "stdout",
     "output_type": "stream",
     "text": [
      "[500,  100] loss:0.531\n"
     ]
    },
    {
     "name": "stderr",
     "output_type": "stream",
     "text": [
      " 30%|████████████                            | 600/2000 [03:28<08:47,  2.65it/s]"
     ]
    },
    {
     "name": "stdout",
     "output_type": "stream",
     "text": [
      "[600,  100] loss:0.254\n"
     ]
    },
    {
     "name": "stderr",
     "output_type": "stream",
     "text": [
      " 35%|██████████████                          | 700/2000 [04:05<07:54,  2.74it/s]"
     ]
    },
    {
     "name": "stdout",
     "output_type": "stream",
     "text": [
      "[700,  100] loss:0.122\n"
     ]
    },
    {
     "name": "stderr",
     "output_type": "stream",
     "text": [
      " 40%|████████████████                        | 800/2000 [04:40<07:10,  2.79it/s]"
     ]
    },
    {
     "name": "stdout",
     "output_type": "stream",
     "text": [
      "[800,  100] loss:0.068\n"
     ]
    },
    {
     "name": "stderr",
     "output_type": "stream",
     "text": [
      " 45%|██████████████████                      | 900/2000 [05:14<06:16,  2.92it/s]"
     ]
    },
    {
     "name": "stdout",
     "output_type": "stream",
     "text": [
      "[900,  100] loss:0.043\n"
     ]
    },
    {
     "name": "stderr",
     "output_type": "stream",
     "text": [
      " 50%|███████████████████▌                   | 1000/2000 [05:48<05:51,  2.84it/s]"
     ]
    },
    {
     "name": "stdout",
     "output_type": "stream",
     "text": [
      "[1000,  100] loss:0.030\n"
     ]
    },
    {
     "name": "stderr",
     "output_type": "stream",
     "text": [
      " 55%|█████████████████████▍                 | 1100/2000 [06:23<05:45,  2.60it/s]"
     ]
    },
    {
     "name": "stdout",
     "output_type": "stream",
     "text": [
      "[1100,  100] loss:0.023\n"
     ]
    },
    {
     "name": "stderr",
     "output_type": "stream",
     "text": [
      " 60%|███████████████████████▍               | 1200/2000 [07:00<04:40,  2.85it/s]"
     ]
    },
    {
     "name": "stdout",
     "output_type": "stream",
     "text": [
      "[1200,  100] loss:0.018\n"
     ]
    },
    {
     "name": "stderr",
     "output_type": "stream",
     "text": [
      " 65%|█████████████████████████▎             | 1300/2000 [07:34<03:46,  3.09it/s]"
     ]
    },
    {
     "name": "stdout",
     "output_type": "stream",
     "text": [
      "[1300,  100] loss:0.015\n"
     ]
    },
    {
     "name": "stderr",
     "output_type": "stream",
     "text": [
      " 70%|███████████████████████████▎           | 1400/2000 [08:10<03:54,  2.56it/s]"
     ]
    },
    {
     "name": "stdout",
     "output_type": "stream",
     "text": [
      "[1400,  100] loss:0.012\n"
     ]
    },
    {
     "name": "stderr",
     "output_type": "stream",
     "text": [
      " 75%|█████████████████████████████▎         | 1500/2000 [08:45<02:48,  2.98it/s]"
     ]
    },
    {
     "name": "stdout",
     "output_type": "stream",
     "text": [
      "[1500,  100] loss:0.011\n"
     ]
    },
    {
     "name": "stderr",
     "output_type": "stream",
     "text": [
      " 80%|███████████████████████████████▏       | 1600/2000 [09:21<02:19,  2.87it/s]"
     ]
    },
    {
     "name": "stdout",
     "output_type": "stream",
     "text": [
      "[1600,  100] loss:0.009\n"
     ]
    },
    {
     "name": "stderr",
     "output_type": "stream",
     "text": [
      " 85%|█████████████████████████████████▏     | 1700/2000 [09:56<01:40,  2.98it/s]"
     ]
    },
    {
     "name": "stdout",
     "output_type": "stream",
     "text": [
      "[1700,  100] loss:0.008\n"
     ]
    },
    {
     "name": "stderr",
     "output_type": "stream",
     "text": [
      " 90%|███████████████████████████████████    | 1800/2000 [10:31<01:07,  2.97it/s]"
     ]
    },
    {
     "name": "stdout",
     "output_type": "stream",
     "text": [
      "[1800,  100] loss:0.007\n"
     ]
    },
    {
     "name": "stderr",
     "output_type": "stream",
     "text": [
      " 95%|█████████████████████████████████████  | 1900/2000 [11:07<00:40,  2.49it/s]"
     ]
    },
    {
     "name": "stdout",
     "output_type": "stream",
     "text": [
      "[1900,  100] loss:0.007\n"
     ]
    },
    {
     "name": "stderr",
     "output_type": "stream",
     "text": [
      "100%|███████████████████████████████████████| 2000/2000 [11:44<00:00,  2.84it/s]"
     ]
    },
    {
     "name": "stdout",
     "output_type": "stream",
     "text": [
      "[2000,  100] loss:0.006\n",
      "Finished Training\n"
     ]
    },
    {
     "name": "stderr",
     "output_type": "stream",
     "text": [
      "\n",
      "  5%|██                                      | 100/2000 [00:35<11:08,  2.84it/s]"
     ]
    },
    {
     "name": "stdout",
     "output_type": "stream",
     "text": [
      "[100,  100] loss:3.277\n"
     ]
    },
    {
     "name": "stderr",
     "output_type": "stream",
     "text": [
      " 10%|████                                    | 200/2000 [01:12<11:20,  2.65it/s]"
     ]
    },
    {
     "name": "stdout",
     "output_type": "stream",
     "text": [
      "[200,  100] loss:2.209\n"
     ]
    },
    {
     "name": "stderr",
     "output_type": "stream",
     "text": [
      " 15%|██████                                  | 300/2000 [01:48<10:36,  2.67it/s]"
     ]
    },
    {
     "name": "stdout",
     "output_type": "stream",
     "text": [
      "[300,  100] loss:1.469\n"
     ]
    },
    {
     "name": "stderr",
     "output_type": "stream",
     "text": [
      " 20%|████████                                | 400/2000 [02:24<08:47,  3.03it/s]"
     ]
    },
    {
     "name": "stdout",
     "output_type": "stream",
     "text": [
      "[400,  100] loss:0.952\n"
     ]
    },
    {
     "name": "stderr",
     "output_type": "stream",
     "text": [
      " 25%|██████████                              | 500/2000 [02:59<08:57,  2.79it/s]"
     ]
    },
    {
     "name": "stdout",
     "output_type": "stream",
     "text": [
      "[500,  100] loss:0.555\n"
     ]
    },
    {
     "name": "stderr",
     "output_type": "stream",
     "text": [
      " 30%|████████████                            | 600/2000 [03:33<08:17,  2.81it/s]"
     ]
    },
    {
     "name": "stdout",
     "output_type": "stream",
     "text": [
      "[600,  100] loss:0.285\n"
     ]
    },
    {
     "name": "stderr",
     "output_type": "stream",
     "text": [
      " 35%|██████████████                          | 700/2000 [04:07<07:33,  2.87it/s]"
     ]
    },
    {
     "name": "stdout",
     "output_type": "stream",
     "text": [
      "[700,  100] loss:0.145\n"
     ]
    },
    {
     "name": "stderr",
     "output_type": "stream",
     "text": [
      " 40%|████████████████                        | 800/2000 [04:43<07:22,  2.71it/s]"
     ]
    },
    {
     "name": "stdout",
     "output_type": "stream",
     "text": [
      "[800,  100] loss:0.082\n"
     ]
    },
    {
     "name": "stderr",
     "output_type": "stream",
     "text": [
      " 45%|██████████████████                      | 900/2000 [05:19<07:40,  2.39it/s]"
     ]
    },
    {
     "name": "stdout",
     "output_type": "stream",
     "text": [
      "[900,  100] loss:0.053\n"
     ]
    },
    {
     "name": "stderr",
     "output_type": "stream",
     "text": [
      " 50%|███████████████████▌                   | 1000/2000 [05:55<06:04,  2.75it/s]"
     ]
    },
    {
     "name": "stdout",
     "output_type": "stream",
     "text": [
      "[1000,  100] loss:0.037\n"
     ]
    },
    {
     "name": "stderr",
     "output_type": "stream",
     "text": [
      " 55%|█████████████████████▍                 | 1100/2000 [06:33<05:39,  2.65it/s]"
     ]
    },
    {
     "name": "stdout",
     "output_type": "stream",
     "text": [
      "[1100,  100] loss:0.027\n"
     ]
    },
    {
     "name": "stderr",
     "output_type": "stream",
     "text": [
      " 60%|███████████████████████▍               | 1200/2000 [07:09<05:03,  2.63it/s]"
     ]
    },
    {
     "name": "stdout",
     "output_type": "stream",
     "text": [
      "[1200,  100] loss:0.021\n"
     ]
    },
    {
     "name": "stderr",
     "output_type": "stream",
     "text": [
      " 65%|█████████████████████████▎             | 1300/2000 [07:45<04:11,  2.78it/s]"
     ]
    },
    {
     "name": "stdout",
     "output_type": "stream",
     "text": [
      "[1300,  100] loss:0.017\n"
     ]
    },
    {
     "name": "stderr",
     "output_type": "stream",
     "text": [
      " 70%|███████████████████████████▎           | 1400/2000 [08:21<03:46,  2.65it/s]"
     ]
    },
    {
     "name": "stdout",
     "output_type": "stream",
     "text": [
      "[1400,  100] loss:0.014\n"
     ]
    },
    {
     "name": "stderr",
     "output_type": "stream",
     "text": [
      " 75%|█████████████████████████████▎         | 1500/2000 [08:58<03:13,  2.58it/s]"
     ]
    },
    {
     "name": "stdout",
     "output_type": "stream",
     "text": [
      "[1500,  100] loss:0.012\n"
     ]
    },
    {
     "name": "stderr",
     "output_type": "stream",
     "text": [
      " 80%|███████████████████████████████▏       | 1600/2000 [09:32<02:17,  2.91it/s]"
     ]
    },
    {
     "name": "stdout",
     "output_type": "stream",
     "text": [
      "[1600,  100] loss:0.011\n"
     ]
    },
    {
     "name": "stderr",
     "output_type": "stream",
     "text": [
      " 85%|█████████████████████████████████▏     | 1700/2000 [10:06<01:46,  2.80it/s]"
     ]
    },
    {
     "name": "stdout",
     "output_type": "stream",
     "text": [
      "[1700,  100] loss:0.009\n"
     ]
    },
    {
     "name": "stderr",
     "output_type": "stream",
     "text": [
      " 90%|███████████████████████████████████    | 1800/2000 [10:39<01:01,  3.23it/s]"
     ]
    },
    {
     "name": "stdout",
     "output_type": "stream",
     "text": [
      "[1800,  100] loss:0.008\n"
     ]
    },
    {
     "name": "stderr",
     "output_type": "stream",
     "text": [
      " 95%|█████████████████████████████████████  | 1900/2000 [11:14<00:34,  2.88it/s]"
     ]
    },
    {
     "name": "stdout",
     "output_type": "stream",
     "text": [
      "[1900,  100] loss:0.008\n"
     ]
    },
    {
     "name": "stderr",
     "output_type": "stream",
     "text": [
      "100%|███████████████████████████████████████| 2000/2000 [11:50<00:00,  2.82it/s]"
     ]
    },
    {
     "name": "stdout",
     "output_type": "stream",
     "text": [
      "[2000,  100] loss:0.007\n",
      "Finished Training\n"
     ]
    },
    {
     "name": "stderr",
     "output_type": "stream",
     "text": [
      "\n",
      "  5%|██                                      | 100/2000 [00:35<11:38,  2.72it/s]"
     ]
    },
    {
     "name": "stdout",
     "output_type": "stream",
     "text": [
      "[100,  100] loss:3.280\n"
     ]
    },
    {
     "name": "stderr",
     "output_type": "stream",
     "text": [
      " 10%|████                                    | 200/2000 [01:08<09:40,  3.10it/s]"
     ]
    },
    {
     "name": "stdout",
     "output_type": "stream",
     "text": [
      "[200,  100] loss:2.205\n"
     ]
    },
    {
     "name": "stderr",
     "output_type": "stream",
     "text": [
      " 15%|██████                                  | 300/2000 [01:42<09:44,  2.91it/s]"
     ]
    },
    {
     "name": "stdout",
     "output_type": "stream",
     "text": [
      "[300,  100] loss:1.455\n"
     ]
    },
    {
     "name": "stderr",
     "output_type": "stream",
     "text": [
      " 20%|████████                                | 400/2000 [02:18<09:29,  2.81it/s]"
     ]
    },
    {
     "name": "stdout",
     "output_type": "stream",
     "text": [
      "[400,  100] loss:0.924\n"
     ]
    },
    {
     "name": "stderr",
     "output_type": "stream",
     "text": [
      " 25%|██████████                              | 500/2000 [02:55<08:27,  2.96it/s]"
     ]
    },
    {
     "name": "stdout",
     "output_type": "stream",
     "text": [
      "[500,  100] loss:0.519\n"
     ]
    },
    {
     "name": "stderr",
     "output_type": "stream",
     "text": [
      " 30%|████████████                            | 600/2000 [03:30<09:03,  2.57it/s]"
     ]
    },
    {
     "name": "stdout",
     "output_type": "stream",
     "text": [
      "[600,  100] loss:0.257\n"
     ]
    },
    {
     "name": "stderr",
     "output_type": "stream",
     "text": [
      " 35%|██████████████                          | 700/2000 [04:05<07:59,  2.71it/s]"
     ]
    },
    {
     "name": "stdout",
     "output_type": "stream",
     "text": [
      "[700,  100] loss:0.130\n"
     ]
    },
    {
     "name": "stderr",
     "output_type": "stream",
     "text": [
      " 40%|████████████████                        | 800/2000 [04:39<06:34,  3.04it/s]"
     ]
    },
    {
     "name": "stdout",
     "output_type": "stream",
     "text": [
      "[800,  100] loss:0.074\n"
     ]
    },
    {
     "name": "stderr",
     "output_type": "stream",
     "text": [
      " 45%|██████████████████                      | 900/2000 [05:11<05:54,  3.11it/s]"
     ]
    },
    {
     "name": "stdout",
     "output_type": "stream",
     "text": [
      "[900,  100] loss:0.048\n"
     ]
    },
    {
     "name": "stderr",
     "output_type": "stream",
     "text": [
      " 50%|███████████████████▌                   | 1000/2000 [05:44<05:35,  2.98it/s]"
     ]
    },
    {
     "name": "stdout",
     "output_type": "stream",
     "text": [
      "[1000,  100] loss:0.034\n"
     ]
    },
    {
     "name": "stderr",
     "output_type": "stream",
     "text": [
      " 55%|█████████████████████▍                 | 1100/2000 [06:17<05:01,  2.99it/s]"
     ]
    },
    {
     "name": "stdout",
     "output_type": "stream",
     "text": [
      "[1100,  100] loss:0.025\n"
     ]
    },
    {
     "name": "stderr",
     "output_type": "stream",
     "text": [
      " 60%|███████████████████████▍               | 1200/2000 [06:50<04:21,  3.06it/s]"
     ]
    },
    {
     "name": "stdout",
     "output_type": "stream",
     "text": [
      "[1200,  100] loss:0.020\n"
     ]
    },
    {
     "name": "stderr",
     "output_type": "stream",
     "text": [
      " 65%|█████████████████████████▎             | 1300/2000 [07:22<03:46,  3.09it/s]"
     ]
    },
    {
     "name": "stdout",
     "output_type": "stream",
     "text": [
      "[1300,  100] loss:0.016\n"
     ]
    },
    {
     "name": "stderr",
     "output_type": "stream",
     "text": [
      " 70%|███████████████████████████▎           | 1400/2000 [07:55<03:21,  2.97it/s]"
     ]
    },
    {
     "name": "stdout",
     "output_type": "stream",
     "text": [
      "[1400,  100] loss:0.014\n"
     ]
    },
    {
     "name": "stderr",
     "output_type": "stream",
     "text": [
      " 75%|█████████████████████████████▎         | 1500/2000 [08:28<02:43,  3.06it/s]"
     ]
    },
    {
     "name": "stdout",
     "output_type": "stream",
     "text": [
      "[1500,  100] loss:0.012\n"
     ]
    },
    {
     "name": "stderr",
     "output_type": "stream",
     "text": [
      " 80%|███████████████████████████████▏       | 1600/2000 [09:01<02:09,  3.09it/s]"
     ]
    },
    {
     "name": "stdout",
     "output_type": "stream",
     "text": [
      "[1600,  100] loss:0.010\n"
     ]
    },
    {
     "name": "stderr",
     "output_type": "stream",
     "text": [
      " 85%|█████████████████████████████████▏     | 1700/2000 [09:35<01:37,  3.09it/s]"
     ]
    },
    {
     "name": "stdout",
     "output_type": "stream",
     "text": [
      "[1700,  100] loss:0.009\n"
     ]
    },
    {
     "name": "stderr",
     "output_type": "stream",
     "text": [
      " 90%|███████████████████████████████████    | 1800/2000 [10:08<01:06,  3.03it/s]"
     ]
    },
    {
     "name": "stdout",
     "output_type": "stream",
     "text": [
      "[1800,  100] loss:0.008\n"
     ]
    },
    {
     "name": "stderr",
     "output_type": "stream",
     "text": [
      " 95%|█████████████████████████████████████  | 1900/2000 [10:41<00:32,  3.08it/s]"
     ]
    },
    {
     "name": "stdout",
     "output_type": "stream",
     "text": [
      "[1900,  100] loss:0.007\n"
     ]
    },
    {
     "name": "stderr",
     "output_type": "stream",
     "text": [
      "100%|███████████████████████████████████████| 2000/2000 [11:15<00:00,  2.96it/s]"
     ]
    },
    {
     "name": "stdout",
     "output_type": "stream",
     "text": [
      "[2000,  100] loss:0.007\n",
      "Finished Training\n"
     ]
    },
    {
     "name": "stderr",
     "output_type": "stream",
     "text": [
      "\n"
     ]
    }
   ],
   "source": [
    "n_epochs = 2000\n",
    "n_batches = 100\n",
    "\n",
    "batch_size = 32\n",
    "seq_len = 128\n",
    "\n",
    "n_seeds = [1234,1235,1236,1237,1238]\n",
    "\n",
    "Attn_Values = []\n",
    "Prediction_Values = []\n",
    "\n",
    "for seed in n_seeds:\n",
    "    torch.manual_seed(seed)\n",
    "    model = Net_CACO().to(device)\n",
    "    \n",
    "    criterion  = nn.CrossEntropyLoss()\n",
    "    \n",
    "    lr_query_key = 0.05 # 0.02, 0.03,0.04,0.05,0.1\n",
    "    \n",
    "    lr_prediction = 0.01\n",
    "    \n",
    "    optimizer = optim.SGD([\n",
    "        {\"params\":model.key_layer.parameters(), \"lr\":lr_query_key},\n",
    "        {\"params\":model.prediction_layer.parameters(),\"lr\":lr_prediction}])\n",
    "    \n",
    "    \n",
    "    running_loss =0.0\n",
    "    \n",
    "    common_token_attn = []\n",
    "    distinct_token_attn = []\n",
    "    \n",
    "    \n",
    "    \n",
    "    epsilon = 1e-8\n",
    "    \n",
    "    for epoch in tqdm(range(n_epochs)):\n",
    "        model.train()\n",
    "        \n",
    "        for j in range(n_batches):\n",
    "            \n",
    "            data = generate_data(batch_size,seq_len)\n",
    "            \n",
    "            inputs,labels = data[:,:-1].to(device),data[:,-1].to(device)\n",
    "            inputs = F.one_hot(inputs,num_classes=50).float()\n",
    "            \n",
    "            \n",
    "            optimizer.zero_grad()\n",
    "            \n",
    "            outputs,_ = model(inputs)\n",
    "            loss = criterion(outputs,labels)\n",
    "            \n",
    "            loss.backward()\n",
    "            optimizer.step()\n",
    "            \n",
    "            running_loss +=loss.item()\n",
    "        if (epoch+1)%100 ==0:\n",
    "            print(f'[{epoch+1},{j+1:5d}] loss:{running_loss/(100*n_batches):.3f}')\n",
    "            running_loss = 0.0\n",
    "            #generate_heatmap(model,epoch+1)\n",
    "    print(\"Finished Training\")\n",
    "    #deltas_list.append(deltas)\n",
    "    attn,preds = generate_heatmap(model,epoch+1)\n",
    "    Attn_Values.append(attn)\n",
    "    Prediction_Values.append(preds)"
   ]
  },
  {
   "cell_type": "code",
   "execution_count": 43,
   "id": "de260395",
   "metadata": {},
   "outputs": [
    {
     "name": "stdout",
     "output_type": "stream",
     "text": [
      "loss:0.006\n",
      "accuracy:1.000\n"
     ]
    }
   ],
   "source": [
    "correct = 0 \n",
    "total = 0 \n",
    "model.eval()\n",
    "with torch.no_grad():\n",
    "    running_loss = 0.0 \n",
    "    for j in range(500):\n",
    "        data = generate_data(batch_size,seq_len)\n",
    "        inputs,labels = data[:,:-1].to(device),data[:,-1].to(device)\n",
    "        inputs = F.one_hot(inputs,num_classes=50).float()\n",
    "        outputs,attn  = model(inputs)\n",
    "        loss = criterion(outputs,labels)\n",
    "        running_loss +=loss.item()\n",
    "        correct += sum(outputs.max(1)[1]==labels).item()\n",
    "        total += len(labels)\n",
    "print(f'loss:{running_loss/(j+1):.3f}')\n",
    "print(f'accuracy:{correct/total:.3f}')"
   ]
  },
  {
   "cell_type": "code",
   "execution_count": 44,
   "id": "1f554333",
   "metadata": {},
   "outputs": [],
   "source": [
    "attn_values_1 = np.mean(Attn_Values,axis=0)\n",
    "prediction_1 = np.mean(Prediction_Values,axis=0)"
   ]
  },
  {
   "cell_type": "code",
   "execution_count": 45,
   "id": "e038607a",
   "metadata": {},
   "outputs": [
    {
     "data": {
      "image/png": "[encoded data removed]",
      "text/plain": [
       "<Figure size 600x600 with 1 Axes>"
      ]
     },
     "metadata": {},
     "output_type": "display_data"
    }
   ],
   "source": [
    "bin_edges = [np.array([0, 0.2, 0.4, 0.6, 0.8, 1]), np.array([0, 0.2, 0.4, 0.6, 0.8, 1])]\n",
    "\n",
    "num = 64\n",
    "histograms = []\n",
    "for attn_values, prediction in zip(Attn_Values, Prediction_Values):\n",
    "    hist, _, _ = np.histogram2d(attn_values, prediction, bins=bin_edges)\n",
    "    histograms.append(hist)\n",
    "    \n",
    "# Stack and compute mean and variance\n",
    "histograms = np.stack(histograms)\n",
    "mean_hist = np.mean(histograms, axis=0)\n",
    "var_hist = np.var(histograms, axis=0)\n",
    "\n",
    "\n",
    "mean_hist_norm = np.round(mean_hist/num,1)\n",
    "\n",
    "\n",
    "# Assuming `mean_hist_norm` and `var_hist_norm` are your 2D arrays of the same shape\n",
    "# If you prefer to show std instead of variance in the annotation, convert variance to std:\n",
    "std_hist_norm = np.round(np.sqrt(var_hist/num), 1)  # If you want std, otherwise use var_hist for variance.\n",
    "\n",
    "# Create annotation labels with both mean and std (formatted as strings)\n",
    "annot_array = np.empty_like(mean_hist_norm, dtype=object)\n",
    "for i in range(mean_hist_norm.shape[0]):\n",
    "    for j in range(mean_hist_norm.shape[1]):\n",
    "        annot_array[i, j] = f\"{mean_hist_norm[i, j]:.1f}\"#\\n(±{std_hist_norm[i, j]:.1f})\"  # mean ± std\n",
    "\n",
    "# Define tick positions for edges of bins (for correct labeling)\n",
    "x_edges = np.array([0, 0.2, 0.4, 0.6, 0.8, 1])\n",
    "y_edges = np.array([0, 0.2, 0.4, 0.6, 0.8, 1])\n",
    "xtick_positions = np.arange(len(x_edges) - 1) + 1.0  # Right edges\n",
    "ytick_positions = np.arange(len(y_edges) - 1) + 1.0  # Top edges\n",
    "\n",
    "# Plot heatmap for mean values (color intensity)\n",
    "plt.figure(figsize=(6, 6))\n",
    "ax = sns.heatmap(mean_hist_norm.T, annot=annot_array.T, cmap=sns.color_palette(\"coolwarm\"), \n",
    "                 annot_kws={\"size\":18}, cbar=False, vmin=5, vmax=70,fmt=\"\")\n",
    "\n",
    "# Adjust tick positions for x and y axes (move them to the edges)\n",
    "ax.set_xticks(xtick_positions)\n",
    "ax.set_yticks(ytick_positions)\n",
    "\n",
    "# Set the labels for ticks (x and y edges)\n",
    "ax.set_xticklabels(x_edges[1:])\n",
    "ax.set_yticklabels(y_edges[1:])\n",
    "\n",
    "# Make the tick labels bold\n",
    "ax.tick_params(axis='x', labelsize=14)  # Bold x-axis labels\n",
    "ax.tick_params(axis='y', labelsize=14)  # Bold y-axis labels\n",
    "\n",
    "\n",
    "# Invert y-axis to align with typical heatmap style\n",
    "ax.invert_yaxis()\n",
    "\n",
    "# Labels and title\n",
    "plt.xlabel(r\"Distinct Token Attention\", fontweight=\"bold\", fontsize=16)\n",
    "plt.ylabel(r\"Relevant Token Probability\", fontweight=\"bold\", fontsize=16)\n",
    "#plt.title(\"Mean (±Std Dev) Heatmap\")\n",
    "\n",
    "# Save the figure\n",
    "plt.savefig(\"params_increased_caco_1.pdf\", bbox_inches='tight')\n",
    "plt.show()\n",
    "\n",
    "\n",
    "\n"
   ]
  },
  {
   "cell_type": "code",
   "execution_count": null,
   "id": "e9a9b5b8",
   "metadata": {},
   "outputs": [],
   "source": []
  },
  {
   "cell_type": "code",
   "execution_count": null,
   "id": "5d39679f",
   "metadata": {},
   "outputs": [],
   "source": []
  },
  {
   "cell_type": "code",
   "execution_count": null,
   "id": "dd23cf05",
   "metadata": {},
   "outputs": [],
   "source": []
  },
  {
   "cell_type": "code",
   "execution_count": 55,
   "id": "2b9fede2",
   "metadata": {},
   "outputs": [
    {
     "name": "stderr",
     "output_type": "stream",
     "text": [
      "  5%|██                                      | 100/2000 [00:33<10:49,  2.93it/s]"
     ]
    },
    {
     "name": "stdout",
     "output_type": "stream",
     "text": [
      "[100,  100] loss:3.285\n"
     ]
    },
    {
     "name": "stderr",
     "output_type": "stream",
     "text": [
      " 10%|████                                    | 200/2000 [01:06<09:44,  3.08it/s]"
     ]
    },
    {
     "name": "stdout",
     "output_type": "stream",
     "text": [
      "[200,  100] loss:2.220\n"
     ]
    },
    {
     "name": "stderr",
     "output_type": "stream",
     "text": [
      " 15%|██████                                  | 300/2000 [01:39<08:56,  3.17it/s]"
     ]
    },
    {
     "name": "stdout",
     "output_type": "stream",
     "text": [
      "[300,  100] loss:1.500\n"
     ]
    },
    {
     "name": "stderr",
     "output_type": "stream",
     "text": [
      " 20%|████████                                | 400/2000 [02:12<08:44,  3.05it/s]"
     ]
    },
    {
     "name": "stdout",
     "output_type": "stream",
     "text": [
      "[400,  100] loss:1.035\n"
     ]
    },
    {
     "name": "stderr",
     "output_type": "stream",
     "text": [
      " 25%|██████████                              | 500/2000 [02:45<08:17,  3.02it/s]"
     ]
    },
    {
     "name": "stdout",
     "output_type": "stream",
     "text": [
      "[500,  100] loss:0.711\n"
     ]
    },
    {
     "name": "stderr",
     "output_type": "stream",
     "text": [
      " 30%|████████████                            | 600/2000 [03:18<07:43,  3.02it/s]"
     ]
    },
    {
     "name": "stdout",
     "output_type": "stream",
     "text": [
      "[600,  100] loss:0.468\n"
     ]
    },
    {
     "name": "stderr",
     "output_type": "stream",
     "text": [
      " 35%|██████████████                          | 700/2000 [03:51<06:56,  3.12it/s]"
     ]
    },
    {
     "name": "stdout",
     "output_type": "stream",
     "text": [
      "[700,  100] loss:0.293\n"
     ]
    },
    {
     "name": "stderr",
     "output_type": "stream",
     "text": [
      " 40%|████████████████                        | 800/2000 [04:24<06:49,  2.93it/s]"
     ]
    },
    {
     "name": "stdout",
     "output_type": "stream",
     "text": [
      "[800,  100] loss:0.178\n"
     ]
    },
    {
     "name": "stderr",
     "output_type": "stream",
     "text": [
      " 45%|██████████████████                      | 900/2000 [04:58<06:06,  3.00it/s]"
     ]
    },
    {
     "name": "stdout",
     "output_type": "stream",
     "text": [
      "[900,  100] loss:0.110\n"
     ]
    },
    {
     "name": "stderr",
     "output_type": "stream",
     "text": [
      " 50%|███████████████████▌                   | 1000/2000 [05:32<05:34,  2.99it/s]"
     ]
    },
    {
     "name": "stdout",
     "output_type": "stream",
     "text": [
      "[1000,  100] loss:0.071\n"
     ]
    },
    {
     "name": "stderr",
     "output_type": "stream",
     "text": [
      " 55%|█████████████████████▍                 | 1100/2000 [06:06<05:03,  2.96it/s]"
     ]
    },
    {
     "name": "stdout",
     "output_type": "stream",
     "text": [
      "[1100,  100] loss:0.048\n"
     ]
    },
    {
     "name": "stderr",
     "output_type": "stream",
     "text": [
      " 60%|███████████████████████▍               | 1200/2000 [06:39<04:16,  3.12it/s]"
     ]
    },
    {
     "name": "stdout",
     "output_type": "stream",
     "text": [
      "[1200,  100] loss:0.034\n"
     ]
    },
    {
     "name": "stderr",
     "output_type": "stream",
     "text": [
      " 65%|█████████████████████████▎             | 1300/2000 [07:11<03:50,  3.04it/s]"
     ]
    },
    {
     "name": "stdout",
     "output_type": "stream",
     "text": [
      "[1300,  100] loss:0.025\n"
     ]
    },
    {
     "name": "stderr",
     "output_type": "stream",
     "text": [
      " 70%|███████████████████████████▎           | 1400/2000 [07:45<03:18,  3.02it/s]"
     ]
    },
    {
     "name": "stdout",
     "output_type": "stream",
     "text": [
      "[1400,  100] loss:0.020\n"
     ]
    },
    {
     "name": "stderr",
     "output_type": "stream",
     "text": [
      " 75%|█████████████████████████████▎         | 1500/2000 [08:17<02:45,  3.03it/s]"
     ]
    },
    {
     "name": "stdout",
     "output_type": "stream",
     "text": [
      "[1500,  100] loss:0.016\n"
     ]
    },
    {
     "name": "stderr",
     "output_type": "stream",
     "text": [
      " 80%|███████████████████████████████▏       | 1600/2000 [08:51<02:11,  3.04it/s]"
     ]
    },
    {
     "name": "stdout",
     "output_type": "stream",
     "text": [
      "[1600,  100] loss:0.013\n"
     ]
    },
    {
     "name": "stderr",
     "output_type": "stream",
     "text": [
      " 85%|█████████████████████████████████▏     | 1700/2000 [09:25<01:48,  2.77it/s]"
     ]
    },
    {
     "name": "stdout",
     "output_type": "stream",
     "text": [
      "[1700,  100] loss:0.011\n"
     ]
    },
    {
     "name": "stderr",
     "output_type": "stream",
     "text": [
      " 90%|███████████████████████████████████    | 1800/2000 [09:58<01:07,  2.94it/s]"
     ]
    },
    {
     "name": "stdout",
     "output_type": "stream",
     "text": [
      "[1800,  100] loss:0.009\n"
     ]
    },
    {
     "name": "stderr",
     "output_type": "stream",
     "text": [
      " 95%|█████████████████████████████████████  | 1900/2000 [10:32<00:32,  3.05it/s]"
     ]
    },
    {
     "name": "stdout",
     "output_type": "stream",
     "text": [
      "[1900,  100] loss:0.008\n"
     ]
    },
    {
     "name": "stderr",
     "output_type": "stream",
     "text": [
      "100%|███████████████████████████████████████| 2000/2000 [11:06<00:00,  3.00it/s]"
     ]
    },
    {
     "name": "stdout",
     "output_type": "stream",
     "text": [
      "[2000,  100] loss:0.007\n",
      "Finished Training\n"
     ]
    },
    {
     "name": "stderr",
     "output_type": "stream",
     "text": [
      "\n",
      "  5%|██                                      | 100/2000 [00:33<10:39,  2.97it/s]"
     ]
    },
    {
     "name": "stdout",
     "output_type": "stream",
     "text": [
      "[100,  100] loss:3.285\n"
     ]
    },
    {
     "name": "stderr",
     "output_type": "stream",
     "text": [
      " 10%|████                                    | 200/2000 [01:07<10:03,  2.98it/s]"
     ]
    },
    {
     "name": "stdout",
     "output_type": "stream",
     "text": [
      "[200,  100] loss:2.219\n"
     ]
    },
    {
     "name": "stderr",
     "output_type": "stream",
     "text": [
      " 15%|██████                                  | 300/2000 [01:40<09:33,  2.96it/s]"
     ]
    },
    {
     "name": "stdout",
     "output_type": "stream",
     "text": [
      "[300,  100] loss:1.496\n"
     ]
    },
    {
     "name": "stderr",
     "output_type": "stream",
     "text": [
      " 20%|████████                                | 400/2000 [02:14<08:51,  3.01it/s]"
     ]
    },
    {
     "name": "stdout",
     "output_type": "stream",
     "text": [
      "[400,  100] loss:1.032\n"
     ]
    },
    {
     "name": "stderr",
     "output_type": "stream",
     "text": [
      " 25%|██████████                              | 500/2000 [02:47<08:00,  3.12it/s]"
     ]
    },
    {
     "name": "stdout",
     "output_type": "stream",
     "text": [
      "[500,  100] loss:0.711\n"
     ]
    },
    {
     "name": "stderr",
     "output_type": "stream",
     "text": [
      " 30%|████████████                            | 600/2000 [03:20<07:37,  3.06it/s]"
     ]
    },
    {
     "name": "stdout",
     "output_type": "stream",
     "text": [
      "[600,  100] loss:0.475\n"
     ]
    },
    {
     "name": "stderr",
     "output_type": "stream",
     "text": [
      " 35%|██████████████                          | 700/2000 [03:54<07:08,  3.03it/s]"
     ]
    },
    {
     "name": "stdout",
     "output_type": "stream",
     "text": [
      "[700,  100] loss:0.304\n"
     ]
    },
    {
     "name": "stderr",
     "output_type": "stream",
     "text": [
      " 40%|████████████████                        | 800/2000 [04:27<06:40,  2.99it/s]"
     ]
    },
    {
     "name": "stdout",
     "output_type": "stream",
     "text": [
      "[800,  100] loss:0.192\n"
     ]
    },
    {
     "name": "stderr",
     "output_type": "stream",
     "text": [
      " 45%|██████████████████                      | 900/2000 [05:00<05:55,  3.10it/s]"
     ]
    },
    {
     "name": "stdout",
     "output_type": "stream",
     "text": [
      "[900,  100] loss:0.122\n"
     ]
    },
    {
     "name": "stderr",
     "output_type": "stream",
     "text": [
      " 50%|███████████████████▌                   | 1000/2000 [05:34<05:46,  2.89it/s]"
     ]
    },
    {
     "name": "stdout",
     "output_type": "stream",
     "text": [
      "[1000,  100] loss:0.080\n"
     ]
    },
    {
     "name": "stderr",
     "output_type": "stream",
     "text": [
      " 55%|█████████████████████▍                 | 1100/2000 [06:08<05:00,  2.99it/s]"
     ]
    },
    {
     "name": "stdout",
     "output_type": "stream",
     "text": [
      "[1100,  100] loss:0.055\n"
     ]
    },
    {
     "name": "stderr",
     "output_type": "stream",
     "text": [
      " 60%|███████████████████████▍               | 1200/2000 [06:42<04:36,  2.90it/s]"
     ]
    },
    {
     "name": "stdout",
     "output_type": "stream",
     "text": [
      "[1200,  100] loss:0.039\n"
     ]
    },
    {
     "name": "stderr",
     "output_type": "stream",
     "text": [
      " 65%|█████████████████████████▎             | 1300/2000 [07:15<03:53,  2.99it/s]"
     ]
    },
    {
     "name": "stdout",
     "output_type": "stream",
     "text": [
      "[1300,  100] loss:0.029\n"
     ]
    },
    {
     "name": "stderr",
     "output_type": "stream",
     "text": [
      " 70%|███████████████████████████▎           | 1400/2000 [07:49<03:22,  2.96it/s]"
     ]
    },
    {
     "name": "stdout",
     "output_type": "stream",
     "text": [
      "[1400,  100] loss:0.023\n"
     ]
    },
    {
     "name": "stderr",
     "output_type": "stream",
     "text": [
      " 75%|█████████████████████████████▎         | 1500/2000 [08:23<02:54,  2.86it/s]"
     ]
    },
    {
     "name": "stdout",
     "output_type": "stream",
     "text": [
      "[1500,  100] loss:0.018\n"
     ]
    },
    {
     "name": "stderr",
     "output_type": "stream",
     "text": [
      " 80%|███████████████████████████████▏       | 1600/2000 [08:57<02:09,  3.08it/s]"
     ]
    },
    {
     "name": "stdout",
     "output_type": "stream",
     "text": [
      "[1600,  100] loss:0.015\n"
     ]
    },
    {
     "name": "stderr",
     "output_type": "stream",
     "text": [
      " 85%|█████████████████████████████████▏     | 1700/2000 [09:30<01:40,  2.99it/s]"
     ]
    },
    {
     "name": "stdout",
     "output_type": "stream",
     "text": [
      "[1700,  100] loss:0.012\n"
     ]
    },
    {
     "name": "stderr",
     "output_type": "stream",
     "text": [
      " 90%|███████████████████████████████████    | 1800/2000 [10:03<01:06,  2.99it/s]"
     ]
    },
    {
     "name": "stdout",
     "output_type": "stream",
     "text": [
      "[1800,  100] loss:0.010\n"
     ]
    },
    {
     "name": "stderr",
     "output_type": "stream",
     "text": [
      " 95%|█████████████████████████████████████  | 1900/2000 [10:37<00:33,  3.01it/s]"
     ]
    },
    {
     "name": "stdout",
     "output_type": "stream",
     "text": [
      "[1900,  100] loss:0.009\n"
     ]
    },
    {
     "name": "stderr",
     "output_type": "stream",
     "text": [
      "100%|███████████████████████████████████████| 2000/2000 [11:11<00:00,  2.98it/s]"
     ]
    },
    {
     "name": "stdout",
     "output_type": "stream",
     "text": [
      "[2000,  100] loss:0.008\n",
      "Finished Training\n"
     ]
    },
    {
     "name": "stderr",
     "output_type": "stream",
     "text": [
      "\n",
      "  5%|██                                      | 100/2000 [00:33<10:43,  2.95it/s]"
     ]
    },
    {
     "name": "stdout",
     "output_type": "stream",
     "text": [
      "[100,  100] loss:3.287\n"
     ]
    },
    {
     "name": "stderr",
     "output_type": "stream",
     "text": [
      " 10%|████                                    | 200/2000 [01:07<10:18,  2.91it/s]"
     ]
    },
    {
     "name": "stdout",
     "output_type": "stream",
     "text": [
      "[200,  100] loss:2.221\n"
     ]
    },
    {
     "name": "stderr",
     "output_type": "stream",
     "text": [
      " 15%|██████                                  | 300/2000 [01:40<09:07,  3.10it/s]"
     ]
    },
    {
     "name": "stdout",
     "output_type": "stream",
     "text": [
      "[300,  100] loss:1.499\n"
     ]
    },
    {
     "name": "stderr",
     "output_type": "stream",
     "text": [
      " 20%|████████                                | 400/2000 [02:13<08:52,  3.01it/s]"
     ]
    },
    {
     "name": "stdout",
     "output_type": "stream",
     "text": [
      "[400,  100] loss:1.035\n"
     ]
    },
    {
     "name": "stderr",
     "output_type": "stream",
     "text": [
      " 25%|██████████                              | 500/2000 [02:46<08:24,  2.97it/s]"
     ]
    },
    {
     "name": "stdout",
     "output_type": "stream",
     "text": [
      "[500,  100] loss:0.713\n"
     ]
    },
    {
     "name": "stderr",
     "output_type": "stream",
     "text": [
      " 30%|████████████                            | 600/2000 [03:19<07:56,  2.94it/s]"
     ]
    },
    {
     "name": "stdout",
     "output_type": "stream",
     "text": [
      "[600,  100] loss:0.474\n"
     ]
    },
    {
     "name": "stderr",
     "output_type": "stream",
     "text": [
      " 35%|██████████████                          | 700/2000 [03:51<06:53,  3.14it/s]"
     ]
    },
    {
     "name": "stdout",
     "output_type": "stream",
     "text": [
      "[700,  100] loss:0.302\n"
     ]
    },
    {
     "name": "stderr",
     "output_type": "stream",
     "text": [
      " 40%|████████████████                        | 800/2000 [04:25<06:43,  2.97it/s]"
     ]
    },
    {
     "name": "stdout",
     "output_type": "stream",
     "text": [
      "[800,  100] loss:0.189\n"
     ]
    },
    {
     "name": "stderr",
     "output_type": "stream",
     "text": [
      " 45%|██████████████████                      | 900/2000 [04:58<05:47,  3.16it/s]"
     ]
    },
    {
     "name": "stdout",
     "output_type": "stream",
     "text": [
      "[900,  100] loss:0.119\n"
     ]
    },
    {
     "name": "stderr",
     "output_type": "stream",
     "text": [
      " 50%|███████████████████▌                   | 1000/2000 [05:31<05:29,  3.03it/s]"
     ]
    },
    {
     "name": "stdout",
     "output_type": "stream",
     "text": [
      "[1000,  100] loss:0.077\n"
     ]
    },
    {
     "name": "stderr",
     "output_type": "stream",
     "text": [
      " 55%|█████████████████████▍                 | 1100/2000 [06:05<05:02,  2.98it/s]"
     ]
    },
    {
     "name": "stdout",
     "output_type": "stream",
     "text": [
      "[1100,  100] loss:0.053\n"
     ]
    },
    {
     "name": "stderr",
     "output_type": "stream",
     "text": [
      " 60%|███████████████████████▍               | 1200/2000 [06:39<04:26,  3.00it/s]"
     ]
    },
    {
     "name": "stdout",
     "output_type": "stream",
     "text": [
      "[1200,  100] loss:0.038\n"
     ]
    },
    {
     "name": "stderr",
     "output_type": "stream",
     "text": [
      " 65%|█████████████████████████▎             | 1300/2000 [07:11<03:50,  3.03it/s]"
     ]
    },
    {
     "name": "stdout",
     "output_type": "stream",
     "text": [
      "[1300,  100] loss:0.028\n"
     ]
    },
    {
     "name": "stderr",
     "output_type": "stream",
     "text": [
      " 70%|███████████████████████████▎           | 1400/2000 [07:44<03:15,  3.07it/s]"
     ]
    },
    {
     "name": "stdout",
     "output_type": "stream",
     "text": [
      "[1400,  100] loss:0.022\n"
     ]
    },
    {
     "name": "stderr",
     "output_type": "stream",
     "text": [
      " 75%|█████████████████████████████▎         | 1500/2000 [08:17<02:47,  2.99it/s]"
     ]
    },
    {
     "name": "stdout",
     "output_type": "stream",
     "text": [
      "[1500,  100] loss:0.017\n"
     ]
    },
    {
     "name": "stderr",
     "output_type": "stream",
     "text": [
      " 80%|███████████████████████████████▏       | 1600/2000 [08:50<02:12,  3.01it/s]"
     ]
    },
    {
     "name": "stdout",
     "output_type": "stream",
     "text": [
      "[1600,  100] loss:0.014\n"
     ]
    },
    {
     "name": "stderr",
     "output_type": "stream",
     "text": [
      " 85%|█████████████████████████████████▏     | 1700/2000 [09:24<01:38,  3.04it/s]"
     ]
    },
    {
     "name": "stdout",
     "output_type": "stream",
     "text": [
      "[1700,  100] loss:0.012\n"
     ]
    },
    {
     "name": "stderr",
     "output_type": "stream",
     "text": [
      " 90%|███████████████████████████████████    | 1800/2000 [09:57<01:06,  3.03it/s]"
     ]
    },
    {
     "name": "stdout",
     "output_type": "stream",
     "text": [
      "[1800,  100] loss:0.010\n"
     ]
    },
    {
     "name": "stderr",
     "output_type": "stream",
     "text": [
      " 95%|█████████████████████████████████████  | 1900/2000 [10:30<00:34,  2.90it/s]"
     ]
    },
    {
     "name": "stdout",
     "output_type": "stream",
     "text": [
      "[1900,  100] loss:0.008\n"
     ]
    },
    {
     "name": "stderr",
     "output_type": "stream",
     "text": [
      "100%|███████████████████████████████████████| 2000/2000 [11:04<00:00,  3.01it/s]"
     ]
    },
    {
     "name": "stdout",
     "output_type": "stream",
     "text": [
      "[2000,  100] loss:0.007\n",
      "Finished Training\n"
     ]
    },
    {
     "name": "stderr",
     "output_type": "stream",
     "text": [
      "\n",
      "  5%|██                                      | 100/2000 [00:33<10:28,  3.02it/s]"
     ]
    },
    {
     "name": "stdout",
     "output_type": "stream",
     "text": [
      "[100,  100] loss:3.278\n"
     ]
    },
    {
     "name": "stderr",
     "output_type": "stream",
     "text": [
      " 10%|████                                    | 200/2000 [01:07<10:02,  2.99it/s]"
     ]
    },
    {
     "name": "stdout",
     "output_type": "stream",
     "text": [
      "[200,  100] loss:2.215\n"
     ]
    },
    {
     "name": "stderr",
     "output_type": "stream",
     "text": [
      " 15%|██████                                  | 300/2000 [01:41<09:29,  2.99it/s]"
     ]
    },
    {
     "name": "stdout",
     "output_type": "stream",
     "text": [
      "[300,  100] loss:1.497\n"
     ]
    },
    {
     "name": "stderr",
     "output_type": "stream",
     "text": [
      " 20%|████████                                | 400/2000 [02:14<08:46,  3.04it/s]"
     ]
    },
    {
     "name": "stdout",
     "output_type": "stream",
     "text": [
      "[400,  100] loss:1.035\n"
     ]
    },
    {
     "name": "stderr",
     "output_type": "stream",
     "text": [
      " 25%|██████████                              | 500/2000 [02:47<08:28,  2.95it/s]"
     ]
    },
    {
     "name": "stdout",
     "output_type": "stream",
     "text": [
      "[500,  100] loss:0.715\n"
     ]
    },
    {
     "name": "stderr",
     "output_type": "stream",
     "text": [
      " 30%|████████████                            | 600/2000 [03:20<08:01,  2.91it/s]"
     ]
    },
    {
     "name": "stdout",
     "output_type": "stream",
     "text": [
      "[600,  100] loss:0.478\n"
     ]
    },
    {
     "name": "stderr",
     "output_type": "stream",
     "text": [
      " 35%|██████████████                          | 700/2000 [03:53<07:12,  3.01it/s]"
     ]
    },
    {
     "name": "stdout",
     "output_type": "stream",
     "text": [
      "[700,  100] loss:0.309\n"
     ]
    },
    {
     "name": "stderr",
     "output_type": "stream",
     "text": [
      " 40%|████████████████                        | 800/2000 [04:27<06:56,  2.88it/s]"
     ]
    },
    {
     "name": "stdout",
     "output_type": "stream",
     "text": [
      "[800,  100] loss:0.196\n"
     ]
    },
    {
     "name": "stderr",
     "output_type": "stream",
     "text": [
      " 45%|██████████████████                      | 900/2000 [04:59<06:21,  2.88it/s]"
     ]
    },
    {
     "name": "stdout",
     "output_type": "stream",
     "text": [
      "[900,  100] loss:0.125\n"
     ]
    },
    {
     "name": "stderr",
     "output_type": "stream",
     "text": [
      " 50%|███████████████████▌                   | 1000/2000 [05:32<05:20,  3.12it/s]"
     ]
    },
    {
     "name": "stdout",
     "output_type": "stream",
     "text": [
      "[1000,  100] loss:0.083\n"
     ]
    },
    {
     "name": "stderr",
     "output_type": "stream",
     "text": [
      " 55%|█████████████████████▍                 | 1100/2000 [06:06<04:57,  3.02it/s]"
     ]
    },
    {
     "name": "stdout",
     "output_type": "stream",
     "text": [
      "[1100,  100] loss:0.057\n"
     ]
    },
    {
     "name": "stderr",
     "output_type": "stream",
     "text": [
      " 60%|███████████████████████▍               | 1200/2000 [06:39<04:30,  2.96it/s]"
     ]
    },
    {
     "name": "stdout",
     "output_type": "stream",
     "text": [
      "[1200,  100] loss:0.041\n"
     ]
    },
    {
     "name": "stderr",
     "output_type": "stream",
     "text": [
      " 65%|█████████████████████████▎             | 1300/2000 [07:13<03:46,  3.09it/s]"
     ]
    },
    {
     "name": "stdout",
     "output_type": "stream",
     "text": [
      "[1300,  100] loss:0.031\n"
     ]
    },
    {
     "name": "stderr",
     "output_type": "stream",
     "text": [
      " 70%|███████████████████████████▎           | 1400/2000 [07:47<03:25,  2.92it/s]"
     ]
    },
    {
     "name": "stdout",
     "output_type": "stream",
     "text": [
      "[1400,  100] loss:0.024\n"
     ]
    },
    {
     "name": "stderr",
     "output_type": "stream",
     "text": [
      " 75%|█████████████████████████████▎         | 1500/2000 [08:20<02:43,  3.05it/s]"
     ]
    },
    {
     "name": "stdout",
     "output_type": "stream",
     "text": [
      "[1500,  100] loss:0.019\n"
     ]
    },
    {
     "name": "stderr",
     "output_type": "stream",
     "text": [
      " 80%|███████████████████████████████▏       | 1600/2000 [08:53<02:22,  2.80it/s]"
     ]
    },
    {
     "name": "stdout",
     "output_type": "stream",
     "text": [
      "[1600,  100] loss:0.015\n"
     ]
    },
    {
     "name": "stderr",
     "output_type": "stream",
     "text": [
      " 85%|█████████████████████████████████▏     | 1700/2000 [09:27<01:39,  3.03it/s]"
     ]
    },
    {
     "name": "stdout",
     "output_type": "stream",
     "text": [
      "[1700,  100] loss:0.013\n"
     ]
    },
    {
     "name": "stderr",
     "output_type": "stream",
     "text": [
      " 90%|███████████████████████████████████    | 1800/2000 [10:01<01:07,  2.98it/s]"
     ]
    },
    {
     "name": "stdout",
     "output_type": "stream",
     "text": [
      "[1800,  100] loss:0.011\n"
     ]
    },
    {
     "name": "stderr",
     "output_type": "stream",
     "text": [
      " 95%|█████████████████████████████████████  | 1900/2000 [10:34<00:32,  3.04it/s]"
     ]
    },
    {
     "name": "stdout",
     "output_type": "stream",
     "text": [
      "[1900,  100] loss:0.009\n"
     ]
    },
    {
     "name": "stderr",
     "output_type": "stream",
     "text": [
      "100%|███████████████████████████████████████| 2000/2000 [11:08<00:00,  2.99it/s]"
     ]
    },
    {
     "name": "stdout",
     "output_type": "stream",
     "text": [
      "[2000,  100] loss:0.008\n",
      "Finished Training\n"
     ]
    },
    {
     "name": "stderr",
     "output_type": "stream",
     "text": [
      "\n",
      "  5%|██                                      | 100/2000 [00:34<10:45,  2.94it/s]"
     ]
    },
    {
     "name": "stdout",
     "output_type": "stream",
     "text": [
      "[100,  100] loss:3.281\n"
     ]
    },
    {
     "name": "stderr",
     "output_type": "stream",
     "text": [
      " 10%|████                                    | 200/2000 [01:08<10:05,  2.97it/s]"
     ]
    },
    {
     "name": "stdout",
     "output_type": "stream",
     "text": [
      "[200,  100] loss:2.214\n"
     ]
    },
    {
     "name": "stderr",
     "output_type": "stream",
     "text": [
      " 15%|██████                                  | 300/2000 [01:42<09:45,  2.90it/s]"
     ]
    },
    {
     "name": "stdout",
     "output_type": "stream",
     "text": [
      "[300,  100] loss:1.490\n"
     ]
    },
    {
     "name": "stderr",
     "output_type": "stream",
     "text": [
      " 20%|████████                                | 400/2000 [02:16<08:46,  3.04it/s]"
     ]
    },
    {
     "name": "stdout",
     "output_type": "stream",
     "text": [
      "[400,  100] loss:1.024\n"
     ]
    },
    {
     "name": "stderr",
     "output_type": "stream",
     "text": [
      " 25%|██████████                              | 500/2000 [02:50<08:08,  3.07it/s]"
     ]
    },
    {
     "name": "stdout",
     "output_type": "stream",
     "text": [
      "[500,  100] loss:0.701\n"
     ]
    },
    {
     "name": "stderr",
     "output_type": "stream",
     "text": [
      " 30%|████████████                            | 600/2000 [03:24<07:38,  3.05it/s]"
     ]
    },
    {
     "name": "stdout",
     "output_type": "stream",
     "text": [
      "[600,  100] loss:0.463\n"
     ]
    },
    {
     "name": "stderr",
     "output_type": "stream",
     "text": [
      " 35%|██████████████                          | 700/2000 [03:57<07:10,  3.02it/s]"
     ]
    },
    {
     "name": "stdout",
     "output_type": "stream",
     "text": [
      "[700,  100] loss:0.295\n"
     ]
    },
    {
     "name": "stderr",
     "output_type": "stream",
     "text": [
      " 40%|████████████████                        | 800/2000 [04:30<06:27,  3.10it/s]"
     ]
    },
    {
     "name": "stdout",
     "output_type": "stream",
     "text": [
      "[800,  100] loss:0.185\n"
     ]
    },
    {
     "name": "stderr",
     "output_type": "stream",
     "text": [
      " 45%|██████████████████                      | 900/2000 [05:03<06:45,  2.71it/s]"
     ]
    },
    {
     "name": "stdout",
     "output_type": "stream",
     "text": [
      "[900,  100] loss:0.118\n"
     ]
    },
    {
     "name": "stderr",
     "output_type": "stream",
     "text": [
      " 50%|███████████████████▌                   | 1000/2000 [05:36<05:30,  3.03it/s]"
     ]
    },
    {
     "name": "stdout",
     "output_type": "stream",
     "text": [
      "[1000,  100] loss:0.078\n"
     ]
    },
    {
     "name": "stderr",
     "output_type": "stream",
     "text": [
      " 55%|█████████████████████▍                 | 1100/2000 [06:10<05:23,  2.78it/s]"
     ]
    },
    {
     "name": "stdout",
     "output_type": "stream",
     "text": [
      "[1100,  100] loss:0.054\n"
     ]
    },
    {
     "name": "stderr",
     "output_type": "stream",
     "text": [
      " 60%|███████████████████████▍               | 1200/2000 [06:43<04:17,  3.11it/s]"
     ]
    },
    {
     "name": "stdout",
     "output_type": "stream",
     "text": [
      "[1200,  100] loss:0.039\n"
     ]
    },
    {
     "name": "stderr",
     "output_type": "stream",
     "text": [
      " 65%|█████████████████████████▎             | 1300/2000 [07:16<03:48,  3.06it/s]"
     ]
    },
    {
     "name": "stdout",
     "output_type": "stream",
     "text": [
      "[1300,  100] loss:0.029\n"
     ]
    },
    {
     "name": "stderr",
     "output_type": "stream",
     "text": [
      " 70%|███████████████████████████▎           | 1400/2000 [07:50<03:29,  2.87it/s]"
     ]
    },
    {
     "name": "stdout",
     "output_type": "stream",
     "text": [
      "[1400,  100] loss:0.023\n"
     ]
    },
    {
     "name": "stderr",
     "output_type": "stream",
     "text": [
      " 75%|█████████████████████████████▎         | 1500/2000 [08:24<02:51,  2.91it/s]"
     ]
    },
    {
     "name": "stdout",
     "output_type": "stream",
     "text": [
      "[1500,  100] loss:0.018\n"
     ]
    },
    {
     "name": "stderr",
     "output_type": "stream",
     "text": [
      " 80%|███████████████████████████████▏       | 1600/2000 [08:58<02:10,  3.06it/s]"
     ]
    },
    {
     "name": "stdout",
     "output_type": "stream",
     "text": [
      "[1600,  100] loss:0.015\n"
     ]
    },
    {
     "name": "stderr",
     "output_type": "stream",
     "text": [
      " 85%|█████████████████████████████████▏     | 1700/2000 [09:32<01:36,  3.10it/s]"
     ]
    },
    {
     "name": "stdout",
     "output_type": "stream",
     "text": [
      "[1700,  100] loss:0.012\n"
     ]
    },
    {
     "name": "stderr",
     "output_type": "stream",
     "text": [
      " 90%|███████████████████████████████████    | 1800/2000 [10:05<01:04,  3.09it/s]"
     ]
    },
    {
     "name": "stdout",
     "output_type": "stream",
     "text": [
      "[1800,  100] loss:0.010\n"
     ]
    },
    {
     "name": "stderr",
     "output_type": "stream",
     "text": [
      " 95%|█████████████████████████████████████  | 1900/2000 [10:38<00:33,  2.99it/s]"
     ]
    },
    {
     "name": "stdout",
     "output_type": "stream",
     "text": [
      "[1900,  100] loss:0.009\n"
     ]
    },
    {
     "name": "stderr",
     "output_type": "stream",
     "text": [
      "100%|███████████████████████████████████████| 2000/2000 [11:11<00:00,  2.98it/s]"
     ]
    },
    {
     "name": "stdout",
     "output_type": "stream",
     "text": [
      "[2000,  100] loss:0.008\n",
      "Finished Training\n"
     ]
    },
    {
     "name": "stderr",
     "output_type": "stream",
     "text": [
      "\n"
     ]
    }
   ],
   "source": [
    "n_epochs = 2000\n",
    "n_batches = 100\n",
    "\n",
    "batch_size = 32\n",
    "seq_len = 128\n",
    "\n",
    "n_seeds = [1234,1235,1236,1237,1238]\n",
    "\n",
    "Attn_Values = []\n",
    "Prediction_Values = []\n",
    "\n",
    "# total number of training steps\n",
    "total_steps = n_epochs * n_batches\n",
    "\n",
    "\n",
    "\n",
    "for seed in n_seeds:\n",
    "    torch.manual_seed(seed)\n",
    "    model = Net_CACO().to(device)\n",
    "    \n",
    "    criterion  = nn.CrossEntropyLoss()\n",
    "    \n",
    "    lr_query_key = 0.01\n",
    "    \n",
    "    lr_prediction = 0.01\n",
    "    \n",
    "    optimizer = optim.SGD([\n",
    "        {\"params\":model.key_layer.parameters(), \"lr\":lr_query_key},\n",
    "        {\"params\":model.prediction_layer.parameters(),\"lr\":lr_prediction}])\n",
    "    \n",
    "    scheduler = torch.optim.lr_scheduler.LambdaLR(\n",
    "        optimizer,\n",
    "        lr_lambda=[lambda step: 1 + (10- 1) * step / total_steps,  # key_layer\n",
    "                   lambda step: 1\n",
    "                  ])\n",
    "\n",
    "    \n",
    "    \n",
    "    running_loss =0.0\n",
    "    \n",
    "    common_token_attn = []\n",
    "    distinct_token_attn = []\n",
    "    \n",
    "    \n",
    "    \n",
    "    for epoch in tqdm(range(n_epochs)):\n",
    "        model.train()\n",
    "        \n",
    "        for j in range(n_batches):\n",
    "            \n",
    "            data = generate_data(batch_size,seq_len)\n",
    "            \n",
    "            inputs,labels = data[:,:-1].to(device),data[:,-1].to(device)\n",
    "            inputs = F.one_hot(inputs,num_classes=50).float()\n",
    "            \n",
    "            \n",
    "            optimizer.zero_grad()\n",
    "            \n",
    "            outputs,_ = model(inputs)\n",
    "            loss = criterion(outputs,labels)\n",
    "            \n",
    "            loss.backward()\n",
    "            optimizer.step()\n",
    "            scheduler.step()\n",
    "            \n",
    "            running_loss +=loss.item()\n",
    "        if (epoch+1)%100 ==0:\n",
    "            print(f'[{epoch+1},{j+1:5d}] loss:{running_loss/(100*n_batches):.3f}')\n",
    "            running_loss = 0.0\n",
    "            #generate_heatmap(model,epoch+1)\n",
    "    print(\"Finished Training\")\n",
    "    #deltas_list.append(deltas)\n",
    "    attn,preds = generate_heatmap(model,epoch+1)\n",
    "    Attn_Values.append(attn)\n",
    "    Prediction_Values.append(preds)"
   ]
  },
  {
   "cell_type": "code",
   "execution_count": 56,
   "id": "fe81edda",
   "metadata": {},
   "outputs": [
    {
     "name": "stdout",
     "output_type": "stream",
     "text": [
      "loss:0.007\n",
      "accuracy:1.000\n"
     ]
    }
   ],
   "source": [
    "correct = 0 \n",
    "total = 0\n",
    "model.eval()\n",
    "with torch.no_grad():\n",
    "    running_loss = 0.0 \n",
    "    for j in range(500):\n",
    "        data = generate_data(batch_size,seq_len)\n",
    "        inputs,labels = data[:,:-1].to(device),data[:,-1].to(device)\n",
    "        inputs = F.one_hot(inputs,num_classes=50).float()\n",
    "        outputs,attn  = model(inputs)\n",
    "        loss = criterion(outputs,labels)\n",
    "        running_loss +=loss.item()\n",
    "        correct += sum(outputs.max(1)[1]==labels).item()\n",
    "        total += len(labels)\n",
    "print(f'loss:{running_loss/(j+1):.3f}')\n",
    "print(f'accuracy:{correct/total:.3f}')"
   ]
  },
  {
   "cell_type": "code",
   "execution_count": 57,
   "id": "ed6e5265",
   "metadata": {},
   "outputs": [],
   "source": [
    "attn_values_1 = np.mean(Attn_Values,axis=0)\n",
    "prediction_1 = np.mean(Prediction_Values,axis=0)"
   ]
  },
  {
   "cell_type": "code",
   "execution_count": 58,
   "id": "84573886",
   "metadata": {},
   "outputs": [
    {
     "data": {
      "image/png": "[encoded data removed]",
      "text/plain": [
       "<Figure size 600x600 with 1 Axes>"
      ]
     },
     "metadata": {},
     "output_type": "display_data"
    }
   ],
   "source": [
    "bin_edges = [np.array([0, 0.2, 0.4, 0.6, 0.8, 1]), np.array([0, 0.2, 0.4, 0.6, 0.8, 1])]\n",
    "\n",
    "num = 64\n",
    "histograms = []\n",
    "for attn_values, prediction in zip(Attn_Values, Prediction_Values):\n",
    "    hist, _, _ = np.histogram2d(attn_values, prediction, bins=bin_edges)\n",
    "    histograms.append(hist)\n",
    "    \n",
    "# Stack and compute mean and variance\n",
    "histograms = np.stack(histograms)\n",
    "mean_hist = np.mean(histograms, axis=0)\n",
    "var_hist = np.var(histograms, axis=0)\n",
    "\n",
    "\n",
    "mean_hist_norm = np.round(mean_hist/num,1)\n",
    "\n",
    "\n",
    "# Assuming `mean_hist_norm` and `var_hist_norm` are your 2D arrays of the same shape\n",
    "# If you prefer to show std instead of variance in the annotation, convert variance to std:\n",
    "std_hist_norm = np.round(np.sqrt(var_hist/num), 1)  # If you want std, otherwise use var_hist for variance.\n",
    "\n",
    "# Create annotation labels with both mean and std (formatted as strings)\n",
    "annot_array = np.empty_like(mean_hist_norm, dtype=object)\n",
    "for i in range(mean_hist_norm.shape[0]):\n",
    "    for j in range(mean_hist_norm.shape[1]):\n",
    "        annot_array[i, j] = f\"{mean_hist_norm[i, j]:.1f}\"#\\n(±{std_hist_norm[i, j]:.1f})\"  # mean ± std\n",
    "\n",
    "# Define tick positions for edges of bins (for correct labeling)\n",
    "x_edges = np.array([0, 0.2, 0.4, 0.6, 0.8, 1])\n",
    "y_edges = np.array([0, 0.2, 0.4, 0.6, 0.8, 1])\n",
    "xtick_positions = np.arange(len(x_edges) - 1) + 1.0  # Right edges\n",
    "ytick_positions = np.arange(len(y_edges) - 1) + 1.0  # Top edges\n",
    "\n",
    "# Plot heatmap for mean values (color intensity)\n",
    "plt.figure(figsize=(6, 6))\n",
    "ax = sns.heatmap(mean_hist_norm.T, annot=annot_array.T, cmap=sns.color_palette(\"coolwarm\"), \n",
    "                 annot_kws={\"size\":18}, cbar=False, vmin=5, vmax=70,fmt=\"\")\n",
    "\n",
    "# Adjust tick positions for x and y axes (move them to the edges)\n",
    "ax.set_xticks(xtick_positions)\n",
    "ax.set_yticks(ytick_positions)\n",
    "\n",
    "# Set the labels for ticks (x and y edges)\n",
    "ax.set_xticklabels(x_edges[1:])\n",
    "ax.set_yticklabels(y_edges[1:])\n",
    "\n",
    "# Make the tick labels bold\n",
    "ax.tick_params(axis='x', labelsize=14)  # Bold x-axis labels\n",
    "ax.tick_params(axis='y', labelsize=14)  # Bold y-axis labels\n",
    "\n",
    "\n",
    "# Invert y-axis to align with typical heatmap style\n",
    "ax.invert_yaxis()\n",
    "\n",
    "# Labels and title\n",
    "plt.xlabel(r\"Distinct Token Attention\", fontweight=\"bold\", fontsize=16)\n",
    "plt.ylabel(r\"Relevant Token Probability\", fontweight=\"bold\", fontsize=16)\n",
    "#plt.title(\"Mean (±Std Dev) Heatmap\")\n",
    "\n",
    "# Save the figure\n",
    "plt.savefig(\"params_increasing_caco.pdf\", bbox_inches='tight')\n",
    "plt.show()\n",
    "\n",
    "\n",
    "\n"
   ]
  },
  {
   "cell_type": "code",
   "execution_count": null,
   "id": "c0a24f31",
   "metadata": {},
   "outputs": [],
   "source": []
  },
  {
   "cell_type": "code",
   "execution_count": 50,
   "id": "be6f461f",
   "metadata": {},
   "outputs": [
    {
     "data": {
      "text/plain": [
       "0.2"
      ]
     },
     "execution_count": 50,
     "metadata": {},
     "output_type": "execute_result"
    }
   ],
   "source": [
    "2e-1"
   ]
  },
  {
   "cell_type": "code",
   "execution_count": null,
   "id": "be1ba54f",
   "metadata": {},
   "outputs": [],
   "source": []
  }
 ],
 "metadata": {
  "kernelspec": {
   "display_name": "Python 3 (ipykernel)",
   "language": "python",
   "name": "python3"
  },
  "language_info": {
   "codemirror_mode": {
    "name": "ipython",
    "version": 3
   },
   "file_extension": ".py",
   "mimetype": "text/x-python",
   "name": "python",
   "nbconvert_exporter": "python",
   "pygments_lexer": "ipython3",
   "version": "3.8.20"
  }
 },
 "nbformat": 4,
 "nbformat_minor": 5
}
