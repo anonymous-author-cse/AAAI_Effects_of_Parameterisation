{
 "cells": [
  {
   "cell_type": "code",
   "execution_count": 7,
   "metadata": {},
   "outputs": [
    {
     "name": "stdout",
     "output_type": "stream",
     "text": [
      "cpu\n"
     ]
    }
   ],
   "source": [
    "import numpy as np\n",
    "import torch\n",
    "import torch.nn as nn\n",
    "import torch.optim as optim\n",
    "from torch.nn import functional as F\n",
    "\n",
    "from matplotlib import pyplot as plt\n",
    "from tqdm import tqdm as tqdm\n",
    "import math\n",
    "from matplotlib.colors import ListedColormap\n",
    "import seaborn as sns\n",
    "\n",
    "%matplotlib inline\n",
    "#device = torch.device(\"mps\" if torch.backends.mps.is_built() else \"cpu\")\n",
    "device = \"cpu\"\n",
    "print(device)"
   ]
  },
  {
   "cell_type": "markdown",
   "metadata": {},
   "source": [
    "## create dataset"
   ]
  },
  {
   "cell_type": "code",
   "execution_count": 8,
   "metadata": {},
   "outputs": [
    {
     "data": {
      "image/png": "[encoded data removed]",
      "text/plain": [
       "<Figure size 2520x720 with 1 Axes>"
      ]
     },
     "metadata": {
      "needs_background": "light"
     },
     "output_type": "display_data"
    }
   ],
   "source": [
    "seq_class = []\n",
    "total_tokens = 50\n",
    "offset = 10 \n",
    "\n",
    "for i in range(4):\n",
    "    temp = np.zeros(total_tokens)\n",
    "    temp[:offset] = 1\n",
    "    temp[(i+1)*offset:((i+2)*offset)] = np.arange(0.1,1.1,0.1)\n",
    "    temp = temp/sum(temp)\n",
    "    seq_class.append(temp)\n",
    "    assert(sum(seq_class[i])==1)\n",
    "plt.figure(figsize=(35,10))\n",
    "plt.imshow(np.vstack(seq_class))\n",
    "    \n",
    "def sample_sequence(next_token,seq_len):\n",
    "    '''\n",
    "    function to sample a sequence based on p(l|m,n) for given m and n.\n",
    "    '''\n",
    "    query_tokens = [5,6,7,8]\n",
    "    next_tokens = [1,2,3,4]\n",
    "    if next_token==next_tokens[0]:\n",
    "        context_tokens = np.random.choice(np.arange(50),p=seq_class[0],size=seq_len-2)\n",
    "        seq = np.append(context_tokens,[query_tokens[0],next_token])\n",
    "    if next_token==next_tokens[1]:\n",
    "        context_tokens = np.random.choice(np.arange(50),p=seq_class[1],size=seq_len-2)\n",
    "        seq = np.append(context_tokens,[query_tokens[1],next_token])\n",
    "    if next_token==next_tokens[2]:\n",
    "        context_tokens = np.random.choice(np.arange(50),p=seq_class[2],size=seq_len-2)\n",
    "        seq = np.append(context_tokens,[query_tokens[2],next_token])\n",
    "    if next_token==next_tokens[3]:\n",
    "        context_tokens = np.random.choice(np.arange(50),p=seq_class[3],size=seq_len-2)\n",
    "        seq = np.append(context_tokens,[query_tokens[3],next_token])\n",
    "    return seq\n",
    "\n",
    "def generate_data(batch_size,seq_len):\n",
    "    batch_of_seq = []\n",
    "    next_tokens = [1,2,3,4]\n",
    "    for i in range(batch_size):\n",
    "        next_token = np.random.choice(next_tokens,p=[0.25]*4)\n",
    "        generated_seq = sample_sequence(next_token,seq_len)\n",
    "        batch_of_seq.append(torch.tensor(generated_seq))\n",
    "    return torch.vstack(batch_of_seq)\n",
    "\n",
    "\n",
    "def analyse_model(model,batch_size,seq_len):\n",
    "    test_inputs = generate_data(batch_size,seq_len)\n",
    "    tinputs,tlabels  = test_inputs[:,:-1].to(device),test_inputs[:,-1].to(device)\n",
    "    \n",
    "    model.eval()\n",
    "    with torch.no_grad():\n",
    "        model_output,model_attention = model(tinputs)\n",
    "    #model_output = nn.Softmax(dim=1)(model_output)\n",
    "\n",
    "    common_tokens_attn = []\n",
    "    distinct_tokens_attn = []\n",
    "    for i in range(batch_size):\n",
    "        indices_1 = torch.logical_and(tinputs[i]>=0,tinputs[i]<10)\n",
    "        indices_2 = torch.logical_and(tinputs[i]>=10,tinputs[i]<50)\n",
    "        common_tokens_attn.append(sum(model_attention[i][indices_1]).item())\n",
    "        distinct_tokens_attn.append(sum(model_attention[i][indices_2]).item())\n",
    "    return np.mean(common_tokens_attn),np.mean(distinct_tokens_attn)\n",
    "\n",
    "\n",
    "class Net_p1(nn.Module):\n",
    "    def __init__(self):\n",
    "        super(Net_p1,self).__init__()\n",
    "        self.key_layer = nn.Linear(50,50,bias=False)\n",
    "        self.query_layer = nn.Linear(50,50,bias=False)\n",
    "        self.value_layer = nn.Linear(50,50,bias=False)\n",
    "        self.prediction_layer = nn.Linear(50,50,bias=False)\n",
    "        \n",
    "        #self.key_query_layer.weight = nn.Parameter(torch.zeros(50,50))\n",
    "        self.key_layer.weight = nn.Parameter(torch.eye(50,50)*0.000001)\n",
    "        self.query_layer.weight = nn.Parameter(torch.eye(50,50)*0.000001)\n",
    "        self.value_layer.weight = nn.Parameter(torch.eye(50,50)*0.000001)\n",
    "        self.prediction_layer.weight = nn.Parameter(torch.eye(50,50)*0.000001)\n",
    "    def forward(self,x):\n",
    "        batch,seq_len,vocab_size = x.shape\n",
    "        \n",
    "        key = self.key_layer(x)\n",
    "        query = torch.unsqueeze(self.query_layer(x[:,-1]),dim=1)\n",
    "        \n",
    "        #print(key.shape,query.shape)\n",
    "        scores = (query@key.transpose(-2,-1))*(1/math.sqrt(key.size(-1)))\n",
    "        \n",
    "        \n",
    "        \n",
    "        \n",
    "        attn = nn.Softmax(dim=-1)(scores)\n",
    "        x1 = self.value_layer(x)\n",
    "        context =torch.matmul(attn,x1)\n",
    "    \n",
    "        output = self.prediction_layer(context)\n",
    "        #print(output.shape)\n",
    "        return output[:,0,:],attn[:,0,:]\n",
    "    \n",
    "class Net_p2(nn.Module):\n",
    "    def __init__(self):\n",
    "        super(Net_p2,self).__init__()\n",
    "        self.key_layer = nn.Linear(50,50,bias=False)\n",
    "        self.query_layer = nn.Linear(50,50,bias=False)\n",
    "        #self.value_layer = nn.Linear(50,50,bias=False)\n",
    "        self.prediction_layer = nn.Linear(50,50,bias=False)\n",
    "        \n",
    "        #self.key_query_layer.weight = nn.Parameter(torch.zeros(50,50))\n",
    "        self.key_layer.weight = nn.Parameter(torch.eye(50,50)*0.000001)\n",
    "        self.query_layer.weight = nn.Parameter(torch.eye(50,50)*0.000001)\n",
    "        #self.value_layer.weight = nn.Parameter(torch.eye(50,50)*0.000001)\n",
    "        self.prediction_layer.weight = nn.Parameter(torch.eye(50,50)*0.000001)\n",
    "    def forward(self,x):\n",
    "        batch,seq_len,vocab_size = x.shape\n",
    "        \n",
    "        key = self.key_layer(x)\n",
    "        query = torch.unsqueeze(self.query_layer(x[:,-1]),dim=1)\n",
    "        \n",
    "        #print(key.shape,query.shape)\n",
    "        scores = (query@key.transpose(-2,-1))*(1/math.sqrt(key.size(-1)))\n",
    "        \n",
    "        \n",
    "        \n",
    "        \n",
    "        attn = nn.Softmax(dim=-1)(scores)\n",
    "        x1 = x #self.value_layer(x)\n",
    "        context =torch.matmul(attn,x1)\n",
    "    \n",
    "        output = self.prediction_layer(context)\n",
    "        #print(output.shape)\n",
    "        return output[:,0,:],attn[:,0,:]\n",
    "\n"
   ]
  },
  {
   "cell_type": "code",
   "execution_count": 9,
   "metadata": {},
   "outputs": [],
   "source": [
    "def generate_heatmap(model,epoch_no):\n",
    "    model.eval()\n",
    "    attn_values = []\n",
    "    prediction  = []\n",
    "    with torch.no_grad():\n",
    "        running_loss = 0.0\n",
    "        for j in range(200):\n",
    "            data = generate_data(batch_size,seq_len)\n",
    "            inputs,labels = data[:,:-1].to(device),data[:,-1].to(device)\n",
    "            indices = inputs>9\n",
    "            inputs = F.one_hot(inputs,num_classes=50).float()\n",
    "            outputs,attn  = model(inputs)\n",
    "            #print(outputs.shape)\n",
    "            outputs = nn.Softmax(dim=1)(outputs)\n",
    "            #print(outputs[np.arange(128),labels])\n",
    "            #print(outputs.shape)\n",
    "\n",
    "            for i in range(outputs.shape[0]):\n",
    "                attn_values.append(sum(attn[i][indices[i]]).item())\n",
    "                prediction.append(outputs[i,labels[i]].item())\n",
    "    return attn_values,prediction"
   ]
  },
  {
   "cell_type": "markdown",
   "metadata": {},
   "source": [
    "## FAFO"
   ]
  },
  {
   "cell_type": "code",
   "execution_count": 4,
   "metadata": {},
   "outputs": [
    {
     "name": "stderr",
     "output_type": "stream",
     "text": [
      " 10%|████                                    | 100/1000 [01:24<13:16,  1.13it/s]"
     ]
    },
    {
     "name": "stdout",
     "output_type": "stream",
     "text": [
      "[100,  100] loss:3.912\n"
     ]
    },
    {
     "name": "stderr",
     "output_type": "stream",
     "text": [
      " 20%|████████                                | 200/1000 [02:50<12:17,  1.08it/s]"
     ]
    },
    {
     "name": "stdout",
     "output_type": "stream",
     "text": [
      "[200,  100] loss:2.641\n"
     ]
    },
    {
     "name": "stderr",
     "output_type": "stream",
     "text": [
      " 30%|██████████▏                       | 300/1000 [3:55:50<48:34:54, 249.85s/it]"
     ]
    },
    {
     "name": "stdout",
     "output_type": "stream",
     "text": [
      "[300,  100] loss:1.396\n"
     ]
    },
    {
     "name": "stderr",
     "output_type": "stream",
     "text": [
      " 40%|█████████████▌                    | 400/1000 [8:01:06<28:16:54, 169.69s/it]"
     ]
    },
    {
     "name": "stdout",
     "output_type": "stream",
     "text": [
      "[400,  100] loss:1.390\n"
     ]
    },
    {
     "name": "stderr",
     "output_type": "stream",
     "text": [
      " 50%|██████████████████▌                  | 500/1000 [11:30:58<27:59,  3.36s/it]"
     ]
    },
    {
     "name": "stdout",
     "output_type": "stream",
     "text": [
      "[500,  100] loss:1.180\n"
     ]
    },
    {
     "name": "stderr",
     "output_type": "stream",
     "text": [
      " 60%|██████████████████████▏              | 600/1000 [11:32:06<05:41,  1.17it/s]"
     ]
    },
    {
     "name": "stdout",
     "output_type": "stream",
     "text": [
      "[600,  100] loss:0.161\n"
     ]
    },
    {
     "name": "stderr",
     "output_type": "stream",
     "text": [
      " 70%|█████████████████████████▉           | 700/1000 [11:33:23<04:19,  1.16it/s]"
     ]
    },
    {
     "name": "stdout",
     "output_type": "stream",
     "text": [
      "[700,  100] loss:0.031\n"
     ]
    },
    {
     "name": "stderr",
     "output_type": "stream",
     "text": [
      " 80%|█████████████████████████████▌       | 800/1000 [11:34:51<02:57,  1.13it/s]"
     ]
    },
    {
     "name": "stdout",
     "output_type": "stream",
     "text": [
      "[800,  100] loss:0.016\n"
     ]
    },
    {
     "name": "stderr",
     "output_type": "stream",
     "text": [
      " 90%|█████████████████████████████████▎   | 900/1000 [11:36:18<01:28,  1.14it/s]"
     ]
    },
    {
     "name": "stdout",
     "output_type": "stream",
     "text": [
      "[900,  100] loss:0.011\n"
     ]
    },
    {
     "name": "stderr",
     "output_type": "stream",
     "text": [
      "100%|████████████████████████████████████| 1000/1000 [11:37:45<00:00, 41.87s/it]"
     ]
    },
    {
     "name": "stdout",
     "output_type": "stream",
     "text": [
      "[1000,  100] loss:0.008\n",
      "Finished Training\n"
     ]
    },
    {
     "name": "stderr",
     "output_type": "stream",
     "text": [
      "\n",
      " 10%|████                                    | 100/1000 [01:20<13:06,  1.14it/s]"
     ]
    },
    {
     "name": "stdout",
     "output_type": "stream",
     "text": [
      "[100,  100] loss:3.912\n"
     ]
    },
    {
     "name": "stderr",
     "output_type": "stream",
     "text": [
      " 20%|████████                                | 200/1000 [02:43<12:01,  1.11it/s]"
     ]
    },
    {
     "name": "stdout",
     "output_type": "stream",
     "text": [
      "[200,  100] loss:2.641\n"
     ]
    },
    {
     "name": "stderr",
     "output_type": "stream",
     "text": [
      " 30%|████████████                            | 300/1000 [04:05<06:25,  1.82it/s]"
     ]
    },
    {
     "name": "stdout",
     "output_type": "stream",
     "text": [
      "[300,  100] loss:1.396\n"
     ]
    },
    {
     "name": "stderr",
     "output_type": "stream",
     "text": [
      " 40%|████████████████                        | 400/1000 [05:29<08:59,  1.11it/s]"
     ]
    },
    {
     "name": "stdout",
     "output_type": "stream",
     "text": [
      "[400,  100] loss:1.390\n"
     ]
    },
    {
     "name": "stderr",
     "output_type": "stream",
     "text": [
      " 50%|████████████████████                    | 500/1000 [06:59<07:33,  1.10it/s]"
     ]
    },
    {
     "name": "stdout",
     "output_type": "stream",
     "text": [
      "[500,  100] loss:1.180\n"
     ]
    },
    {
     "name": "stderr",
     "output_type": "stream",
     "text": [
      " 60%|████████████████████████                | 600/1000 [08:30<06:05,  1.10it/s]"
     ]
    },
    {
     "name": "stdout",
     "output_type": "stream",
     "text": [
      "[600,  100] loss:0.162\n"
     ]
    },
    {
     "name": "stderr",
     "output_type": "stream",
     "text": [
      " 70%|████████████████████████████            | 700/1000 [10:02<04:53,  1.02it/s]"
     ]
    },
    {
     "name": "stdout",
     "output_type": "stream",
     "text": [
      "[700,  100] loss:0.031\n"
     ]
    },
    {
     "name": "stderr",
     "output_type": "stream",
     "text": [
      " 80%|████████████████████████████████        | 800/1000 [11:39<03:15,  1.02it/s]"
     ]
    },
    {
     "name": "stdout",
     "output_type": "stream",
     "text": [
      "[800,  100] loss:0.016\n"
     ]
    },
    {
     "name": "stderr",
     "output_type": "stream",
     "text": [
      " 90%|████████████████████████████████████    | 900/1000 [13:16<01:39,  1.00it/s]"
     ]
    },
    {
     "name": "stdout",
     "output_type": "stream",
     "text": [
      "[900,  100] loss:0.011\n"
     ]
    },
    {
     "name": "stderr",
     "output_type": "stream",
     "text": [
      "100%|███████████████████████████████████████| 1000/1000 [14:53<00:00,  1.12it/s]"
     ]
    },
    {
     "name": "stdout",
     "output_type": "stream",
     "text": [
      "[1000,  100] loss:0.008\n",
      "Finished Training\n"
     ]
    },
    {
     "name": "stderr",
     "output_type": "stream",
     "text": [
      "\n",
      " 10%|████                                    | 100/1000 [01:37<14:39,  1.02it/s]"
     ]
    },
    {
     "name": "stdout",
     "output_type": "stream",
     "text": [
      "[100,  100] loss:3.912\n"
     ]
    },
    {
     "name": "stderr",
     "output_type": "stream",
     "text": [
      " 20%|████████                                | 200/1000 [03:13<13:06,  1.02it/s]"
     ]
    },
    {
     "name": "stdout",
     "output_type": "stream",
     "text": [
      "[200,  100] loss:2.641\n"
     ]
    },
    {
     "name": "stderr",
     "output_type": "stream",
     "text": [
      " 30%|████████████                            | 300/1000 [04:50<11:23,  1.02it/s]"
     ]
    },
    {
     "name": "stdout",
     "output_type": "stream",
     "text": [
      "[300,  100] loss:1.396\n"
     ]
    },
    {
     "name": "stderr",
     "output_type": "stream",
     "text": [
      " 40%|████████████████                        | 400/1000 [06:26<09:42,  1.03it/s]"
     ]
    },
    {
     "name": "stdout",
     "output_type": "stream",
     "text": [
      "[400,  100] loss:1.390\n"
     ]
    },
    {
     "name": "stderr",
     "output_type": "stream",
     "text": [
      " 50%|████████████████████                    | 500/1000 [07:29<07:52,  1.06it/s]"
     ]
    },
    {
     "name": "stdout",
     "output_type": "stream",
     "text": [
      "[500,  100] loss:1.180\n"
     ]
    },
    {
     "name": "stderr",
     "output_type": "stream",
     "text": [
      " 60%|████████████████████████                | 600/1000 [09:02<06:03,  1.10it/s]"
     ]
    },
    {
     "name": "stdout",
     "output_type": "stream",
     "text": [
      "[600,  100] loss:0.162\n"
     ]
    },
    {
     "name": "stderr",
     "output_type": "stream",
     "text": [
      " 70%|████████████████████████████            | 700/1000 [10:33<04:40,  1.07it/s]"
     ]
    },
    {
     "name": "stdout",
     "output_type": "stream",
     "text": [
      "[700,  100] loss:0.031\n"
     ]
    },
    {
     "name": "stderr",
     "output_type": "stream",
     "text": [
      " 80%|████████████████████████████████        | 800/1000 [12:06<03:18,  1.01it/s]"
     ]
    },
    {
     "name": "stdout",
     "output_type": "stream",
     "text": [
      "[800,  100] loss:0.016\n"
     ]
    },
    {
     "name": "stderr",
     "output_type": "stream",
     "text": [
      " 90%|████████████████████████████████████    | 900/1000 [13:46<01:41,  1.01s/it]"
     ]
    },
    {
     "name": "stdout",
     "output_type": "stream",
     "text": [
      "[900,  100] loss:0.011\n"
     ]
    },
    {
     "name": "stderr",
     "output_type": "stream",
     "text": [
      "100%|███████████████████████████████████████| 1000/1000 [15:25<00:00,  1.08it/s]"
     ]
    },
    {
     "name": "stdout",
     "output_type": "stream",
     "text": [
      "[1000,  100] loss:0.008\n",
      "Finished Training\n"
     ]
    },
    {
     "name": "stderr",
     "output_type": "stream",
     "text": [
      "\n"
     ]
    }
   ],
   "source": [
    "n_epochs = 1000\n",
    "n_batches = 100\n",
    "\n",
    "batch_size= 32 # actual batch size is times 4 here 128\n",
    "seq_len = 64\n",
    "\n",
    "n_seeds = [1234,1235,1236]\n",
    "\n",
    "Attn_Values  = []\n",
    "Prediction_Values = []\n",
    "#deltas_list = []\n",
    "for seed in n_seeds:\n",
    "    torch.manual_seed(seed)\n",
    "    model = Net_p1().to(device)\n",
    "    criterion = nn.CrossEntropyLoss()\n",
    "    optimizer = optim.SGD(model.parameters(),lr=1e-2)\n",
    "\n",
    "    running_loss = 0.0\n",
    "\n",
    "    common_token_attn = []\n",
    "    distinct_token_attn = []\n",
    "    #deltas = []\n",
    "    epsilon = 1e-8\n",
    "    #generate_heatmap(model,0)\n",
    "    for epoch in tqdm(range(n_epochs)):\n",
    "        model.train()\n",
    "        # record conservation error\n",
    "#         with torch.no_grad():\n",
    "#             C1 = model.value_layer.weight.matmul(model.value_layer.weight.t())\n",
    "#             C2 = model.prediction_layer.weight.t().matmul(model.prediction_layer.weight)\n",
    "            \n",
    "#             denom = max(torch.norm(C1).item(), torch.norm(C2).item(), epsilon)\n",
    "#             delta = torch.norm(C2 - C1).item() / denom\n",
    "#             deltas.append(delta)\n",
    "        for j in range(n_batches):\n",
    "            data = generate_data(batch_size,seq_len)\n",
    "\n",
    "            inputs,labels = data[:,:-1].to(device),data[:,-1].to(device)\n",
    "            inputs = F.one_hot(inputs,num_classes=50).float()\n",
    "\n",
    "            optimizer.zero_grad()\n",
    "\n",
    "            outputs,_ = model(inputs)\n",
    "            loss = criterion(outputs,labels)\n",
    "            loss.backward()\n",
    "            optimizer.step()\n",
    "            running_loss +=loss.item()\n",
    "        if (running_loss/n_batches)<=0.001:\n",
    "            break\n",
    "        if (epoch+1)%100 ==0:\n",
    "            print(f'[{epoch+1},{j+1:5d}] loss:{running_loss/(100*n_batches):.3f}')\n",
    "            running_loss = 0.0\n",
    "            #generate_heatmap(model,epoch+1)\n",
    "    print(\"Finished Training\")\n",
    "    #deltas_list.append(deltas)\n",
    "    attn,preds = generate_heatmap(model,epoch+1)\n",
    "    Attn_Values.append(attn)\n",
    "    Prediction_Values.append(preds)"
   ]
  },
  {
   "cell_type": "code",
   "execution_count": 5,
   "metadata": {},
   "outputs": [
    {
     "name": "stdout",
     "output_type": "stream",
     "text": [
      "loss:0.007\n",
      "accuracy:1.000\n"
     ]
    }
   ],
   "source": [
    "correct = 0 \n",
    "total = 0\n",
    "model.eval()\n",
    "with torch.no_grad():\n",
    "    running_loss = 0.0 \n",
    "    for j in range(500):\n",
    "        data = generate_data(batch_size,seq_len)\n",
    "        inputs,labels = data[:,:-1].to(device),data[:,-1].to(device)\n",
    "        inputs = F.one_hot(inputs,num_classes=50).float()\n",
    "        outputs,attn  = model(inputs)\n",
    "        loss = criterion(outputs,labels)\n",
    "        running_loss +=loss.item()\n",
    "        correct += sum(outputs.max(1)[1]==labels).item()\n",
    "        total += len(labels)\n",
    "print(f'loss:{running_loss/(j+1):.3f}')\n",
    "print(f'accuracy:{correct/total:.3f}')"
   ]
  },
  {
   "cell_type": "code",
   "execution_count": 6,
   "metadata": {},
   "outputs": [],
   "source": [
    "attn_values_1 = np.mean(Attn_Values,axis=0)\n",
    "prediction_1 = np.mean(Prediction_Values,axis=0)"
   ]
  },
  {
   "cell_type": "code",
   "execution_count": null,
   "metadata": {},
   "outputs": [],
   "source": [
    "bin_edges = [np.array([0, 0.2, 0.4, 0.6, 0.8, 1]), np.array([0, 0.2, 0.4, 0.6, 0.8, 1])]\n",
    "\n",
    "num = 64\n",
    "histograms = []\n",
    "for attn_values, prediction in zip(Attn_Values, Prediction_Values):\n",
    "    hist, _, _ = np.histogram2d(attn_values, prediction, bins=bin_edges)\n",
    "    histograms.append(hist)\n",
    "    \n",
    "# Stack and compute mean and variance\n",
    "histograms = np.stack(histograms)\n",
    "mean_hist = np.mean(histograms, axis=0)\n",
    "var_hist = np.var(histograms, axis=0)\n",
    "\n",
    "\n",
    "mean_hist_norm = np.round(mean_hist/num,1)\n",
    "\n",
    "\n",
    "# Assuming `mean_hist_norm` and `var_hist_norm` are your 2D arrays of the same shape\n",
    "# If you prefer to show std instead of variance in the annotation, convert variance to std:\n",
    "std_hist_norm = np.round(np.sqrt(var_hist/num), 1)  # If you want std, otherwise use var_hist for variance.\n",
    "\n",
    "# Create annotation labels with both mean and std (formatted as strings)\n",
    "annot_array = np.empty_like(mean_hist_norm, dtype=object)\n",
    "for i in range(mean_hist_norm.shape[0]):\n",
    "    for j in range(mean_hist_norm.shape[1]):\n",
    "        annot_array[i, j] = f\"{mean_hist_norm[i, j]:.1f}\"#\\n(±{std_hist_norm[i, j]:.1f})\"  # mean ± std\n",
    "\n",
    "# Define tick positions for edges of bins (for correct labeling)\n",
    "x_edges = np.array([0, 0.2, 0.4, 0.6, 0.8, 1])\n",
    "y_edges = np.array([0, 0.2, 0.4, 0.6, 0.8, 1])\n",
    "xtick_positions = np.arange(len(x_edges) - 1) + 1.0  # Right edges\n",
    "ytick_positions = np.arange(len(y_edges) - 1) + 1.0  # Top edges\n",
    "\n",
    "# Plot heatmap for mean values (color intensity)\n",
    "plt.figure(figsize=(6, 6))\n",
    "ax = sns.heatmap(mean_hist_norm.T, annot=annot_array.T, cmap=sns.color_palette(\"coolwarm\"), \n",
    "                 annot_kws={\"size\":18}, cbar=False, vmin=5, vmax=70,fmt=\"\")\n",
    "\n",
    "# Adjust tick positions for x and y axes (move them to the edges)\n",
    "ax.set_xticks(xtick_positions)\n",
    "ax.set_yticks(ytick_positions)\n",
    "\n",
    "# Set the labels for ticks (x and y edges)\n",
    "ax.set_xticklabels(x_edges[1:])\n",
    "ax.set_yticklabels(y_edges[1:])\n",
    "\n",
    "# Make the tick labels bold\n",
    "ax.tick_params(axis='x', labelsize=14)  # Bold x-axis labels\n",
    "ax.tick_params(axis='y', labelsize=14)  # Bold y-axis labels\n",
    "\n",
    "\n",
    "# Invert y-axis to align with typical heatmap style\n",
    "ax.invert_yaxis()\n",
    "\n",
    "# Labels and title\n",
    "plt.xlabel(r\"Distinct Token Attention\", fontweight=\"bold\", fontsize=16)\n",
    "plt.ylabel(r\"Relevant Token Probability\", fontweight=\"bold\", fontsize=16)\n",
    "#plt.title(\"Mean (±Std Dev) Heatmap\")\n",
    "\n",
    "# Save the figure\n",
    "plt.savefig(\"Params1.pdf\", bbox_inches='tight')\n",
    "plt.show()\n"
   ]
  },
  {
   "cell_type": "code",
   "execution_count": null,
   "metadata": {},
   "outputs": [],
   "source": [
    "# Create annotation labels with both mean and std (formatted as strings)\n",
    "annot_array = np.empty_like(std_hist_norm, dtype=object)\n",
    "for i in range(std_hist_norm.shape[0]):\n",
    "    for j in range(std_hist_norm.shape[1]):\n",
    "        annot_array[i, j] = f\"±{std_hist_norm[i, j]:.1f}\"  # mean ± std\n",
    "\n",
    "# Define tick positions for edges of bins (for correct labeling)\n",
    "x_edges = np.array([0, 0.2, 0.4, 0.6, 0.8, 1])\n",
    "y_edges = np.array([0, 0.2, 0.4, 0.6, 0.8, 1])\n",
    "xtick_positions = np.arange(len(x_edges) - 1) + 1.0  # Right edges\n",
    "ytick_positions = np.arange(len(y_edges) - 1) + 1.0  # Top edges\n",
    "\n",
    "# Plot heatmap for mean values (color intensity)\n",
    "plt.figure(figsize=(6, 6))\n",
    "ax = sns.heatmap(std_hist_norm.T, annot=annot_array.T, cmap=sns.color_palette(\"coolwarm\"), \n",
    "                 annot_kws={\"size\":18}, cbar=False, vmin=5, vmax=70,fmt=\"\")\n",
    "\n",
    "# Adjust tick positions for x and y axes (move them to the edges)\n",
    "ax.set_xticks(xtick_positions)\n",
    "ax.set_yticks(ytick_positions)\n",
    "\n",
    "# Set the labels for ticks (x and y edges)\n",
    "ax.set_xticklabels(x_edges[1:])\n",
    "ax.set_yticklabels(y_edges[1:])\n",
    "\n",
    "# Make the tick labels bold\n",
    "ax.tick_params(axis='x', labelsize=14)  # Bold x-axis labels\n",
    "ax.tick_params(axis='y', labelsize=14)  # Bold y-axis labels\n",
    "\n",
    "\n",
    "# Invert y-axis to align with typical heatmap style\n",
    "ax.invert_yaxis()\n",
    "\n",
    "# Labels and title\n",
    "plt.xlabel(r\"Distinct Token Attention\", fontweight=\"bold\", fontsize=16)\n",
    "plt.ylabel(r\"Relevant Token Probability\", fontweight=\"bold\", fontsize=16)\n",
    "#plt.title(\"Mean (±Std Dev) Heatmap\")\n",
    "\n",
    "# Save the figure\n",
    "plt.savefig(\"Params1_std.pdf\", bbox_inches='tight')\n",
    "plt.show()\n"
   ]
  },
  {
   "cell_type": "code",
   "execution_count": null,
   "metadata": {},
   "outputs": [],
   "source": []
  },
  {
   "cell_type": "code",
   "execution_count": null,
   "metadata": {},
   "outputs": [],
   "source": []
  },
  {
   "cell_type": "code",
   "execution_count": null,
   "metadata": {},
   "outputs": [],
   "source": []
  },
  {
   "cell_type": "code",
   "execution_count": null,
   "metadata": {},
   "outputs": [],
   "source": [
    "# torch.manual_seed(1234)\n",
    "# model = Net_p1().to(device)\n",
    "model.eval()\n",
    "attn_values = []\n",
    "prediction  = []\n",
    "with torch.no_grad():\n",
    "    running_loss = 0.0\n",
    "    for j in range(500):\n",
    "        data = generate_data(batch_size,seq_len)\n",
    "        inputs,labels = data[:,:-1].to(device),data[:,-1].to(device)\n",
    "        indices = inputs>9\n",
    "        inputs = F.one_hot(inputs,num_classes=50).float()\n",
    "        outputs,attn  = model(inputs)\n",
    "        #print(outputs.shape)\n",
    "        outputs = nn.Softmax(dim=1)(outputs)\n",
    "        #print(outputs[np.arange(128),labels])\n",
    "        \n",
    "        for i in range(attn.shape[0]):\n",
    "            attn_values.append(sum(attn[i][indices[i]]).item())\n",
    "            prediction.append(outputs[i,labels[i]].item())\n"
   ]
  },
  {
   "cell_type": "code",
   "execution_count": null,
   "metadata": {},
   "outputs": [],
   "source": [
    "attn_values = np.array(attn_values)[None,:]\n",
    "prediction = np.array(prediction)[None,:]"
   ]
  },
  {
   "cell_type": "code",
   "execution_count": null,
   "metadata": {},
   "outputs": [],
   "source": [
    "num = 160\n",
    "histograms = []\n",
    "for attn, pred in zip(attn_values, prediction):\n",
    "    hist, _, _ = np.histogram2d(attn, pred, bins=bin_edges)\n",
    "    histograms.append(hist)\n",
    "    \n",
    "# Stack and compute mean and variance\n",
    "histograms = np.stack(histograms)\n",
    "mean_hist = np.mean(histograms, axis=0)\n",
    "var_hist = np.var(histograms, axis=0)\n",
    "\n",
    "\n",
    "mean_hist_norm = np.round(mean_hist/num,1)\n",
    "\n",
    "\n",
    "# Assuming `mean_hist_norm` and `var_hist_norm` are your 2D arrays of the same shape\n",
    "# If you prefer to show std instead of variance in the annotation, convert variance to std:\n",
    "std_hist_norm = np.round(np.sqrt(var_hist/num), 1)  # If you want std, otherwise use var_hist for variance.\n",
    "\n",
    "# Create annotation labels with both mean and std (formatted as strings)\n",
    "annot_array = np.empty_like(mean_hist_norm, dtype=object)\n",
    "for i in range(mean_hist_norm.shape[0]):\n",
    "    for j in range(mean_hist_norm.shape[1]):\n",
    "        annot_array[i, j] = f\"{mean_hist_norm[i, j]:.1f}\" #\\n(±{std_hist_norm[i, j]:.1f})\"  # mean ± std\n",
    "\n",
    "# Define tick positions for edges of bins (for correct labeling)\n",
    "x_edges = np.array([0, 0.2, 0.4, 0.6, 0.8, 1])\n",
    "y_edges = np.array([0, 0.2, 0.4, 0.6, 0.8, 1])\n",
    "xtick_positions = np.arange(len(x_edges) - 1) + 1.0  # Right edges\n",
    "ytick_positions = np.arange(len(y_edges) - 1) + 1.0  # Top edges\n",
    "\n",
    "# Plot heatmap for mean values (color intensity)\n",
    "plt.figure(figsize=(6, 6))\n",
    "ax = sns.heatmap(mean_hist_norm.T, annot=annot_array.T, cmap=sns.color_palette(\"coolwarm\"), \n",
    "                 annot_kws={\"size\":18}, cbar=False, vmin=5, vmax=70,fmt=\"\")\n",
    "\n",
    "# Adjust tick positions for x and y axes (move them to the edges)\n",
    "ax.set_xticks(xtick_positions)\n",
    "ax.set_yticks(ytick_positions)\n",
    "\n",
    "# Set the labels for ticks (x and y edges)\n",
    "ax.set_xticklabels(x_edges[1:])\n",
    "ax.set_yticklabels(y_edges[1:])\n",
    "\n",
    "# Make the tick labels bold\n",
    "ax.tick_params(axis='x', labelsize=16)  # Bold x-axis labels\n",
    "ax.tick_params(axis='y', labelsize=16)  # Bold y-axis labels\n",
    "\n",
    "\n",
    "# Invert y-axis to align with typical heatmap style\n",
    "ax.invert_yaxis()\n",
    "\n",
    "# Labels and title\n",
    "plt.xlabel(r\"Distinct Token Attention\", fontweight=\"bold\", fontsize=16)\n",
    "plt.ylabel(r\"Relevant Token Probability\", fontweight=\"bold\", fontsize=16)\n",
    "#plt.title(\"Mean (±Std Dev) Heatmap\")\n",
    "\n",
    "# Save the figure\n",
    "plt.savefig(\"Params1_test.pdf\", bbox_inches='tight')\n",
    "plt.show()\n"
   ]
  },
  {
   "cell_type": "code",
   "execution_count": null,
   "metadata": {},
   "outputs": [],
   "source": []
  },
  {
   "cell_type": "code",
   "execution_count": null,
   "metadata": {},
   "outputs": [],
   "source": []
  },
  {
   "cell_type": "code",
   "execution_count": null,
   "metadata": {},
   "outputs": [],
   "source": []
  },
  {
   "cell_type": "code",
   "execution_count": null,
   "metadata": {},
   "outputs": [],
   "source": []
  },
  {
   "cell_type": "code",
   "execution_count": null,
   "metadata": {},
   "outputs": [],
   "source": []
  },
  {
   "cell_type": "code",
   "execution_count": null,
   "metadata": {},
   "outputs": [],
   "source": []
  },
  {
   "cell_type": "code",
   "execution_count": null,
   "metadata": {},
   "outputs": [],
   "source": []
  },
  {
   "cell_type": "markdown",
   "metadata": {},
   "source": [
    "## FACO"
   ]
  },
  {
   "cell_type": "code",
   "execution_count": null,
   "metadata": {
    "scrolled": false
   },
   "outputs": [],
   "source": [
    "n_epochs = 2500\n",
    "n_batches = 250\n",
    "\n",
    "batch_size= 32 # actual batch size is times 4 here 128\n",
    "seq_len = 64\n",
    "\n",
    "n_seeds = [1234,1235,1236]\n",
    "\n",
    "Attn_Values  = []\n",
    "Prediction_Values = []\n",
    "#deltas_list = []\n",
    "for seed in n_seeds:\n",
    "    torch.manual_seed(seed)\n",
    "    model = Net_p2().to(device)\n",
    "    criterion = nn.CrossEntropyLoss()\n",
    "    optimizer = optim.SGD(model.parameters(),lr=1e-2)\n",
    "\n",
    "    running_loss = 0.0\n",
    "\n",
    "    common_token_attn = []\n",
    "    distinct_token_attn = []\n",
    "    #deltas = []\n",
    "    epsilon = 1e-8\n",
    "    #generate_heatmap(model,0)\n",
    "    for epoch in tqdm(range(n_epochs)):\n",
    "        model.train()\n",
    "        # record conservation error\n",
    "#         with torch.no_grad():\n",
    "#             C1 = model.value_layer.weight.matmul(model.value_layer.weight.t())\n",
    "#             C2 = model.prediction_layer.weight.t().matmul(model.prediction_layer.weight)\n",
    "            \n",
    "#             denom = max(torch.norm(C1).item(), torch.norm(C2).item(), epsilon)\n",
    "#             delta = torch.norm(C2 - C1).item() / denom\n",
    "#             deltas.append(delta)\n",
    "        for j in range(n_batches):\n",
    "            data = generate_data(batch_size,seq_len)\n",
    "\n",
    "            inputs,labels = data[:,:-1].to(device),data[:,-1].to(device)\n",
    "            inputs = F.one_hot(inputs,num_classes=50).float()\n",
    "\n",
    "            optimizer.zero_grad()\n",
    "\n",
    "            outputs,_ = model(inputs)\n",
    "            loss = criterion(outputs,labels)\n",
    "            loss.backward()\n",
    "            optimizer.step()\n",
    "            running_loss +=loss.item()\n",
    "        if (running_loss/n_batches)<=0.001:\n",
    "            break\n",
    "        if (epoch+1)%100 ==0:\n",
    "            print(f'[{epoch+1},{j+1:5d}] loss:{running_loss/(100*n_batches):.3f}')\n",
    "            running_loss = 0.0\n",
    "            #generate_heatmap(model,epoch+1)\n",
    "    print(\"Finished Training\")\n",
    "    #deltas_list.append(deltas)\n",
    "    attn,preds = generate_heatmap(model,epoch+1)\n",
    "    Attn_Values.append(attn)\n",
    "    Prediction_Values.append(preds)"
   ]
  },
  {
   "cell_type": "code",
   "execution_count": null,
   "metadata": {},
   "outputs": [],
   "source": [
    "# plt.plot(deltas_list[2])\n",
    "# plt.ylabel(r\"$\\Delta$\")\n",
    "# plt.xlabel(\"epochs\")\n",
    "# plt.savefig(\"conserve_quantity.pdf\")"
   ]
  },
  {
   "cell_type": "code",
   "execution_count": null,
   "metadata": {},
   "outputs": [],
   "source": [
    "correct = 0 \n",
    "total = 0\n",
    "model.eval()\n",
    "with torch.no_grad():\n",
    "    running_loss = 0.0 \n",
    "    for j in range(500):\n",
    "        data = generate_data(batch_size,seq_len)\n",
    "        inputs,labels = data[:,:-1].to(device),data[:,-1].to(device)\n",
    "        inputs = F.one_hot(inputs,num_classes=50).float()\n",
    "        outputs,attn  = model(inputs)\n",
    "        loss = criterion(outputs,labels)\n",
    "        running_loss +=loss.item()\n",
    "        correct += sum(outputs.max(1)[1]==labels).item()\n",
    "        total += len(labels)\n",
    "print(f'loss:{running_loss/(j+1):.3f}')\n",
    "print(f'accuracy:{correct/total:.3f}')"
   ]
  },
  {
   "cell_type": "code",
   "execution_count": null,
   "metadata": {},
   "outputs": [],
   "source": [
    "#  sum(((np.array(Attn_Values[0]) + np.array(Attn_Values[1]) +  \n",
    "#        np.array(Attn_Values[2]) +  np.array(Attn_Values[3]) +  \n",
    "#        np.array(Attn_Values[4]) ) /5)>=0.4)"
   ]
  },
  {
   "cell_type": "code",
   "execution_count": null,
   "metadata": {},
   "outputs": [],
   "source": [
    "#generate_heatmap(model,epoch+1)"
   ]
  },
  {
   "cell_type": "code",
   "execution_count": null,
   "metadata": {},
   "outputs": [],
   "source": [
    "attn_values_1 = np.mean(Attn_Values,axis=0)\n",
    "prediction_1 = np.mean(Prediction_Values,axis=0)"
   ]
  },
  {
   "cell_type": "code",
   "execution_count": null,
   "metadata": {},
   "outputs": [],
   "source": [
    "bin_edges = [np.array([0, 0.2, 0.4, 0.6, 0.8, 1]), np.array([0, 0.2, 0.4, 0.6, 0.8, 1])]\n",
    "\n",
    "num = 64\n",
    "histograms = []\n",
    "for attn_values, prediction in zip(Attn_Values, Prediction_Values):\n",
    "    hist, _, _ = np.histogram2d(attn_values, prediction, bins=bin_edges)\n",
    "    histograms.append(hist)\n",
    "    \n",
    "# Stack and compute mean and variance\n",
    "histograms = np.stack(histograms)\n",
    "mean_hist = np.mean(histograms, axis=0)\n",
    "var_hist = np.var(histograms, axis=0)\n",
    "\n",
    "\n",
    "mean_hist_norm = np.round(mean_hist/num,1)\n",
    "\n",
    "\n",
    "# Assuming `mean_hist_norm` and `var_hist_norm` are your 2D arrays of the same shape\n",
    "# If you prefer to show std instead of variance in the annotation, convert variance to std:\n",
    "std_hist_norm = np.round(np.sqrt(var_hist/num), 1)  # If you want std, otherwise use var_hist for variance.\n",
    "\n",
    "# Create annotation labels with both mean and std (formatted as strings)\n",
    "annot_array = np.empty_like(mean_hist_norm, dtype=object)\n",
    "for i in range(mean_hist_norm.shape[0]):\n",
    "    for j in range(mean_hist_norm.shape[1]):\n",
    "        annot_array[i, j] = f\"{mean_hist_norm[i, j]:.1f}\"#\\n(±{std_hist_norm[i, j]:.1f})\"  # mean ± std\n",
    "\n",
    "# Define tick positions for edges of bins (for correct labeling)\n",
    "x_edges = np.array([0, 0.2, 0.4, 0.6, 0.8, 1])\n",
    "y_edges = np.array([0, 0.2, 0.4, 0.6, 0.8, 1])\n",
    "xtick_positions = np.arange(len(x_edges) - 1) + 1.0  # Right edges\n",
    "ytick_positions = np.arange(len(y_edges) - 1) + 1.0  # Top edges\n",
    "\n",
    "# Plot heatmap for mean values (color intensity)\n",
    "plt.figure(figsize=(6, 6))\n",
    "ax = sns.heatmap(mean_hist_norm.T, annot=annot_array.T, cmap=sns.color_palette(\"coolwarm\"), \n",
    "                 annot_kws={\"size\":18}, cbar=False, vmin=5, vmax=70,fmt=\"\")\n",
    "\n",
    "# Adjust tick positions for x and y axes (move them to the edges)\n",
    "ax.set_xticks(xtick_positions)\n",
    "ax.set_yticks(ytick_positions)\n",
    "\n",
    "# Set the labels for ticks (x and y edges)\n",
    "ax.set_xticklabels(x_edges[1:])\n",
    "ax.set_yticklabels(y_edges[1:])\n",
    "\n",
    "# Make the tick labels bold\n",
    "ax.tick_params(axis='x', labelsize=16)  # Bold x-axis labels\n",
    "ax.tick_params(axis='y', labelsize=16)  # Bold y-axis labels\n",
    "\n",
    "\n",
    "# Invert y-axis to align with typical heatmap style\n",
    "ax.invert_yaxis()\n",
    "\n",
    "# Labels and title\n",
    "plt.xlabel(r\"Distinct Token Attention\", fontweight=\"bold\", fontsize=16)\n",
    "plt.ylabel(r\"Relevant Token Probability\", fontweight=\"bold\", fontsize=16)\n",
    "#plt.title(\"Mean (±Std Dev) Heatmap\")\n",
    "\n",
    "# Save the figure\n",
    "plt.savefig(\"Params2.pdf\", bbox_inches='tight')\n",
    "plt.show()\n"
   ]
  },
  {
   "cell_type": "code",
   "execution_count": null,
   "metadata": {},
   "outputs": [],
   "source": [
    "# Create annotation labels with both mean and std (formatted as strings)\n",
    "annot_array = np.empty_like(std_hist_norm, dtype=object)\n",
    "for i in range(std_hist_norm.shape[0]):\n",
    "    for j in range(std_hist_norm.shape[1]):\n",
    "        annot_array[i, j] = f\"±{std_hist_norm[i, j]:.1f}\"  # mean ± std\n",
    "\n",
    "# Define tick positions for edges of bins (for correct labeling)\n",
    "x_edges = np.array([0, 0.2, 0.4, 0.6, 0.8, 1])\n",
    "y_edges = np.array([0, 0.2, 0.4, 0.6, 0.8, 1])\n",
    "xtick_positions = np.arange(len(x_edges) - 1) + 1.0  # Right edges\n",
    "ytick_positions = np.arange(len(y_edges) - 1) + 1.0  # Top edges\n",
    "\n",
    "# Plot heatmap for mean values (color intensity)\n",
    "plt.figure(figsize=(6, 6))\n",
    "ax = sns.heatmap(std_hist_norm.T, annot=annot_array.T, cmap=sns.color_palette(\"coolwarm\"), \n",
    "                 annot_kws={\"size\":18}, cbar=False, vmin=5, vmax=70,fmt=\"\")\n",
    "\n",
    "# Adjust tick positions for x and y axes (move them to the edges)\n",
    "ax.set_xticks(xtick_positions)\n",
    "ax.set_yticks(ytick_positions)\n",
    "\n",
    "# Set the labels for ticks (x and y edges)\n",
    "ax.set_xticklabels(x_edges[1:])\n",
    "ax.set_yticklabels(y_edges[1:])\n",
    "\n",
    "# Make the tick labels bold\n",
    "ax.tick_params(axis='x', labelsize=16)  # Bold x-axis labels\n",
    "ax.tick_params(axis='y', labelsize=16)  # Bold y-axis labels\n",
    "\n",
    "\n",
    "# Invert y-axis to align with typical heatmap style\n",
    "ax.invert_yaxis()\n",
    "\n",
    "# Labels and title\n",
    "plt.xlabel(r\"Distinct Token Attention\", fontweight=\"bold\", fontsize=16)\n",
    "plt.ylabel(r\"Relevant Token Probability\", fontweight=\"bold\", fontsize=16)\n",
    "#plt.title(\"Mean (±Std Dev) Heatmap\")\n",
    "\n",
    "# Save the figure\n",
    "plt.savefig(\"Params2_std.pdf\", bbox_inches='tight')\n",
    "plt.show()\n"
   ]
  },
  {
   "cell_type": "code",
   "execution_count": null,
   "metadata": {},
   "outputs": [],
   "source": []
  },
  {
   "cell_type": "code",
   "execution_count": null,
   "metadata": {},
   "outputs": [],
   "source": [
    "# torch.manual_seed(1234)\n",
    "# model = Net_p1().to(device)\n",
    "model.eval()\n",
    "attn_values = []\n",
    "prediction  = []\n",
    "with torch.no_grad():\n",
    "    running_loss = 0.0\n",
    "    for j in range(500):\n",
    "        data = generate_data(batch_size,seq_len)\n",
    "        inputs,labels = data[:,:-1].to(device),data[:,-1].to(device)\n",
    "        indices = inputs>9\n",
    "        inputs = F.one_hot(inputs,num_classes=50).float()\n",
    "        outputs,attn  = model(inputs)\n",
    "        #print(outputs.shape)\n",
    "        outputs = nn.Softmax(dim=1)(outputs)\n",
    "        #print(outputs[np.arange(128),labels])\n",
    "        \n",
    "        for i in range(attn.shape[0]):\n",
    "            attn_values.append(sum(attn[i][indices[i]]).item())\n",
    "            prediction.append(outputs[i,labels[i]].item())\n"
   ]
  },
  {
   "cell_type": "code",
   "execution_count": null,
   "metadata": {},
   "outputs": [],
   "source": [
    "128*500, len(attn_values), len(prediction),"
   ]
  },
  {
   "cell_type": "code",
   "execution_count": null,
   "metadata": {},
   "outputs": [],
   "source": [
    "attn_values = np.array(attn_values)[None,:]\n",
    "prediction = np.array(prediction)[None,:]"
   ]
  },
  {
   "cell_type": "code",
   "execution_count": null,
   "metadata": {},
   "outputs": [],
   "source": [
    "num = 160\n",
    "histograms = []\n",
    "for attn, pred in zip(attn_values, prediction):\n",
    "    hist, _, _ = np.histogram2d(attn, pred, bins=bin_edges)\n",
    "    histograms.append(hist)\n",
    "    \n",
    "# Stack and compute mean and variance\n",
    "histograms = np.stack(histograms)\n",
    "mean_hist = np.mean(histograms, axis=0)\n",
    "var_hist = np.var(histograms, axis=0)\n",
    "\n",
    "\n",
    "mean_hist_norm = np.round(mean_hist/num,1)\n",
    "\n",
    "\n",
    "# Assuming `mean_hist_norm` and `var_hist_norm` are your 2D arrays of the same shape\n",
    "# If you prefer to show std instead of variance in the annotation, convert variance to std:\n",
    "std_hist_norm = np.round(np.sqrt(var_hist/num), 1)  # If you want std, otherwise use var_hist for variance.\n",
    "\n",
    "# Create annotation labels with both mean and std (formatted as strings)\n",
    "annot_array = np.empty_like(mean_hist_norm, dtype=object)\n",
    "for i in range(mean_hist_norm.shape[0]):\n",
    "    for j in range(mean_hist_norm.shape[1]):\n",
    "        annot_array[i, j] = f\"{mean_hist_norm[i, j]:.1f}\" #\\n(±{std_hist_norm[i, j]:.1f})\"  # mean ± std\n",
    "\n",
    "# Define tick positions for edges of bins (for correct labeling)\n",
    "x_edges = np.array([0, 0.2, 0.4, 0.6, 0.8, 1])\n",
    "y_edges = np.array([0, 0.2, 0.4, 0.6, 0.8, 1])\n",
    "xtick_positions = np.arange(len(x_edges) - 1) + 1.0  # Right edges\n",
    "ytick_positions = np.arange(len(y_edges) - 1) + 1.0  # Top edges\n",
    "\n",
    "# Plot heatmap for mean values (color intensity)\n",
    "plt.figure(figsize=(6, 6))\n",
    "ax = sns.heatmap(mean_hist_norm.T, annot=annot_array.T, cmap=sns.color_palette(\"coolwarm\"), \n",
    "                 annot_kws={\"size\":18}, cbar=False, vmin=5, vmax=70,fmt=\"\")\n",
    "\n",
    "# Adjust tick positions for x and y axes (move them to the edges)\n",
    "ax.set_xticks(xtick_positions)\n",
    "ax.set_yticks(ytick_positions)\n",
    "\n",
    "# Set the labels for ticks (x and y edges)\n",
    "ax.set_xticklabels(x_edges[1:])\n",
    "ax.set_yticklabels(y_edges[1:])\n",
    "\n",
    "# Make the tick labels bold\n",
    "ax.tick_params(axis='x', labelsize=16)  # Bold x-axis labels\n",
    "ax.tick_params(axis='y', labelsize=16)  # Bold y-axis labels\n",
    "\n",
    "\n",
    "# Invert y-axis to align with typical heatmap style\n",
    "ax.invert_yaxis()\n",
    "\n",
    "# Labels and title\n",
    "plt.xlabel(r\"Distinct Token Attention\", fontweight=\"bold\", fontsize=16)\n",
    "plt.ylabel(r\"Relevant Token Probability\", fontweight=\"bold\", fontsize=16)\n",
    "#plt.title(\"Mean (±Std Dev) Heatmap\")\n",
    "\n",
    "# Save the figure\n",
    "plt.savefig(\"Params2_test.pdf\", bbox_inches='tight')\n",
    "plt.show()\n"
   ]
  },
  {
   "cell_type": "code",
   "execution_count": null,
   "metadata": {},
   "outputs": [],
   "source": [
    "\n",
    "\n",
    "# num =160\n",
    "\n",
    "\n",
    "# plt.figure(figsize=(6,6))\n",
    "# im = plt.hist2d(np.array(attn_values),np.array(prediction),[[0,0.2,0.4,0.6,0.8,1],[0,0.2,0.4,0.6,0.8,1]])\n",
    "\n",
    "\n",
    "# ax = sns.heatmap(np.round(im[0].transpose()/num,1),vmin=5,vmax=70,annot=True,fmt=\"g\",cmap=sns.color_palette(\"coolwarm\"),\n",
    "#                  yticklabels=[0.2,0.4,0.6,0.8,1.],\n",
    "#                  xticklabels=[0.2,0.4,0.6,0.8,1],annot_kws={\"size\":18},cbar=False)\n",
    "# ax.invert_yaxis()\n",
    "\n",
    "# plt.xlabel(r\"distinct token attention\",fontweight=\"bold\",fontsize=20)\n",
    "# plt.ylabel(r\"true token probability\",fontweight=\"bold\",fontsize=20) # change xlabel based on algo\n",
    "# # plt.xticks([1,2,3,4,5],weight=\"bold\",fontsize=18)\n",
    "# # plt.yticks([1,2,3,4,5],weight=\"bold\", va=\"top\",fontsize=18)\n",
    "# plt.savefig(\"heatmap_Setting_1_len_\"+str(seq_len)+\".pdf\",bbox_inches='tight')"
   ]
  },
  {
   "cell_type": "code",
   "execution_count": null,
   "metadata": {},
   "outputs": [],
   "source": [
    "# import numpy as np    \n",
    "# hist, bin_edges = np.histogram(attn_values, bins = [0,0.2,0.4,0.6,0.8,1])"
   ]
  },
  {
   "cell_type": "code",
   "execution_count": null,
   "metadata": {},
   "outputs": [],
   "source": [
    "# hist,bin_edges"
   ]
  },
  {
   "cell_type": "code",
   "execution_count": null,
   "metadata": {},
   "outputs": [],
   "source": [
    "# 7697+8278+12+13"
   ]
  },
  {
   "cell_type": "code",
   "execution_count": null,
   "metadata": {},
   "outputs": [],
   "source": [
    "# temp_1 = model.value_layer.weight.cpu().detach().numpy()\n",
    "# temp_2 = model.prediction_layer.weight.cpu().detach().numpy()"
   ]
  },
  {
   "cell_type": "code",
   "execution_count": null,
   "metadata": {},
   "outputs": [],
   "source": [
    "# U1,S1,V1 = np.linalg.svd(temp_1)\n",
    "# U2,S2,V2 = np.linalg.svd(temp_2)"
   ]
  },
  {
   "cell_type": "code",
   "execution_count": null,
   "metadata": {},
   "outputs": [],
   "source": [
    "# V1.T[:,4]@U2[:,4]"
   ]
  },
  {
   "cell_type": "code",
   "execution_count": null,
   "metadata": {},
   "outputs": [],
   "source": [
    "# S2"
   ]
  },
  {
   "cell_type": "code",
   "execution_count": null,
   "metadata": {},
   "outputs": [],
   "source": [
    "# S1"
   ]
  },
  {
   "cell_type": "code",
   "execution_count": null,
   "metadata": {},
   "outputs": [],
   "source": []
  },
  {
   "cell_type": "markdown",
   "metadata": {},
   "source": [
    "## CAFO"
   ]
  },
  {
   "cell_type": "code",
   "execution_count": null,
   "metadata": {},
   "outputs": [],
   "source": [
    "class Net_p3(nn.Module):\n",
    "    def __init__(self):\n",
    "        super(Net_p3,self).__init__()\n",
    "        self.key_query_layer = nn.Linear(50,50,bias=False)\n",
    "        #self.query_layer = nn.Linear(50,50,bias=False)\n",
    "        self.value_layer = nn.Linear(50,50,bias=False)\n",
    "        self.prediction_layer = nn.Linear(50,50,bias=False)\n",
    "        \n",
    "        #self.key_query_layer.weight = nn.Parameter(torch.zeros(50,50))\n",
    "        self.key_query_layer.weight = nn.Parameter(torch.eye(50,50)*0.000001)\n",
    "        #self.query_layer.weight = nn.Parameter(torch.eye(50,50)*0.000001)\n",
    "        self.value_layer.weight = nn.Parameter(torch.eye(50,50)*0.000001)\n",
    "        self.prediction_layer.weight = nn.Parameter(torch.eye(50,50)*0.000001)\n",
    "    def forward(self,x):\n",
    "        batch,seq_len,vocab_size = x.shape\n",
    "        \n",
    "        key = self.key_query_layer(x)\n",
    "        query = torch.unsqueeze(x[:,-1],dim=1)\n",
    "        \n",
    "        #print(key.shape,query.shape)\n",
    "        scores = (query@key.transpose(-2,-1))*(1/math.sqrt(key.size(-1)))\n",
    "        \n",
    "        \n",
    "        \n",
    "        \n",
    "        attn = nn.Softmax(dim=-1)(scores)\n",
    "        x1 = self.value_layer(x)\n",
    "        context =torch.matmul(attn,x1)\n",
    "    \n",
    "        output = self.prediction_layer(context)\n",
    "        #print(output.shape)\n",
    "        return output[:,0,:],attn[:,0,:]"
   ]
  },
  {
   "cell_type": "code",
   "execution_count": null,
   "metadata": {},
   "outputs": [],
   "source": [
    "n_epochs = 5000\n",
    "n_batches = 200\n",
    "\n",
    "batch_size= 32 # actual batch size is times 4 here 128\n",
    "seq_len = 64\n",
    "\n",
    "n_seeds = [1234,1235,1236,1237,1238]\n",
    "\n",
    "Attn_Values  = []\n",
    "Prediction_Values = []\n",
    "deltas_list = []\n",
    "for seed in n_seeds:\n",
    "    torch.manual_seed(seed)\n",
    "    model = Net_p3().to(device)\n",
    "    criterion = nn.CrossEntropyLoss()\n",
    "    optimizer = optim.SGD(model.parameters(),lr=1e-2)\n",
    "\n",
    "    running_loss = 0.0\n",
    "\n",
    "    common_token_attn = []\n",
    "    distinct_token_attn = []\n",
    "    deltas = []\n",
    "    epsilon = 1e-8\n",
    "    #generate_heatmap(model,0)\n",
    "    for epoch in tqdm(range(n_epochs)):\n",
    "        model.train()\n",
    "        # record conservation error\n",
    "        with torch.no_grad():\n",
    "            C1 = model.value_layer.weight.matmul(model.value_layer.weight.t())\n",
    "            C2 = model.prediction_layer.weight.t().matmul(model.prediction_layer.weight)\n",
    "            \n",
    "            denom = max(torch.norm(C1).item(), torch.norm(C2).item(), epsilon)\n",
    "            delta = torch.norm(C2 - C1).item() / denom\n",
    "            deltas.append(delta)\n",
    "        for j in range(n_batches):\n",
    "            data = generate_data(batch_size,seq_len)\n",
    "\n",
    "            inputs,labels = data[:,:-1].to(device),data[:,-1].to(device)\n",
    "            inputs = F.one_hot(inputs,num_classes=50).float()\n",
    "\n",
    "            optimizer.zero_grad()\n",
    "\n",
    "            outputs,_ = model(inputs)\n",
    "            loss = criterion(outputs,labels)\n",
    "            loss.backward()\n",
    "            optimizer.step()\n",
    "            running_loss +=loss.item()\n",
    "        if (running_loss/n_batches)<=0.001:\n",
    "            break\n",
    "        if (epoch+1)%100 ==0:\n",
    "            print(f'[{epoch+1},{j+1:5d}] loss:{running_loss/(100*n_batches):.3f}')\n",
    "            running_loss = 0.0\n",
    "            #generate_heatmap(model,epoch+1)\n",
    "    print(\"Finished Training\")\n",
    "    deltas_list.append(deltas)\n",
    "    attn,preds = generate_heatmap(model,epoch+1)\n",
    "    Attn_Values.append(attn)\n",
    "    Prediction_Values.append(preds)"
   ]
  },
  {
   "cell_type": "code",
   "execution_count": null,
   "metadata": {},
   "outputs": [],
   "source": [
    "plt.plot(deltas_list[2])\n",
    "plt.ylabel(r\"$\\Delta$\", fontweight=\"bold\", fontsize=16)\n",
    "plt.xlabel(\"epochs\", fontweight=\"bold\", fontsize=16)\n",
    "plt.title(r\"Conservation of W_O^{\\top}W_O-W_VW_V^{\\top}\")\n",
    "plt.savefig(\"conserve_quantity.pdf\")\n"
   ]
  },
  {
   "cell_type": "code",
   "execution_count": null,
   "metadata": {},
   "outputs": [],
   "source": [
    "correct = 0 \n",
    "total = 0\n",
    "model.eval()\n",
    "with torch.no_grad():\n",
    "    running_loss = 0.0 \n",
    "    for j in range(500):\n",
    "        data = generate_data(batch_size,seq_len)\n",
    "        inputs,labels = data[:,:-1].to(device),data[:,-1].to(device)\n",
    "        inputs = F.one_hot(inputs,num_classes=50).float()\n",
    "        outputs,attn  = model(inputs)\n",
    "        loss = criterion(outputs,labels)\n",
    "        running_loss +=loss.item()\n",
    "        correct += sum(outputs.max(1)[1]==labels).item()\n",
    "        total += len(labels)\n",
    "print(f'loss:{running_loss/(j+1):.3f}')\n",
    "print(f'accuracy:{correct/total:.3f}')"
   ]
  },
  {
   "cell_type": "code",
   "execution_count": null,
   "metadata": {},
   "outputs": [],
   "source": [
    "attn_values_1 = np.mean(Attn_Values,axis=0)\n",
    "prediction_1 = np.mean(Prediction_Values,axis=0)"
   ]
  },
  {
   "cell_type": "code",
   "execution_count": null,
   "metadata": {},
   "outputs": [],
   "source": [
    "bin_edges = [np.array([0, 0.2, 0.4, 0.6, 0.8, 1]), np.array([0, 0.2, 0.4, 0.6, 0.8, 1])]\n",
    "\n",
    "num = 64\n",
    "histograms = []\n",
    "for attn_values, prediction in zip(Attn_Values, Prediction_Values):\n",
    "    hist, _, _ = np.histogram2d(attn_values, prediction, bins=bin_edges)\n",
    "    histograms.append(hist)\n",
    "    \n",
    "# Stack and compute mean and variance\n",
    "histograms = np.stack(histograms)\n",
    "mean_hist = np.mean(histograms, axis=0)\n",
    "var_hist = np.var(histograms, axis=0)\n",
    "\n",
    "\n",
    "mean_hist_norm = np.round(mean_hist/num,1)\n",
    "\n",
    "\n",
    "# Assuming `mean_hist_norm` and `var_hist_norm` are your 2D arrays of the same shape\n",
    "# If you prefer to show std instead of variance in the annotation, convert variance to std:\n",
    "std_hist_norm = np.round(np.sqrt(var_hist/num), 1)  # If you want std, otherwise use var_hist for variance.\n",
    "\n",
    "# Create annotation labels with both mean and std (formatted as strings)\n",
    "annot_array = np.empty_like(mean_hist_norm, dtype=object)\n",
    "for i in range(mean_hist_norm.shape[0]):\n",
    "    for j in range(mean_hist_norm.shape[1]):\n",
    "        annot_array[i, j] = f\"{mean_hist_norm[i, j]:.1f}\"#\\n(±{std_hist_norm[i, j]:.1f})\"  # mean ± std\n",
    "\n",
    "# Define tick positions for edges of bins (for correct labeling)\n",
    "x_edges = np.array([0, 0.2, 0.4, 0.6, 0.8, 1])\n",
    "y_edges = np.array([0, 0.2, 0.4, 0.6, 0.8, 1])\n",
    "xtick_positions = np.arange(len(x_edges) - 1) + 1.0  # Right edges\n",
    "ytick_positions = np.arange(len(y_edges) - 1) + 1.0  # Top edges\n",
    "\n",
    "# Plot heatmap for mean values (color intensity)\n",
    "plt.figure(figsize=(6, 6))\n",
    "ax = sns.heatmap(mean_hist_norm.T, annot=annot_array.T, cmap=sns.color_palette(\"coolwarm\"), \n",
    "                 annot_kws={\"size\":18}, cbar=False, vmin=5, vmax=70,fmt=\"\")\n",
    "\n",
    "# Adjust tick positions for x and y axes (move them to the edges)\n",
    "ax.set_xticks(xtick_positions)\n",
    "ax.set_yticks(ytick_positions)\n",
    "\n",
    "# Set the labels for ticks (x and y edges)\n",
    "ax.set_xticklabels(x_edges[1:])\n",
    "ax.set_yticklabels(y_edges[1:])\n",
    "\n",
    "# Make the tick labels bold\n",
    "ax.tick_params(axis='x', labelsize=16)  # Bold x-axis labels\n",
    "ax.tick_params(axis='y', labelsize=16)  # Bold y-axis labels\n",
    "\n",
    "\n",
    "# Invert y-axis to align with typical heatmap style\n",
    "ax.invert_yaxis()\n",
    "\n",
    "# Labels and title\n",
    "plt.xlabel(r\"Distinct Token Attention\", fontweight=\"bold\", fontsize=16)\n",
    "plt.ylabel(r\"Relevant Token Probability\", fontweight=\"bold\", fontsize=16)\n",
    "#plt.title(\"Mean (±Std Dev) Heatmap\")\n",
    "\n",
    "# Save the figure\n",
    "plt.savefig(\"Params3.pdf\", bbox_inches='tight')\n",
    "plt.show()\n"
   ]
  },
  {
   "cell_type": "code",
   "execution_count": null,
   "metadata": {},
   "outputs": [],
   "source": [
    "# Create annotation labels with both mean and std (formatted as strings)\n",
    "annot_array = np.empty_like(std_hist_norm, dtype=object)\n",
    "for i in range(std_hist_norm.shape[0]):\n",
    "    for j in range(std_hist_norm.shape[1]):\n",
    "        annot_array[i, j] = f\"±{std_hist_norm[i, j]:.1f}\"  # mean ± std\n",
    "\n",
    "# Define tick positions for edges of bins (for correct labeling)\n",
    "x_edges = np.array([0, 0.2, 0.4, 0.6, 0.8, 1])\n",
    "y_edges = np.array([0, 0.2, 0.4, 0.6, 0.8, 1])\n",
    "xtick_positions = np.arange(len(x_edges) - 1) + 1.0  # Right edges\n",
    "ytick_positions = np.arange(len(y_edges) - 1) + 1.0  # Top edges\n",
    "\n",
    "# Plot heatmap for mean values (color intensity)\n",
    "plt.figure(figsize=(6, 6))\n",
    "ax = sns.heatmap(std_hist_norm.T, annot=annot_array.T, cmap=sns.color_palette(\"coolwarm\"), \n",
    "                 annot_kws={\"size\":18}, cbar=False, vmin=5, vmax=70,fmt=\"\")\n",
    "\n",
    "# Adjust tick positions for x and y axes (move them to the edges)\n",
    "ax.set_xticks(xtick_positions)\n",
    "ax.set_yticks(ytick_positions)\n",
    "\n",
    "# Set the labels for ticks (x and y edges)\n",
    "ax.set_xticklabels(x_edges[1:])\n",
    "ax.set_yticklabels(y_edges[1:])\n",
    "\n",
    "# Make the tick labels bold\n",
    "ax.tick_params(axis='x', labelsize=16)  # Bold x-axis labels\n",
    "ax.tick_params(axis='y', labelsize=16)  # Bold y-axis labels\n",
    "\n",
    "\n",
    "# Invert y-axis to align with typical heatmap style\n",
    "ax.invert_yaxis()\n",
    "\n",
    "# Labels and title\n",
    "plt.xlabel(r\"Distinct Token Attention\", fontweight=\"bold\", fontsize=16)\n",
    "plt.ylabel(r\"Relevant Token Probability\", fontweight=\"bold\", fontsize=16)\n",
    "#plt.title(\"Mean (±Std Dev) Heatmap\")\n",
    "\n",
    "# Save the figure\n",
    "plt.savefig(\"Params3_std.pdf\", bbox_inches='tight')\n",
    "plt.show()\n"
   ]
  },
  {
   "cell_type": "code",
   "execution_count": null,
   "metadata": {},
   "outputs": [],
   "source": [
    "# torch.manual_seed(1234)\n",
    "# model = Net_p1().to(device)\n",
    "model.eval()\n",
    "attn_values = []\n",
    "prediction  = []\n",
    "with torch.no_grad():\n",
    "    running_loss = 0.0\n",
    "    for j in range(500):\n",
    "        data = generate_data(batch_size,seq_len)\n",
    "        inputs,labels = data[:,:-1].to(device),data[:,-1].to(device)\n",
    "        indices = inputs>9\n",
    "        inputs = F.one_hot(inputs,num_classes=50).float()\n",
    "        outputs,attn  = model(inputs)\n",
    "        #print(outputs.shape)\n",
    "        outputs = nn.Softmax(dim=1)(outputs)\n",
    "        #print(outputs[np.arange(128),labels])\n",
    "        \n",
    "        for i in range(attn.shape[0]):\n",
    "            attn_values.append(sum(attn[i][indices[i]]).item())\n",
    "            prediction.append(outputs[i,labels[i]].item())\n"
   ]
  },
  {
   "cell_type": "code",
   "execution_count": null,
   "metadata": {},
   "outputs": [],
   "source": [
    "attn_values = np.array(attn_values)[None,:]\n",
    "prediction = np.array(prediction)[None,:]"
   ]
  },
  {
   "cell_type": "code",
   "execution_count": null,
   "metadata": {},
   "outputs": [],
   "source": [
    "num = 160\n",
    "histograms = []\n",
    "for attn, pred in zip(attn_values, prediction):\n",
    "    hist, _, _ = np.histogram2d(attn, pred, bins=bin_edges)\n",
    "    histograms.append(hist)\n",
    "    \n",
    "# Stack and compute mean and variance\n",
    "histograms = np.stack(histograms)\n",
    "mean_hist = np.mean(histograms, axis=0)\n",
    "var_hist = np.var(histograms, axis=0)\n",
    "\n",
    "\n",
    "mean_hist_norm = np.round(mean_hist/num,1)\n",
    "\n",
    "\n",
    "# Assuming `mean_hist_norm` and `var_hist_norm` are your 2D arrays of the same shape\n",
    "# If you prefer to show std instead of variance in the annotation, convert variance to std:\n",
    "std_hist_norm = np.round(np.sqrt(var_hist/num), 1)  # If you want std, otherwise use var_hist for variance.\n",
    "\n",
    "# Create annotation labels with both mean and std (formatted as strings)\n",
    "annot_array = np.empty_like(mean_hist_norm, dtype=object)\n",
    "for i in range(mean_hist_norm.shape[0]):\n",
    "    for j in range(mean_hist_norm.shape[1]):\n",
    "        annot_array[i, j] = f\"{mean_hist_norm[i, j]:.1f}\" #\\n(±{std_hist_norm[i, j]:.1f})\"  # mean ± std\n",
    "\n",
    "# Define tick positions for edges of bins (for correct labeling)\n",
    "x_edges = np.array([0, 0.2, 0.4, 0.6, 0.8, 1])# Create annotation labels with both mean and std (formatted as strings)\n",
    "\n",
    "y_edges = np.array([0, 0.2, 0.4, 0.6, 0.8, 1])\n",
    "xtick_positions = np.arange(len(x_edges) - 1) + 1.0  # Right edges\n",
    "ytick_positions = np.arange(len(y_edges) - 1) + 1.0  # Top edges\n",
    "\n",
    "# Plot heatmap for mean values (color intensity)\n",
    "plt.figure(figsize=(6, 6))\n",
    "ax = sns.heatmap(mean_hist_norm.T, annot=annot_array.T, cmap=sns.color_palette(\"coolwarm\"), \n",
    "                 annot_kws={\"size\":18}, cbar=False, vmin=5, vmax=70,fmt=\"\")\n",
    "\n",
    "# Adjust tick positions for x and y axes (move them to the edges)\n",
    "ax.set_xticks(xtick_positions)\n",
    "ax.set_yticks(ytick_positions)\n",
    "\n",
    "# Set the labels for ticks (x and y edges)\n",
    "ax.set_xticklabels(x_edges[1:])\n",
    "ax.set_yticklabels(y_edges[1:])\n",
    "\n",
    "# Make the tick labels bold\n",
    "ax.tick_params(axis='x', labelsize=16)  # Bold x-axis labels\n",
    "ax.tick_params(axis='y', labelsize=16)  # Bold y-axis labels\n",
    "\n",
    "\n",
    "# Invert y-axis to align with typical heatmap style\n",
    "ax.invert_yaxis()\n",
    "\n",
    "# Labels and title\n",
    "plt.xlabel(r\"Distinct Token Attention\", fontweight=\"bold\", fontsize=16)\n",
    "plt.ylabel(r\"Relevant Token Probability\", fontweight=\"bold\", fontsize=16)\n",
    "#plt.title(\"Mean (±Std Dev) Heatmap\")\n",
    "\n",
    "# Save the figure\n",
    "plt.savefig(\"Params3_test.pdf\", bbox_inches='tight')\n",
    "plt.show()\n"
   ]
  },
  {
   "cell_type": "code",
   "execution_count": null,
   "metadata": {},
   "outputs": [],
   "source": []
  },
  {
   "cell_type": "markdown",
   "metadata": {},
   "source": [
    "## CACO"
   ]
  },
  {
   "cell_type": "code",
   "execution_count": 10,
   "metadata": {},
   "outputs": [],
   "source": [
    "class Net_p4(nn.Module):\n",
    "    def __init__(self):\n",
    "        super(Net_p4,self).__init__()\n",
    "        self.key_query_layer = nn.Linear(50,50,bias=False)\n",
    "\n",
    "        self.prediction_layer = nn.Linear(50,50,bias=False)\n",
    "        \n",
    "\n",
    "#         self.key_query_layer.weight = nn.Parameter(torch.eye(50,50)*0.000001)\n",
    "#         self.prediction_layer.weight = nn.Parameter(torch.eye(50,50)*0.000001)\n",
    "    def forward(self,x):\n",
    "        batch,seq_len,vocab_size = x.shape\n",
    "        \n",
    "        key = self.key_query_layer(x)\n",
    "        query = torch.unsqueeze(x[:,-1],dim=1)\n",
    "        \n",
    "        #print(key.shape,query.shape)\n",
    "        scores = (query@key.transpose(-2,-1))*(1/math.sqrt(key.size(-1)))\n",
    "        \n",
    "        \n",
    "        \n",
    "        \n",
    "        attn = nn.Softmax(dim=-1)(scores)\n",
    "        x1 = x #self.value_layer(x)\n",
    "        context =torch.matmul(attn,x1)\n",
    "    \n",
    "        output = self.prediction_layer(context)\n",
    "        #print(output.shape)\n",
    "        return output[:,0,:],attn[:,0,:]"
   ]
  },
  {
   "cell_type": "code",
   "execution_count": null,
   "metadata": {},
   "outputs": [],
   "source": [
    "n_epochs = 2500\n",
    "n_batches = 200\n",
    "\n",
    "batch_size= 32 # actual batch size is times 4 here 128\n",
    "seq_len = 64\n",
    "\n",
    "n_seeds = [1234,1235,1236]\n",
    "\n",
    "Attn_Values  = []\n",
    "Prediction_Values = []\n",
    "#deltas_list = []\n",
    "for seed in n_seeds:\n",
    "    torch.manual_seed(seed)\n",
    "    model = Net_p4().to(device)\n",
    "    criterion = nn.CrossEntropyLoss()\n",
    "    optimizer = optim.SGD(model.parameters(),lr=1e-2)\n",
    "\n",
    "    running_loss = 0.0\n",
    "\n",
    "    common_token_attn = []\n",
    "    distinct_token_attn = []\n",
    "    #deltas = []\n",
    "    epsilon = 1e-8\n",
    "    #generate_heatmap(model,0)\n",
    "    for epoch in tqdm(range(n_epochs)):\n",
    "        model.train()\n",
    "        # record conservation error\n",
    "#         with torch.no_grad():\n",
    "#             C1 = model.value_layer.weight.matmul(model.value_layer.weight.t())\n",
    "#             C2 = model.prediction_layer.weight.t().matmul(model.prediction_layer.weight)\n",
    "            \n",
    "#             denom = max(torch.norm(C1).item(), torch.norm(C2).item(), epsilon)\n",
    "#             delta = torch.norm(C2 - C1).item() / denom\n",
    "#             deltas.append(delta)\n",
    "        for j in range(n_batches):\n",
    "            data = generate_data(batch_size,seq_len)\n",
    "\n",
    "            inputs,labels = data[:,:-1].to(device),data[:,-1].to(device)\n",
    "            inputs = F.one_hot(inputs,num_classes=50).float()\n",
    "\n",
    "            optimizer.zero_grad()\n",
    "\n",
    "            outputs,_ = model(inputs)\n",
    "            loss = criterion(outputs,labels)\n",
    "            loss.backward()\n",
    "            optimizer.step()\n",
    "            running_loss +=loss.item()\n",
    "        if (running_loss/n_batches)<=0.001:\n",
    "            break\n",
    "        if (epoch+1)%100 ==0:\n",
    "            print(f'[{epoch+1},{j+1:5d}] loss:{running_loss/(100*n_batches):.3f}')\n",
    "            running_loss = 0.0\n",
    "            #generate_heatmap(model,epoch+1)\n",
    "    print(\"Finished Training\")\n",
    "    #deltas_list.append(deltas)\n",
    "    attn,preds = generate_heatmap(model,epoch+1)\n",
    "    Attn_Values.append(attn)\n",
    "    Prediction_Values.append(preds)"
   ]
  },
  {
   "cell_type": "code",
   "execution_count": null,
   "metadata": {},
   "outputs": [],
   "source": [
    "correct = 0 \n",
    "total = 0\n",
    "model.eval()\n",
    "with torch.no_grad():\n",
    "    running_loss = 0.0 \n",
    "    for j in range(500):\n",
    "        data = generate_data(batch_size,seq_len)\n",
    "        inputs,labels = data[:,:-1].to(device),data[:,-1].to(device)\n",
    "        inputs = F.one_hot(inputs,num_classes=50).float()\n",
    "        outputs,attn  = model(inputs)\n",
    "        loss = criterion(outputs,labels)\n",
    "        running_loss +=loss.item()\n",
    "        correct += sum(outputs.max(1)[1]==labels).item()\n",
    "        total += len(labels)\n",
    "print(f'loss:{running_loss/(j+1):.3f}')\n",
    "print(f'accuracy:{correct/total:.3f}')"
   ]
  },
  {
   "cell_type": "code",
   "execution_count": null,
   "metadata": {},
   "outputs": [],
   "source": [
    "bin_edges = [np.array([0, 0.2, 0.4, 0.6, 0.8, 1]), np.array([0, 0.2, 0.4, 0.6, 0.8, 1])]\n",
    "\n",
    "num = 64\n",
    "histograms = []\n",
    "for attn_values, prediction in zip(Attn_Values, Prediction_Values):\n",
    "    hist, _, _ = np.histogram2d(attn_values, prediction, bins=bin_edges)\n",
    "    histograms.append(hist)\n",
    "    \n",
    "# Stack and compute mean and variance\n",
    "histograms = np.stack(histograms)\n",
    "mean_hist = np.mean(histograms, axis=0)\n",
    "var_hist = np.var(histograms, axis=0)\n",
    "\n",
    "\n",
    "mean_hist_norm = np.round(mean_hist/num,1)\n",
    "\n",
    "\n",
    "# Assuming `mean_hist_norm` and `var_hist_norm` are your 2D arrays of the same shape\n",
    "# If you prefer to show std instead of variance in the annotation, convert variance to std:\n",
    "std_hist_norm = np.round(np.sqrt(var_hist/num), 1)  # If you want std, otherwise use var_hist for variance.\n",
    "\n",
    "# Create annotation labels with both mean and std (formatted as strings)\n",
    "annot_array = np.empty_like(mean_hist_norm, dtype=object)\n",
    "for i in range(mean_hist_norm.shape[0]):\n",
    "    for j in range(mean_hist_norm.shape[1]):\n",
    "        annot_array[i, j] = f\"{mean_hist_norm[i, j]:.1f}\"#\\n(±{std_hist_norm[i, j]:.1f})\"  # mean ± std\n",
    "\n",
    "# Define tick positions for edges of bins (for correct labeling)\n",
    "x_edges = np.array([0, 0.2, 0.4, 0.6, 0.8, 1])\n",
    "y_edges = np.array([0, 0.2, 0.4, 0.6, 0.8, 1])\n",
    "xtick_positions = np.arange(len(x_edges) - 1) + 1.0  # Right edges\n",
    "ytick_positions = np.arange(len(y_edges) - 1) + 1.0  # Top edges\n",
    "\n",
    "# Plot heatmap for mean values (color intensity)\n",
    "plt.figure(figsize=(6, 6))\n",
    "ax = sns.heatmap(mean_hist_norm.T, annot=annot_array.T, cmap=sns.color_palette(\"coolwarm\"), \n",
    "                 annot_kws={\"size\":18}, cbar=False, vmin=5, vmax=70,fmt=\"\")\n",
    "\n",
    "# Adjust tick positions for x and y axes (move them to the edges)\n",
    "ax.set_xticks(xtick_positions)\n",
    "ax.set_yticks(ytick_positions)\n",
    "\n",
    "# Set the labels for ticks (x and y edges)\n",
    "ax.set_xticklabels(x_edges[1:])\n",
    "ax.set_yticklabels(y_edges[1:])\n",
    "\n",
    "# Make the tick labels bold\n",
    "ax.tick_params(axis='x', labelsize=16)  # Bold x-axis labels\n",
    "ax.tick_params(axis='y', labelsize=16)  # Bold y-axis labels\n",
    "\n",
    "\n",
    "# Invert y-axis to align with typical heatmap style\n",
    "ax.invert_yaxis()\n",
    "\n",
    "# Labels and title\n",
    "plt.xlabel(r\"Distinct Token Attention\", fontweight=\"bold\", fontsize=16)\n",
    "plt.ylabel(r\"Relevant Token Probability\", fontweight=\"bold\", fontsize=16)\n",
    "#plt.title(\"Mean (±Std Dev) Heatmap\")\n",
    "\n",
    "# Save the figure\n",
    "plt.savefig(\"Params4.pdf\", bbox_inches='tight')\n",
    "plt.show()\n"
   ]
  },
  {
   "cell_type": "code",
   "execution_count": null,
   "metadata": {},
   "outputs": [],
   "source": [
    "# Create annotation labels with both mean and std (formatted as strings)\n",
    "annot_array = np.empty_like(std_hist_norm, dtype=object)\n",
    "for i in range(std_hist_norm.shape[0]):\n",
    "    for j in range(std_hist_norm.shape[1]):\n",
    "        annot_array[i, j] = f\"±{std_hist_norm[i, j]:.1f}\"  # mean ± std\n",
    "\n",
    "# Define tick positions for edges of bins (for correct labeling)\n",
    "x_edges = np.array([0, 0.2, 0.4, 0.6, 0.8, 1])\n",
    "y_edges = np.array([0, 0.2, 0.4, 0.6, 0.8, 1])\n",
    "xtick_positions = np.arange(len(x_edges) - 1) + 1.0  # Right edges\n",
    "ytick_positions = np.arange(len(y_edges) - 1) + 1.0  # Top edges\n",
    "\n",
    "# Plot heatmap for mean values (color intensity)\n",
    "plt.figure(figsize=(6, 6))\n",
    "ax = sns.heatmap(std_hist_norm.T, annot=annot_array.T, cmap=sns.color_palette(\"coolwarm\"), \n",
    "                 annot_kws={\"size\":18}, cbar=False, vmin=5, vmax=70,fmt=\"\")\n",
    "\n",
    "# Adjust tick positions for x and y axes (move them to the edges)\n",
    "ax.set_xticks(xtick_positions)\n",
    "ax.set_yticks(ytick_positions)\n",
    "\n",
    "# Set the labels for ticks (x and y edges)\n",
    "ax.set_xticklabels(x_edges[1:])\n",
    "ax.set_yticklabels(y_edges[1:])\n",
    "\n",
    "# Make the tick labels bold\n",
    "ax.tick_params(axis='x', labelsize=16)  # Bold x-axis labels\n",
    "ax.tick_params(axis='y', labelsize=16)  # Bold y-axis labels\n",
    "\n",
    "\n",
    "# Invert y-axis to align with typical heatmap style\n",
    "ax.invert_yaxis()\n",
    "\n",
    "# Labels and title\n",
    "plt.xlabel(r\"Distinct Token Attention\", fontweight=\"bold\", fontsize=16)\n",
    "plt.ylabel(r\"Relevant Token Probability\", fontweight=\"bold\", fontsize=16)\n",
    "#plt.title(\"Mean (±Std Dev) Heatmap\")\n",
    "\n",
    "# Save the figure\n",
    "plt.savefig(\"Params4_std.pdf\", bbox_inches='tight')\n",
    "plt.show()\n"
   ]
  },
  {
   "cell_type": "code",
   "execution_count": null,
   "metadata": {},
   "outputs": [],
   "source": [
    "# torch.manual_seed(1234)\n",
    "# model = Net_p1().to(device)\n",
    "model.eval()\n",
    "attn_values = []\n",
    "prediction  = []\n",
    "with torch.no_grad():\n",
    "    running_loss = 0.0\n",
    "    for j in range(500):\n",
    "        data = generate_data(batch_size,seq_len)\n",
    "        inputs,labels = data[:,:-1].to(device),data[:,-1].to(device)\n",
    "        indices = inputs>9\n",
    "        inputs = F.one_hot(inputs,num_classes=50).float()\n",
    "        outputs,attn  = model(inputs)\n",
    "        #print(outputs.shape)\n",
    "        outputs = nn.Softmax(dim=1)(outputs)\n",
    "        #print(outputs[np.arange(128),labels])\n",
    "        \n",
    "        for i in range(attn.shape[0]):\n",
    "            attn_values.append(sum(attn[i][indices[i]]).item())\n",
    "            prediction.append(outputs[i,labels[i]].item())\n"
   ]
  },
  {
   "cell_type": "code",
   "execution_count": null,
   "metadata": {},
   "outputs": [],
   "source": [
    "attn_values = np.array(attn_values)[None,:]\n",
    "prediction = np.array(prediction)[None,:]"
   ]
  },
  {
   "cell_type": "code",
   "execution_count": null,
   "metadata": {},
   "outputs": [],
   "source": [
    "num = 160\n",
    "histograms = []\n",
    "for attn, pred in zip(attn_values, prediction):\n",
    "    hist, _, _ = np.histogram2d(attn, pred, bins=bin_edges)\n",
    "    histograms.append(hist)\n",
    "    \n",
    "# Stack and compute mean and variance\n",
    "histograms = np.stack(histograms)\n",
    "mean_hist = np.mean(histograms, axis=0)\n",
    "var_hist = np.var(histograms, axis=0)\n",
    "\n",
    "\n",
    "mean_hist_norm = np.round(mean_hist/num,1)\n",
    "\n",
    "\n",
    "# Assuming `mean_hist_norm` and `var_hist_norm` are your 2D arrays of the same shape\n",
    "# If you prefer to show std instead of variance in the annotation, convert variance to std:\n",
    "std_hist_norm = np.round(np.sqrt(var_hist/num), 1)  # If you want std, otherwise use var_hist for variance.\n",
    "\n",
    "# Create annotation labels with both mean and std (formatted as strings)\n",
    "annot_array = np.empty_like(mean_hist_norm, dtype=object)\n",
    "for i in range(mean_hist_norm.shape[0]):\n",
    "    for j in range(mean_hist_norm.shape[1]):\n",
    "        annot_array[i, j] = f\"{mean_hist_norm[i, j]:.1f}\" #\\n(±{std_hist_norm[i, j]:.1f})\"  # mean ± std\n",
    "\n",
    "# Define tick positions for edges of bins (for correct labeling)\n",
    "x_edges = np.array([0, 0.2, 0.4, 0.6, 0.8, 1])\n",
    "y_edges = np.array([0, 0.2, 0.4, 0.6, 0.8, 1])\n",
    "xtick_positions = np.arange(len(x_edges) - 1) + 1.0  # Right edges\n",
    "ytick_positions = np.arange(len(y_edges) - 1) + 1.0  # Top edges\n",
    "\n",
    "# Plot heatmap for mean values (color intensity)\n",
    "plt.figure(figsize=(6, 6))\n",
    "ax = sns.heatmap(mean_hist_norm.T, annot=annot_array.T, cmap=sns.color_palette(\"coolwarm\"), \n",
    "                 annot_kws={\"size\":18}, cbar=False, vmin=5, vmax=70,fmt=\"\")\n",
    "\n",
    "# Adjust tick positions for x and y axes (move them to the edges)\n",
    "ax.set_xticks(xtick_positions)\n",
    "ax.set_yticks(ytick_positions)\n",
    "\n",
    "# Set the labels for ticks (x and y edges)\n",
    "ax.set_xticklabels(x_edges[1:])\n",
    "ax.set_yticklabels(y_edges[1:])\n",
    "\n",
    "# Make the tick labels bold\n",
    "ax.tick_params(axis='x', labelsize=16)  # Bold x-axis labelsimport numpy as np\n",
    "ax.tick_params(axis='y', labelsize=16)  # Bold y-axis labels\n",
    "\n",
    "\n",
    "# Invert y-axis to align with typical heatmap style\n",
    "ax.invert_yaxis()\n",
    "\n",
    "# Labels and title\n",
    "plt.xlabel(r\"Distinct Token Attention\", fontweight=\"bold\", fontsize=16)\n",
    "plt.ylabel(r\"Relevant Token Probability\", fontweight=\"bold\", fontsize=16)\n",
    "#plt.title(\"Mean (±Std Dev) Heatmap\")\n",
    "\n",
    "# Save the figure\n",
    "plt.savefig(\"Params4_test.pdf\", bbox_inches='tight')\n",
    "plt.show()\n"
   ]
  },
  {
   "cell_type": "code",
   "execution_count": null,
   "metadata": {},
   "outputs": [],
   "source": []
  },
  {
   "cell_type": "code",
   "execution_count": null,
   "metadata": {},
   "outputs": [],
   "source": []
  },
  {
   "cell_type": "markdown",
   "metadata": {},
   "source": [
    "# Differential Equation Simulation"
   ]
  },
  {
   "cell_type": "code",
   "execution_count": null,
   "metadata": {},
   "outputs": [],
   "source": [
    "import numpy as np\n",
    "import matplotlib.pyplot as plt\n",
    "import matplotlib.font_manager as fm\n",
    "\n",
    "# Parameters\n",
    "m, n, b, M = 10, 3, 10, 5\n",
    "dt = 0.001\n",
    "base_T = 250  # Base simulation time\n",
    "\n",
    "# Differential equations\n",
    "def dmu_dt(mu, nu, eta1):\n",
    "    alpha = np.exp(nu) / (m * np.exp(nu) + n)\n",
    "    return (eta1 * alpha * m) / (b * (np.exp(alpha * mu) + M - 1))\n",
    "\n",
    "def dnu_dt(mu, nu, eta2):\n",
    "    alpha = np.exp(nu) / (m * np.exp(nu) + n)\n",
    "    return (eta2 * (M - 1) * (alpha - alpha**2 * (b / m)) * mu) / (b**2 * M * (np.exp(alpha * mu) + M - 1))\n",
    "\n",
    "# Simulation runner\n",
    "def run_simulation(eta1, eta2):\n",
    "    T = base_T / min(eta1, eta2)  # Increase time for slower eta\n",
    "    steps = int(T / dt)\n",
    "\n",
    "    mu = np.zeros(steps)\n",
    "    nu = np.zeros(steps)\n",
    "    mu[0] = 0\n",
    "    nu[0] = 0\n",
    "    time = np.linspace(0, T, steps)\n",
    "\n",
    "    for i in range(steps - 1):\n",
    "        mu[i+1] = mu[i] + dmu_dt(mu[i], nu[i], eta1) * dt\n",
    "        nu[i+1] = nu[i] + dnu_dt(mu[i], nu[i], eta2) * dt\n",
    "\n",
    "    time_norm = time * min(eta1, eta2)  # Normalize time by minimum eta\n",
    "\n",
    "    print(f\"=== Results for η1={eta1}, η2={eta2} ===\")\n",
    "    print(f\"Original Time: mu=[{mu[0]:.3f}, {mu[steps//2]:.3f}, {mu[-1]:.3f}], \"\n",
    "          f\"nu=[{nu[0]:.3f}, {nu[steps//2]:.3f}, {nu[-1]:.3f}]\")\n",
    "\n",
    "    return time, time_norm, mu, nu\n",
    "\n",
    "# Eta pairs and colors\n",
    "eta_pairs = [ (0.1, 1), (1, 1), (10, 1), (0.1, 10), (10, 0.1) ]\n",
    "colors = { (0.1, 1): 'blue', (1, 1): 'green', (10, 1): 'orange', (0.1, 10): 'red', (10, 0.1): 'purple' }\n",
    "# Create a font properties object with bold font weight\n",
    "font_properties = fm.FontProperties(weight='bold', size=12)\n",
    "# Run simulations\n",
    "\n",
    "results = {}\n",
    "for eta1, eta2 in eta_pairs:\n",
    "    time, time_norm, mu, nu = run_simulation(eta1, eta2)\n",
    "    results[(eta1, eta2)] = (time, time_norm, mu, nu)\n",
    "\n",
    "# Plot μ (mu) over normalized time\n",
    "plt.figure(figsize=(8, 6))\n",
    "for key in eta_pairs:\n",
    "    _, time_norm, mu, _ = results[key]\n",
    "    ratio = key[0] / key[1]\n",
    "    plt.plot(time_norm, mu, label=rf' η1/η2 = {ratio}', color=colors[key])\n",
    "#plt.title(\"μ (mu) over Normalized Time\")\n",
    "plt.xlabel(r\"Time ($t$)\",fontsize=14, fontweight='bold')\n",
    "plt.ylabel(r\"Values ($\\mu(t)$)\",fontsize=14, fontweight='bold')\n",
    "plt.legend(fontsize=12, prop=font_properties, loc='upper left')\n",
    "plt.grid()\n",
    "plt.savefig(\"mu_t.pdf\", bbox_inches='tight')\n",
    "plt.show()\n",
    "\n",
    "\n",
    "# Plot ν (nu) over normalized time\n",
    "plt.figure(figsize=(8, 6))\n",
    "for key in eta_pairs:\n",
    "    _, time_norm, _, nu = results[key]\n",
    "    ratio = key[0] / key[1]\n",
    "    plt.plot(time_norm, nu, label=rf'η1/η2 = {ratio}', color=colors[key])\n",
    "#plt.title(\"ν (nu) over Normalized Time\")\n",
    "plt.xlabel(r\"Time ($t$)\",fontsize=14, fontweight='bold')\n",
    "plt.ylabel(r\"Values ($\\nu(t)$)\",fontsize=14, fontweight='bold')\n",
    "plt.legend(fontsize=12, prop=font_properties, loc='upper left')\n",
    "plt.grid()\n",
    "plt.savefig(\"nu_t.pdf\", bbox_inches='tight')\n",
    "plt.show()\n",
    "\n"
   ]
  },
  {
   "cell_type": "code",
   "execution_count": null,
   "metadata": {},
   "outputs": [],
   "source": []
  },
  {
   "cell_type": "code",
   "execution_count": null,
   "metadata": {},
   "outputs": [],
   "source": [
    "# import numpy as np\n",
    "# import matplotlib.pyplot as plt\n",
    "\n",
    "# m, n, b, M = 10.0, 5.0, 3.0, 10.0\n",
    "# dt = 0.001\n",
    "# base_T = 500  # Base simulation time\n",
    "\n",
    "# def dmu_dt(mu, nu, eta1):\n",
    "#     alpha = np.exp(nu) / (m * np.exp(nu) + n)\n",
    "#     return (eta1 * alpha * m) / (b * (np.exp(alpha * mu) + M - 1))\n",
    "\n",
    "# def dnu_dt(mu, nu, eta2):\n",
    "#     alpha = np.exp(nu) / (m * np.exp(nu) + n)\n",
    "#     return (eta2 * (M - 1) * (alpha - alpha**2 * (b / m)) * mu) / (b**2 * M * (np.exp(alpha * mu) + M - 1))\n",
    "\n",
    "# def run_simulation(eta1, eta2):\n",
    "#     T = base_T / min(eta1, eta2)  # Increase time for slower eta\n",
    "#     steps = int(T / dt)\n",
    "\n",
    "#     mu = np.zeros(steps)\n",
    "#     nu = np.zeros(steps)\n",
    "#     mu[0] = 0\n",
    "#     nu[0] = 0\n",
    "#     time = np.linspace(0, T, steps)\n",
    "\n",
    "#     for i in range(steps - 1):\n",
    "#         mu[i+1] = mu[i] + dmu_dt(mu[i], nu[i], eta1) * dt\n",
    "#         nu[i+1] = nu[i] + dnu_dt(mu[i], nu[i], eta2) * dt\n",
    "\n",
    "#     time_norm = time * eta1\n",
    "\n",
    "#     print(f\"=== Results for η1={eta1}, η2={eta2} ===\")\n",
    "#     print(f\"Original Time: mu=[{mu[0]:.3f}, {mu[steps//2]:.3f}, {mu[-1]:.3f}], \"\n",
    "#           f\"nu=[{nu[0]:.3f}, {nu[steps//2]:.3f}, {nu[-1]:.3f}]\")\n",
    "#     #print(f\"Normalized Time: Same mu and nu values\")\n",
    "\n",
    "#     return time, time_norm, mu, nu\n",
    "\n",
    "\n",
    "# eta_pairs = [ (0.1, 1),(1, 1), (10, 1),(0.1,10),(10,0.1) ]\n",
    "# colors = {(0.1, 1): 'blue', (1, 1): 'green',(10,1):'orange',(0.1,10):'red',(10,0.1):'purple'}\n",
    "\n",
    "# results = {}\n",
    "\n",
    "# for eta1, eta2 in eta_pairs:\n",
    "#     time, time_norm, mu, nu = run_simulation(eta1, eta2)\n",
    "#     results[(eta1, eta2)] = (time, time_norm, mu, nu)\n",
    "\n",
    "# # Figure 1: μ (mu) plots\n",
    "# # plt.figure(figsize=(10, 5))\n",
    "# # for key in eta_pairs:\n",
    "# #     time, _, mu, _ = results[key]\n",
    "# #     plt.plot(time, mu, label=rf'$\\mu(t)$ η1={key[0]}, η2={key[1]}', color=colors[key])\n",
    "# # plt.title(\"Original Time Plot — μ (mu)\")\n",
    "# # plt.xlabel(\"Time\")\n",
    "# # plt.ylabel(\"Values\")\n",
    "# # plt.legend()\n",
    "# # plt.grid()\n",
    "# # plt.show()\n",
    "\n",
    "# # # Figure 2: ν (nu) plots\n",
    "# # plt.figure(figsize=(10, 5))\n",
    "# # for key in eta_pairs:\n",
    "# #     time, _, _, nu = results[key]\n",
    "# #     plt.plot(time, nu, label=rf'$\\nu(t)$ η1={key[0]}, η2={key[1]}', color=colors[key])\n",
    "# # plt.title(\"Original Time Plot — ν (nu)\")\n",
    "# # plt.xlabel(\"Time\")\n",
    "# # plt.ylabel(\"Values\")\n",
    "# # plt.legend()\n",
    "# # plt.grid()\n",
    "# # plt.show()\n",
    "\n",
    "# plt.figure(figsize=(10, 5))\n",
    "# for key in eta_pairs:\n",
    "#     _, time_norm, mu, _ = results[key]\n",
    "#     plt.plot(time_norm, mu, label=rf'$\\mu(t)$ η1={key[0]}, η2={key[1]}', color=colors[key])\n",
    "# plt.title(\"μ (mu) over Normalized Time\")\n",
    "# plt.xlabel(\"Normalized Time\")\n",
    "# plt.ylabel(\"Values\")\n",
    "# plt.legend()\n",
    "# plt.grid()\n",
    "# plt.show()\n",
    "\n",
    "# # Figure 2: ν (nu) plots\n",
    "# plt.figure(figsize=(10, 5))\n",
    "# for key in eta_pairs:\n",
    "#     _, time_norm, _, nu = results[key]\n",
    "#     plt.plot(time_norm, nu, linestyle='--', label=rf'$\\nu(t)$ η1={key[0]}, η2={key[1]}', color=colors[key])\n",
    "# plt.title(\"ν (nu) over Normalized Time\")\n",
    "# plt.xlabel(\"Normalized Time\")\n",
    "# plt.ylabel(\"Values\")\n",
    "# plt.legend()\n",
    "# plt.grid()\n",
    "# plt.show()"
   ]
  },
  {
   "cell_type": "code",
   "execution_count": null,
   "metadata": {},
   "outputs": [],
   "source": [
    "# eta_pairs = [(1, 1), (10, 10),(100,100)]\n",
    "# colors = {(1, 1): 'blue', (10, 10): 'green',(100, 100): 'orange'}\n",
    "\n",
    "# results = {}\n",
    "\n",
    "# for eta1, eta2 in eta_pairs:\n",
    "#     time, time_norm, mu, nu = run_simulation(eta1, eta2)\n",
    "#     results[(eta1, eta2)] = (time, time_norm, mu, nu)\n",
    "\n",
    "# plt.figure(figsize=(10, 5))\n",
    "# for key in eta_pairs:\n",
    "#     time, _, mu, nu = results[key]\n",
    "#     plt.plot(time, mu, label=rf'$\\mu(t)$ η1={key[0]}, η2={key[1]}', color=colors[key])\n",
    "#     plt.plot(time, nu, linestyle='--', label=rf'$\\nu(t)$ η1={key[0]}, η2={key[1]}', color=colors[key])\n",
    "# plt.title(\"Original Time Plot\")\n",
    "# plt.xlabel(\"Time\")\n",
    "# plt.ylabel(\"Values\")\n",
    "# plt.legend()\n",
    "# plt.grid()\n",
    "# plt.show()\n",
    "\n",
    "# plt.figure(figsize=(10, 5))\n",
    "# for key in eta_pairs:\n",
    "#     _, time_norm, mu, nu = results[key]\n",
    "#     plt.plot(time_norm, mu, label=rf'$\\mu(t)$ η1={key[0]}, η2={key[1]}', color=colors[key])\n",
    "#     plt.plot(time_norm, nu, linestyle='--', label=rf'$\\nu(t)$ η1={key[0]}, η2={key[1]}', color=colors[key])\n",
    "# plt.title(\"Normalized Time Plot\")\n",
    "# plt.xlabel(\"Normalized Time\")\n",
    "# plt.ylabel(\"Values\")\n",
    "# plt.legend()\n",
    "# plt.grid()\n",
    "# plt.show()"
   ]
  },
  {
   "cell_type": "code",
   "execution_count": null,
   "metadata": {},
   "outputs": [],
   "source": [
    "# eta_pairs = [(10, 1), (1, 0.1)]\n",
    "# colors = {(10, 1): 'blue', (1, 0.1): 'green'}\n",
    "\n",
    "# results = {}\n",
    "\n",
    "# for eta1, eta2 in eta_pairs:\n",
    "#     time, time_norm, mu, nu = run_simulation(eta1, eta2)\n",
    "#     results[(eta1, eta2)] = (time, time_norm, mu, nu)\n",
    "\n",
    "# # plt.figure(figsize=(10, 5))\n",
    "# # for key in eta_pairs:\n",
    "# #     time, _, mu, nu = results[key]\n",
    "# #     plt.plot(time, mu, label=rf'$\\mu(t)$ η1={key[0]}, η2={key[1]}', color=colors[key])\n",
    "# #     plt.plot(time, nu, linestyle='--', label=rf'$\\nu(t)$ η1={key[0]}, η2={key[1]}', color=colors[key])\n",
    "# # plt.title(\"Original Time Plot\")\n",
    "# # plt.xlabel(\"Time\")\n",
    "# # plt.ylabel(\"Values\")\n",
    "# # plt.legend()\n",
    "# # plt.grid()\n",
    "# # plt.show()\n",
    "\n",
    "# plt.figure(figsize=(10, 5))\n",
    "# for key in eta_pairs:\n",
    "#     _, time_norm, mu, nu = results[key]\n",
    "#     plt.plot(time_norm, mu, label=rf'$\\mu(t)$ η1={key[0]}, η2={key[1]}', color=colors[key])\n",
    "#     plt.plot(time_norm, nu, linestyle='--', label=rf'$\\nu(t)$ η1={key[0]}, η2={key[1]}', color=colors[key])\n",
    "# plt.title(\"Normalized Time Plot\")\n",
    "# plt.xlabel(\"Normalized Time\")\n",
    "# plt.ylabel(\"Values\")\n",
    "# plt.legend()\n",
    "# plt.grid()\n",
    "# plt.show()\n"
   ]
  },
  {
   "cell_type": "raw",
   "metadata": {},
   "source": []
  },
  {
   "cell_type": "code",
   "execution_count": null,
   "metadata": {},
   "outputs": [],
   "source": []
  },
  {
   "cell_type": "code",
   "execution_count": null,
   "metadata": {},
   "outputs": [],
   "source": []
  },
  {
   "cell_type": "code",
   "execution_count": 2,
   "metadata": {},
   "outputs": [
    {
     "name": "stdout",
     "output_type": "stream",
     "text": [
      "=== Results for η1=0.1, η2=1 ===\n",
      "mu: [0.000, 7.859, 14.806], nu: [0.000, 2.249, 7.921], loss: [1.609, 0.000, 0.000]\n",
      "=== Results for η1=1, η2=1 ===\n",
      "mu: [0.000, 7.295, 13.766], nu: [0.000, 0.196, 0.696], loss: [1.609, 0.671, 0.000]\n",
      "=== Results for η1=10, η2=1 ===\n",
      "mu: [0.000, 37.489, 47.186], nu: [0.000, 0.517, 0.817], loss: [1.609, 0.000, 0.000]\n"
     ]
    },
    {
     "name": "stderr",
     "output_type": "stream",
     "text": [
      "/var/folders/gl/27byknls1z5_v94kltf90q2h0000gn/T/ipykernel_27112/675647921.py:37: RuntimeWarning: overflow encountered in exp\n",
      "  loss[i+1] = np.log(1 + (M - 1) / np.exp(logits))  # Softmax cross-entropy\n"
     ]
    },
    {
     "name": "stdout",
     "output_type": "stream",
     "text": [
      "=== Results for η1=0.1, η2=10 ===\n",
      "mu: [0.000, 8.564, 15.349], nu: [0.000, 26.434, 84.842], loss: [1.609, 0.000, 0.000]\n",
      "=== Results for η1=10, η2=0.1 ===\n",
      "mu: [0.000, 71.540, 80.220], nu: [0.000, 0.189, 0.237], loss: [1.609, 0.000, 0.000]\n"
     ]
    },
    {
     "data": {
      "image/png": "[encoded data removed]",
      "text/plain": [
       "<Figure size 576x432 with 1 Axes>"
      ]
     },
     "metadata": {
      "needs_background": "light"
     },
     "output_type": "display_data"
    },
    {
     "data": {
      "image/png": "[encoded data removed]",
      "text/plain": [
       "<Figure size 576x432 with 1 Axes>"
      ]
     },
     "metadata": {
      "needs_background": "light"
     },
     "output_type": "display_data"
    },
    {
     "data": {
      "image/png": "[encoded data removed]",
      "text/plain": [
       "<Figure size 576x432 with 1 Axes>"
      ]
     },
     "metadata": {
      "needs_background": "light"
     },
     "output_type": "display_data"
    }
   ],
   "source": [
    "import numpy as np\n",
    "import matplotlib.pyplot as plt\n",
    "import matplotlib.font_manager as fm\n",
    "\n",
    "# Parameters\n",
    "m, n, b, M = 10, 3, 10, 5\n",
    "dt = 0.001\n",
    "base_T = 1000  # Base simulation time\n",
    "\n",
    "# Differential equations\n",
    "def dmu_dt(mu, nu, eta1):\n",
    "    alpha = np.exp(nu) / (m * np.exp(nu) + n)\n",
    "    return (eta1 * alpha * m) / (b * (np.exp(alpha * mu) + M - 1))\n",
    "\n",
    "def dnu_dt(mu, nu, eta2):\n",
    "    alpha = np.exp(nu) / (m * np.exp(nu) + n)\n",
    "    return (eta2 * (M - 1) * (alpha - alpha**2 * (b / m)) * mu) / (b**2 * M * (np.exp(alpha * mu) + M - 1))\n",
    "\n",
    "# Simulation runner with loss tracking\n",
    "def run_simulation(eta1, eta2):\n",
    "    T = base_T / min(eta1, eta2)  # Increase time for slower eta\n",
    "    steps = int(T / dt)\n",
    "\n",
    "    mu = np.zeros(steps)\n",
    "    nu = np.zeros(steps)\n",
    "    loss = np.zeros(steps)\n",
    "    mu[0] = 0\n",
    "    nu[0] = 0\n",
    "    loss[0] = np.log(1 + (M - 1))  # At t=0, mu=nu=0 -> logits=0\n",
    "\n",
    "    time = np.linspace(0, T, steps)\n",
    "\n",
    "    for i in range(steps - 1):\n",
    "        mu[i+1] = mu[i] + dmu_dt(mu[i], nu[i], eta1) * dt\n",
    "        nu[i+1] = nu[i] + dnu_dt(mu[i], nu[i], eta2) * dt\n",
    "        logits = mu[i+1] * nu[i+1]\n",
    "        loss[i+1] = np.log(1 + (M - 1) / np.exp(logits))  # Softmax cross-entropy\n",
    "\n",
    "    time_norm = time * min(eta1, eta2)  # Normalize time by minimum eta\n",
    "\n",
    "    print(f\"=== Results for η1={eta1}, η2={eta2} ===\")\n",
    "    print(f\"mu: [{mu[0]:.3f}, {mu[steps//2]:.3f}, {mu[-1]:.3f}], \"\n",
    "          f\"nu: [{nu[0]:.3f}, {nu[steps//2]:.3f}, {nu[-1]:.3f}], \"\n",
    "          f\"loss: [{loss[0]:.3f}, {loss[steps//2]:.3f}, {loss[-1]:.3f}]\")\n",
    "\n",
    "    return time, time_norm, mu, nu, loss\n",
    "\n",
    "# Eta pairs and color mapping\n",
    "eta_pairs = [ (0.1, 1), (1, 1), (10, 1), (0.1, 10), (10, 0.1) ]\n",
    "colors = { (0.1, 1): 'blue', (1, 1): 'green', (10, 1): 'orange', (0.1, 10): 'red', (10, 0.1): 'purple' }\n",
    "\n",
    "# Font properties\n",
    "font_properties = fm.FontProperties(weight='bold', size=12)\n",
    "\n",
    "# Run simulations and store results\n",
    "results = {}\n",
    "for eta1, eta2 in eta_pairs:\n",
    "    time, time_norm, mu, nu, loss = run_simulation(eta1, eta2)\n",
    "    results[(eta1, eta2)] = (time, time_norm, mu, nu, loss)\n",
    "\n",
    "# Plot μ (mu) over normalized time\n",
    "plt.figure(figsize=(8, 6))\n",
    "for key in eta_pairs:\n",
    "    _, time_norm, mu, _, _ = results[key]\n",
    "    ratio = key[0] / key[1]\n",
    "    plt.plot(time_norm, mu, label=rf'$\\bf{{\\eta_{{\\mathrm{{OV}}}}/\\eta_{{\\mathrm{{QK}}}} = {ratio}}}$',  color=colors[key])\n",
    "plt.xlabel(r\"Time ($t$)\", fontsize=16, fontweight='bold')\n",
    "plt.ylabel(r\"Values ($ \\bf \\mu_{\\mathrm{OV}}(t)$)\", fontsize=16, fontweight='bold')\n",
    "plt.legend(fontsize=14, prop=font_properties, loc='upper left')\n",
    "plt.grid()\n",
    "plt.savefig(\"mu_t.pdf\", bbox_inches='tight')\n",
    "plt.show()\n",
    "\n",
    "# Plot ν (nu) over normalized time\n",
    "plt.figure(figsize=(8, 6))\n",
    "for key in eta_pairs:\n",
    "    _, time_norm, _, nu, _ = results[key]\n",
    "    ratio = key[0] / key[1]\n",
    "    plt.plot(time_norm, nu, label=rf'$\\bf{{\\eta_{{\\mathrm{{OV}}}}/\\eta_{{\\mathrm{{QK}}}} = {ratio}}}$',  color=colors[key])\n",
    "plt.xlabel(r\"Time ($t$)\", fontsize=16, fontweight='bold')\n",
    "plt.ylabel(r\"Values ($\\bf \\mu_{\\mathrm{QK}}(t)$)\", fontsize=16, fontweight='bold')\n",
    "plt.legend(fontsize=14, prop=font_properties, loc='upper left')\n",
    "plt.grid()\n",
    "plt.savefig(\"nu_t.pdf\", bbox_inches='tight')\n",
    "plt.show()\n",
    "\n",
    "# Plot Loss over normalized time\n",
    "plt.figure(figsize=(8, 6))\n",
    "for key in eta_pairs:\n",
    "    _, time_norm, _, _, loss = results[key]\n",
    "    ratio = key[0] / key[1]\n",
    "    plt.plot(time_norm, loss, \n",
    "         label=rf'$\\bf{{\\eta_{{\\mathrm{{OV}}}}/\\eta_{{\\mathrm{{QK}}}} = {ratio}}}$', \n",
    "         color=colors[key])\n",
    "plt.xlabel(r\"Time ($t$)\", fontsize=16, fontweight='bold') \n",
    "plt.ylabel(\"Loss\", fontsize=16, fontweight='bold')\n",
    "plt.legend(fontsize=14, prop=font_properties, loc='upper right')\n",
    "plt.grid()\n",
    "plt.savefig(\"loss_t.pdf\", bbox_inches='tight')\n",
    "plt.show()"
   ]
  },
  {
   "cell_type": "code",
   "execution_count": 5,
   "metadata": {},
   "outputs": [],
   "source": [
    "import seaborn as sns\n",
    "import numpy as np\n",
    "from matplotlib import pyplot as plt"
   ]
  },
  {
   "cell_type": "code",
   "execution_count": 6,
   "metadata": {},
   "outputs": [],
   "source": [
    "values = [[0.0, 0.0,0.0,0.0,0.0],[0.0, 0.0,0.0,0.0,0.0],[0.0, 0.0,0.0,0.0,0.0],\n",
    "          [0.0, 0.2,0.0,0.0,0.0],[0.0, 0.0,2.6,86.9,10.5]]"
   ]
  },
  {
   "cell_type": "code",
   "execution_count": 8,
   "metadata": {},
   "outputs": [
    {
     "data": {
      "image/png": "[encoded data removed]",
      "text/plain": [
       "<Figure size 1440x1440 with 1 Axes>"
      ]
     },
     "metadata": {
      "needs_background": "light"
     },
     "output_type": "display_data"
    }
   ],
   "source": [
    "# Define tick positions for edges of bins (for correct labeling)\n",
    "x_edges = np.array([0, 0.2, 0.4, 0.6, 0.8,1])\n",
    "y_edges = np.array([0, 0.2, 0.4, 0.6, 0.8,1])\n",
    "xtick_positions = np.arange(len(x_edges) - 1) + 1.0  # Right edges\n",
    "ytick_positions = np.arange(len(y_edges) - 1) + 1.0  # Top edges\n",
    "\n",
    "# Plot heatmap for mean values (color intensity)\n",
    "plt.figure(figsize=(20, 20))\n",
    "ax = sns.heatmap(values, annot=values, cmap=sns.color_palette(\"coolwarm\"), \n",
    "                 annot_kws={\"size\":60}, cbar=False, vmin=5, vmax=70,fmt=\"\")\n",
    "\n",
    "# Adjust tick positions for x and y axes (move them to the edges)\n",
    "ax.set_xticks(xtick_positions)\n",
    "ax.set_yticks(ytick_positions)\n",
    "\n",
    "# Set the labels for ticks (x and y edges)\n",
    "ax.set_xticklabels(x_edges[1:])\n",
    "ax.set_yticklabels(y_edges[1:])\n",
    "\n",
    "# Make the tick labels bold\n",
    "ax.tick_params(axis='x', labelsize=60)  # Bold x-axis labels\n",
    "ax.tick_params(axis='y', labelsize=60)  # Bold y-axis labels\n",
    "\n",
    "\n",
    "# Invert y-axis to align with typical heatmap style\n",
    "ax.invert_yaxis()\n",
    "\n",
    "# Labels and title\n",
    "plt.xlabel(r\"Distinct Token Attention\", fontweight=\"bold\", fontsize=60)\n",
    "plt.ylabel(r\"True Token Probability\", fontweight=\"bold\", fontsize=60)\n",
    "#plt.title(\"Mean (±Std Dev) Heatmap\")\n",
    "\n",
    "# Save the figure\n",
    "plt.savefig(\"params_increasing_caco.pdf\", bbox_inches='tight')\n",
    "plt.show()"
   ]
  },
  {
   "cell_type": "code",
   "execution_count": null,
   "metadata": {},
   "outputs": [],
   "source": []
  },
  {
   "cell_type": "code",
   "execution_count": null,
   "metadata": {},
   "outputs": [],
   "source": []
  },
  {
   "cell_type": "code",
   "execution_count": null,
   "metadata": {},
   "outputs": [],
   "source": []
  }
 ],
 "metadata": {
  "kernelspec": {
   "display_name": "Python 3 (ipykernel)",
   "language": "python",
   "name": "python3"
  },
  "language_info": {
   "codemirror_mode": {
    "name": "ipython",
    "version": 3
   },
   "file_extension": ".py",
   "mimetype": "text/x-python",
   "name": "python",
   "nbconvert_exporter": "python",
   "pygments_lexer": "ipython3",
   "version": "3.8.12"
  }
 },
 "nbformat": 4,
 "nbformat_minor": 4
}
